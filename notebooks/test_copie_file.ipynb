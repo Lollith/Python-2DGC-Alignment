{
 "cells": [
  {
   "cell_type": "code",
   "execution_count": 53,
   "id": "0",
   "metadata": {},
   "outputs": [],
   "source": [
    "import os\n",
    "import shutil\n",
    "import time\n",
    "import netCDF4 as nc"
   ]
  },
  {
   "cell_type": "markdown",
   "id": "1",
   "metadata": {},
   "source": [
    "# test en local: "
   ]
  },
  {
   "cell_type": "code",
   "execution_count": 9,
   "id": "2",
   "metadata": {},
   "outputs": [],
   "source": [
    "#file_path = \"D:/GCxGC_MS/DATA/Centroid/R-L-010-817823-Tedlar.cdf\"\n",
    "#file_path = \"D:/GCxGC_MS/DATA/test_adeline/A-F-028-817822-droite-ReCIVA.cdf\"\n",
    "#file_path = \"/home/camille/Documents/app/data/input/A-F-028-817822-droite-ReCIVA.cdf\"\n",
    "#A-F-028-817822-droite-ReCIVA.cdf\n",
    "#file_path = \"D:/GCxGC_MS/DATA/test_adeline/J-A-034-751325-Tedlar.cdf\"\n",
    "file_path = \"D:/GCxGC_MS/DATA/test_adeline/P-L-007-801838-Tedlar.cdf\"\n"
   ]
  },
  {
   "cell_type": "code",
   "execution_count": 10,
   "id": "3",
   "metadata": {},
   "outputs": [],
   "source": [
    "ds = nc.Dataset(file_path)"
   ]
  },
  {
   "cell_type": "code",
   "execution_count": 11,
   "id": "4",
   "metadata": {},
   "outputs": [
    {
     "name": "stdout",
     "output_type": "stream",
     "text": [
      "Time to load variables: 12.750115156173706 s\n",
      "[ 34.01352061  39.02826774  39.96636044 ... 365.10303386 366.12875136\n",
      " 367.13799735]\n"
     ]
    }
   ],
   "source": [
    "t0 = time.time()\n",
    "mv = ds[\"mass_values\"][:]\n",
    "iv = ds[\"intensity_values\"][:]\n",
    "print(\"Time to load variables:\", time.time() - t0, \"s\")\n",
    "print(mv)"
   ]
  },
  {
   "cell_type": "markdown",
   "id": "5",
   "metadata": {},
   "source": [
    "# test sur docker"
   ]
  },
  {
   "cell_type": "code",
   "execution_count": 64,
   "id": "6",
   "metadata": {},
   "outputs": [
    {
     "name": "stdout",
     "output_type": "stream",
     "text": [
      "/app/data/test_adeline/P-L-007-801838-Tedlar.cdf\n"
     ]
    }
   ],
   "source": [
    "#file_path = \"/app/data/test_adeline/A-F-028-817822-droite-ReCIVA.cdf\"\n",
    "#file_path =\"/app/data/test_adeline/J-A-034-751325-Tedlar.cdf\"\n",
    "file_path =\"/app/data/test_adeline/P-L-007-801838-Tedlar.cdf\"\n",
    "print(file_path)"
   ]
  },
  {
   "cell_type": "code",
   "execution_count": 65,
   "id": "7",
   "metadata": {},
   "outputs": [],
   "source": [
    "ds = nc.Dataset(file_path)"
   ]
  },
  {
   "cell_type": "code",
   "execution_count": 66,
   "id": "8",
   "metadata": {},
   "outputs": [
    {
     "name": "stdout",
     "output_type": "stream",
     "text": [
      "start\n",
      "Time to load variables: 170.19684743881226 s\n"
     ]
    }
   ],
   "source": [
    "t0 = time.time()\n",
    "print(\"start\")\n",
    "mv = ds[\"mass_values\"][:]\n",
    "iv = ds[\"intensity_values\"][:]\n",
    "print(\"Time to load variables:\", time.time() - t0, \"s\")"
   ]
  },
  {
   "cell_type": "markdown",
   "id": "9",
   "metadata": {},
   "source": [
    "# test copie sur docker avant d analyser"
   ]
  },
  {
   "cell_type": "code",
   "execution_count": null,
   "id": "10",
   "metadata": {},
   "outputs": [],
   "source": [
    "source_path = file_path = \"D:/GCxGC_MS/DATA/624848_0017VE_J0.cdf\"\n",
    "tmp_path = \"/app/data/tmp\" \n",
    "if not os.path.exists(tmp_path):\n",
    "            os.makedirs(tmp_path)\n",
    "            print(f\"Created output directory: {tmp_path}\")\n",
    " "
   ]
  },
  {
   "cell_type": "code",
   "execution_count": null,
   "id": "11",
   "metadata": {},
   "outputs": [],
   "source": [
    "if not os.path.exists(tmp_path):\n",
    "    print(f\"Copying to fast access: {tmp_path}\")\n",
    "    t0 = time.time()\n",
    "    shutil.copy(source_path, tmp_path)\n",
    "    print(\"Time to copy:\", time.time() - t0, \"s\")\n",
    "else:\n",
    "    print(f\"Using cached copy: {tmp_path}\")"
   ]
  },
  {
   "cell_type": "code",
   "execution_count": null,
   "id": "12",
   "metadata": {},
   "outputs": [],
   "source": [
    "from netCDF4 import Dataset\n",
    "\n",
    "t0 = time.time()\n",
    "ds = Dataset(tmp_path)\n",
    "mass_values = ds[\"mass_values\"][:]\n",
    "intensity_values = ds[\"intensity_values\"][:]\n",
    "print(\"Time to load variables:\", time.time() - t0, \"s\")"
   ]
  },
  {
   "cell_type": "markdown",
   "id": "13",
   "metadata": {},
   "source": [
    "# test a partir d un .npy\n"
   ]
  },
  {
   "cell_type": "code",
   "execution_count": 1,
   "id": "14",
   "metadata": {},
   "outputs": [],
   "source": [
    "import numpy as np\n",
    "import time"
   ]
  },
  {
   "cell_type": "code",
   "execution_count": 2,
   "id": "15",
   "metadata": {},
   "outputs": [
    {
     "name": "stdout",
     "output_type": "stream",
     "text": [
      "/app/data/J-A-034-751325-Tedlar.npy\n"
     ]
    }
   ],
   "source": [
    "# file_path = \"D:/Dossiers Persos/Adeline/Python-2DGC-Alignment/interface_flask/converted_data/624848_0017VE_J0.npy\"\n",
    "#file_path = \"/app/data/P-L-007-801838-Tedlar.npy\"\n",
    "#file_path = \"/app/data/A-F-028-817822-droite-ReCIVA.npy\"\n",
    "file_path = \"/app/data/J-A-034-751325-Tedlar.npy\"\n",
    "print(file_path)"
   ]
  },
  {
   "cell_type": "code",
   "execution_count": 3,
   "id": "16",
   "metadata": {},
   "outputs": [
    {
     "name": "stdout",
     "output_type": "stream",
     "text": [
      "start\n",
      "Time to load variables: 51.685384035110474 s\n",
      "[34.01347879641386 39.028148437388296 39.96710463795552 ...\n",
      " 355.11481088647855 366.1160916493553 429.11286999672626]\n"
     ]
    }
   ],
   "source": [
    "t0 = time.time()\n",
    "print(\"start\")\n",
    "mass_values = np.load(file_path, allow_pickle=True).item()[\"mass_values\"]\n",
    "iv = np.load(file_path, allow_pickle=True).item()[\"intensity_values\"]\n",
    "print(\"Time to load variables:\", time.time() - t0, \"s\")\n",
    "print(mass_values)"
   ]
  },
  {
   "cell_type": "code",
   "execution_count": null,
   "id": "17",
   "metadata": {},
   "outputs": [],
   "source": []
  }
 ],
 "metadata": {
  "kernelspec": {
   "display_name": "base",
   "language": "python",
   "name": "python3"
  },
  "language_info": {
   "codemirror_mode": {
    "name": "ipython",
    "version": 3
   },
   "file_extension": ".py",
   "mimetype": "text/x-python",
   "name": "python",
   "nbconvert_exporter": "python",
   "pygments_lexer": "ipython3",
   "version": "3.12.7"
  }
 },
 "nbformat": 4,
 "nbformat_minor": 5
}
