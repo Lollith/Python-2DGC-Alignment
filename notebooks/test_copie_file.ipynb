{
 "cells": [
  {
   "cell_type": "code",
   "execution_count": null,
   "id": "0",
   "metadata": {},
   "outputs": [],
   "source": [
    "import os\n",
    "import shutil\n",
    "import time\n",
    "import netCDF4 as nc"
   ]
  },
  {
   "cell_type": "markdown",
   "id": "1",
   "metadata": {},
   "source": [
    "# test en local: "
   ]
  },
  {
   "cell_type": "code",
   "execution_count": null,
   "id": "2",
   "metadata": {},
   "outputs": [],
   "source": [
    "file_path = \"D:/GCxGC_MS/DATA/624848_0017VE_J0.cdf\""
   ]
  },
  {
   "cell_type": "code",
   "execution_count": null,
   "id": "3",
   "metadata": {},
   "outputs": [],
   "source": [
    "ds = nc.Dataset(file_path)"
   ]
  },
  {
   "cell_type": "code",
   "execution_count": null,
   "id": "4",
   "metadata": {},
   "outputs": [],
   "source": [
    "t0 = time.time()\n",
    "mv = ds[\"mass_values\"][:]\n",
    "iv = ds[\"intensity_values\"][:]\n",
    "print(\"Time to load variables:\", time.time() - t0, \"s\")"
   ]
  },
  {
   "cell_type": "markdown",
   "id": "5",
   "metadata": {},
   "source": [
    "# test sur docker"
   ]
  },
  {
   "cell_type": "code",
   "execution_count": null,
   "id": "6",
   "metadata": {},
   "outputs": [],
   "source": [
    "file_path = \"/app/data/624848_0017VE_J0.cdf\""
   ]
  },
  {
   "cell_type": "code",
   "execution_count": null,
   "id": "7",
   "metadata": {},
   "outputs": [],
   "source": [
    "ds = nc.Dataset(file_path)"
   ]
  },
  {
   "cell_type": "code",
   "execution_count": null,
   "id": "8",
   "metadata": {},
   "outputs": [],
   "source": [
    "t0 = time.time()\n",
    "mv = ds[\"mass_values\"][:]\n",
    "iv = ds[\"intensity_values\"][:]\n",
    "print(\"Time to load variables:\", time.time() - t0, \"s\")"
   ]
  },
  {
   "cell_type": "markdown",
   "id": "9",
   "metadata": {},
   "source": [
    "# test copie sur docker avant d analyser"
   ]
  },
  {
   "cell_type": "code",
   "execution_count": null,
   "id": "10",
   "metadata": {},
   "outputs": [],
   "source": [
    "source_path = file_path = \"D:/GCxGC_MS/DATA/624848_0017VE_J0.cdf\"\n",
    "tmp_path = \"/app/data/tmp\"  # tmp a creer ?"
   ]
  },
  {
   "cell_type": "code",
   "execution_count": null,
   "id": "11",
   "metadata": {},
   "outputs": [],
   "source": [
    "if not os.path.exists(tmp_path):\n",
    "    print(f\"Copying to fast access: {tmp_path}\")\n",
    "    t0 = time.time()\n",
    "    shutil.copy(source_path, tmp_path)\n",
    "    print(\"Time to copy:\", time.time() - t0, \"s\")\n",
    "else:\n",
    "    print(f\"Using cached copy: {tmp_path}\")"
   ]
  },
  {
   "cell_type": "code",
   "execution_count": null,
   "id": "12",
   "metadata": {},
   "outputs": [],
   "source": [
    "from netCDF4 import Dataset\n",
    "\n",
    "t0 = time.time()\n",
    "ds = Dataset(tmp_path)\n",
    "mass_values = ds[\"mass_values\"][:]\n",
    "intensity_values = ds[\"intensity_values\"][:]\n",
    "print(\"Time to load variables:\", time.time() - t0, \"s\")"
   ]
  }
 ],
 "metadata": {
  "language_info": {
   "name": "python"
  }
 },
 "nbformat": 4,
 "nbformat_minor": 5
}
