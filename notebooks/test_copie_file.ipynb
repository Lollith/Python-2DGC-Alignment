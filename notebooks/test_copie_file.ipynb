{
 "cells": [
  {
   "cell_type": "code",
   "execution_count": null,
   "id": "0",
   "metadata": {},
   "outputs": [],
   "source": [
    "import os\n",
    "import shutil\n",
    "import time\n",
    "import netCDF4 as nc"
   ]
  },
  {
   "cell_type": "markdown",
   "id": "1",
   "metadata": {},
   "source": [
    "# test en local: "
   ]
  },
  {
   "cell_type": "code",
   "execution_count": null,
   "id": "2",
   "metadata": {},
   "outputs": [],
   "source": [
    "#file_path = \"D:/GCxGC_MS/DATA/Centroid/R-L-010-817823-Tedlar.cdf\"\n",
    "#file_path = \"D:/GCxGC_MS/DATA/test_adeline/A-F-028-817822-droite-ReCIVA.cdf\"\n",
    "#file_path = \"/home/camille/Documents/app/data/input/A-F-028-817822-droite-ReCIVA.cdf\"\n",
    "#A-F-028-817822-droite-ReCIVA.cdf\n",
    "#file_path = \"D:/GCxGC_MS/DATA/test_adeline/J-A-034-751325-Tedlar.cdf\"\n",
    "file_path = \"D:/GCxGC_MS/DATA/test_adeline/P-L-007-801838-Tedlar.cdf\"\n"
   ]
  },
  {
   "cell_type": "code",
   "execution_count": null,
   "id": "3",
   "metadata": {},
   "outputs": [],
   "source": [
    "ds = nc.Dataset(file_path)"
   ]
  },
  {
   "cell_type": "code",
   "execution_count": null,
   "id": "4",
   "metadata": {},
   "outputs": [],
   "source": [
    "t0 = time.time()\n",
    "mv = ds[\"mass_values\"][:]\n",
    "iv = ds[\"intensity_values\"][:]\n",
    "print(\"Time to load variables:\", time.time() - t0, \"s\")\n",
    "print(mv)"
   ]
  },
  {
   "cell_type": "markdown",
   "id": "5",
   "metadata": {},
   "source": [
    "# test sur docker"
   ]
  },
  {
   "cell_type": "code",
   "execution_count": null,
   "id": "6",
   "metadata": {},
   "outputs": [],
   "source": [
    "#file_path = \"/app/data/test_adeline/A-F-028-817822-droite-ReCIVA.cdf\"\n",
    "#file_path =\"/app/data/test_adeline/J-A-034-751325-Tedlar.cdf\"\n",
    "file_path =\"/app/data/test_adeline/P-L-007-801838-Tedlar.cdf\"\n",
    "print(file_path)"
   ]
  },
  {
   "cell_type": "code",
   "execution_count": null,
   "id": "7",
   "metadata": {},
   "outputs": [],
   "source": [
    "ds = nc.Dataset(file_path)"
   ]
  },
  {
   "cell_type": "code",
   "execution_count": null,
   "id": "8",
   "metadata": {},
   "outputs": [],
   "source": [
    "t0 = time.time()\n",
    "print(\"start\")\n",
    "mv = ds[\"mass_values\"][:]\n",
    "iv = ds[\"intensity_values\"][:]\n",
    "print(\"Time to load variables:\", time.time() - t0, \"s\")"
   ]
  },
  {
   "cell_type": "markdown",
   "id": "9",
   "metadata": {},
   "source": [
    "# test copie sur docker avant d analyser"
   ]
  },
  {
   "cell_type": "code",
   "execution_count": null,
   "id": "10",
   "metadata": {},
   "outputs": [],
   "source": [
    "source_path = file_path = \"D:/GCxGC_MS/DATA/624848_0017VE_J0.cdf\"\n",
    "tmp_path = \"/app/data/tmp\" \n",
    "if not os.path.exists(tmp_path):\n",
    "            os.makedirs(tmp_path)\n",
    "            print(f\"Created output directory: {tmp_path}\")\n",
    " "
   ]
  },
  {
   "cell_type": "code",
   "execution_count": null,
   "id": "11",
   "metadata": {},
   "outputs": [],
   "source": [
    "if not os.path.exists(tmp_path):\n",
    "    print(f\"Copying to fast access: {tmp_path}\")\n",
    "    t0 = time.time()\n",
    "    shutil.copy(source_path, tmp_path)\n",
    "    print(\"Time to copy:\", time.time() - t0, \"s\")\n",
    "else:\n",
    "    print(f\"Using cached copy: {tmp_path}\")"
   ]
  },
  {
   "cell_type": "code",
   "execution_count": null,
   "id": "12",
   "metadata": {},
   "outputs": [],
   "source": [
    "from netCDF4 import Dataset\n",
    "\n",
    "t0 = time.time()\n",
    "ds = Dataset(tmp_path)\n",
    "mass_values = ds[\"mass_values\"][:]\n",
    "intensity_values = ds[\"intensity_values\"][:]\n",
    "print(\"Time to load variables:\", time.time() - t0, \"s\")"
   ]
  },
  {
   "cell_type": "markdown",
   "id": "13",
   "metadata": {},
   "source": [
    "# test a partir d un .npy\n"
   ]
  },
  {
   "cell_type": "code",
   "execution_count": null,
   "id": "14",
   "metadata": {},
   "outputs": [],
   "source": [
    "import numpy as np\n",
    "import time"
   ]
  },
  {
   "cell_type": "code",
   "execution_count": null,
   "id": "15",
   "metadata": {},
   "outputs": [],
   "source": [
    "# file_path = \"D:/Dossiers Persos/Adeline/Python-2DGC-Alignment/interface_flask/converted_data/624848_0017VE_J0.npy\"\n",
    "#file_path = \"/app/data/P-L-007-801838-Tedlar.npy\"\n",
    "#file_path = \"/app/data/A-F-028-817822-droite-ReCIVA.npy\"\n",
    "file_path = \"/app/data/J-A-034-751325-Tedlar.npy\"\n",
    "print(file_path)"
   ]
  },
  {
   "cell_type": "code",
   "execution_count": null,
   "id": "16",
   "metadata": {},
   "outputs": [],
   "source": [
    "t0 = time.time()\n",
    "print(\"start\")\n",
    "mass_values = np.load(file_path, allow_pickle=True).item()[\"mass_values\"]\n",
    "iv = np.load(file_path, allow_pickle=True).item()[\"intensity_values\"]\n",
    "print(\"Time to load variables:\", time.time() - t0, \"s\")\n",
    "print(mass_values)"
   ]
  },
  {
   "cell_type": "markdown",
   "id": "37e06868",
   "metadata": {},
   "source": [
    "# test a partir dun .h5"
   ]
  },
  {
   "cell_type": "code",
   "execution_count": 5,
   "id": "174a1074",
   "metadata": {},
   "outputs": [
    {
     "name": "stdout",
     "output_type": "stream",
     "text": [
      "Collecting h5py\n",
      "  Downloading h5py-3.13.0-cp311-cp311-manylinux_2_17_x86_64.manylinux2014_x86_64.whl.metadata (2.5 kB)\n",
      "Requirement already satisfied: numpy>=1.19.3 in /usr/local/lib/python3.11/site-packages (from h5py) (2.0.2)\n",
      "Downloading h5py-3.13.0-cp311-cp311-manylinux_2_17_x86_64.manylinux2014_x86_64.whl (4.5 MB)\n",
      "\u001b[2K   \u001b[90m━━━━━━━━━━━━━━━━━━━━━━━━━━━━━━━━━━━━━━━━\u001b[0m \u001b[32m4.5/4.5 MB\u001b[0m \u001b[31m15.6 MB/s\u001b[0m eta \u001b[36m0:00:00\u001b[0ma \u001b[36m0:00:01\u001b[0m\n",
      "\u001b[?25hInstalling collected packages: h5py\n",
      "Successfully installed h5py-3.13.0\n",
      "\u001b[33mWARNING: Running pip as the 'root' user can result in broken permissions and conflicting behaviour with the system package manager, possibly rendering your system unusable. It is recommended to use a virtual environment instead: https://pip.pypa.io/warnings/venv. Use the --root-user-action option if you know what you are doing and want to suppress this warning.\u001b[0m\u001b[33m\n",
      "\u001b[0m"
     ]
    }
   ],
   "source": [
    "!pip install h5py\n",
    "import h5py\n",
    "import time"
   ]
  },
  {
   "cell_type": "code",
   "execution_count": 6,
   "id": "17",
   "metadata": {},
   "outputs": [],
   "source": [
    "\n",
    "file_path = \"/home/camille/Documents/app/data/J-A-034-751325-Tedlar.h5\"\n",
    "# file_path = \"/app/data/P-L-007-801838-Tedlar.h5\"\n",
    "#file_path = \"/app/data/A-F-028-817822-droite-ReCIVA.h5\"\n",
    "# file_path = \"/app/data/J-A-034-751325-Tedlar.h5\""
   ]
  },
  {
   "cell_type": "code",
   "execution_count": 7,
   "id": "196be26b",
   "metadata": {},
   "outputs": [
    {
     "name": "stdout",
     "output_type": "stream",
     "text": [
      "start\n",
      "Time to load variables: 2.4191253185272217 s\n",
      "[ 34.013477  39.02815   39.967106 ... 355.1148   366.1161   429.11288 ]\n"
     ]
    }
   ],
   "source": [
    "t0 = time.time()\n",
    "print(\"start\")\n",
    "with h5py.File(file_path, 'r') as f:\n",
    "    mass_values = f['mass_values'][:]      # Charge tout\n",
    "    iv = f['intensity_values'][:]\n",
    "print(\"Time to load variables:\", time.time() - t0, \"s\")\n",
    "print(mass_values)\n"
   ]
  }
 ],
 "metadata": {
  "kernelspec": {
   "display_name": "Python 3 (ipykernel)",
   "language": "python",
   "name": "python3"
  },
  "language_info": {
   "codemirror_mode": {
    "name": "ipython",
    "version": 3
   },
   "file_extension": ".py",
   "mimetype": "text/x-python",
   "name": "python",
   "nbconvert_exporter": "python",
   "pygments_lexer": "ipython3",
   "version": "3.11.12"
  }
 },
 "nbformat": 4,
 "nbformat_minor": 5
}
