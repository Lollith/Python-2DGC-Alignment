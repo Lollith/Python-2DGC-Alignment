{
 "cells": [
  {
   "cell_type": "code",
   "execution_count": 58,
   "id": "cef494fd",
   "metadata": {},
   "outputs": [],
   "source": [
    "import numpy as np\n",
    "import baseline_correction\n",
    "import math\n",
    "import h5py\n",
    "import plot\n",
    "from read_chroma import read_chromato_and_chromato_cube\n",
    "import read_chroma"
   ]
  },
  {
   "cell_type": "code",
   "execution_count": 62,
   "id": "c66eee86",
   "metadata": {},
   "outputs": [],
   "source": [
    "mod_time = 1.70"
   ]
  },
  {
   "cell_type": "code",
   "execution_count": 63,
   "id": "c6391c4a",
   "metadata": {},
   "outputs": [],
   "source": [
    "file_path = '/home/camille/Documents/app/data/A-F-028-817822-droite-ReCIVA.h5'"
   ]
  },
  {
   "cell_type": "code",
   "execution_count": 22,
   "id": "bee531f5",
   "metadata": {},
   "outputs": [
    {
     "name": "stdout",
     "output_type": "stream",
     "text": [
      "tic_chromato [3259512.5 3237728.2 3260984.2 ... 4967874.  4967052.5 4971123.5]\n",
      "tic_chromato shape (540035,)\n",
      "scan_aquisition_time [  60.000004   60.005005   60.010002 ... 2759.9873   2759.9922\n",
      " 2759.9973  ]\n",
      "mass_values [ 34.01345   39.028645  39.966713 ... 341.04526  348.12973  355.07904 ]\n",
      "intensity_values [4.1884762e+04 5.2513625e+04 8.4684969e+05 ... 7.4039899e+02 4.4773105e+02\n",
      " 9.9961633e+02]\n",
      "start_time 1.0000001\n",
      "end_time 45.999954\n"
     ]
    }
   ],
   "source": [
    "with h5py.File(file_path, 'r') as f:\n",
    "    tic_chromato = f['total_intensity'][:]\n",
    "    print(\"tic_chromato\", tic_chromato)\n",
    "    print(\"tic_chromato shape\", tic_chromato.shape)\n",
    "    print(\"scan_aquisition_time\", f[\"scan_acquisition_time\"][:])\n",
    "    \n",
    "    mv = f[\"mass_values\"][:]\n",
    "    print(\"mass_values\", mv)\n",
    "    iv = f[\"intensity_values\"][:]\n",
    "    print(\"intensity_values\", iv)\n",
    "    # range_min = math.ceil(f[\"mass_range_min\"][:].min())\n",
    "    range_max = math.floor(f[\"mass_range_max\"][:].max())\n",
    "    start_time = f['scan_acquisition_time'][0] / 60\n",
    "    print(\"start_time\", start_time)\n",
    "    end_time = f['scan_acquisition_time'][-1] / 60\n",
    "    print(\"end_time\", end_time)\n"
   ]
  },
  {
   "cell_type": "code",
   "execution_count": 60,
   "id": "a2d48203",
   "metadata": {},
   "outputs": [],
   "source": [
    "file_path = '/home/camille/Documents/app/data/P-L-007-801838-Tedlar.h5'"
   ]
  },
  {
   "cell_type": "code",
   "execution_count": 23,
   "id": "1b73a40e",
   "metadata": {},
   "outputs": [
    {
     "name": "stdout",
     "output_type": "stream",
     "text": [
      "tic_chromato [3259512.5 3237728.2 3260984.2 ... 4967874.  4967052.5 4971123.5]\n",
      "tic_chromato shape (540035,)\n",
      "scan_aquisition_time [  60.000004   60.005005   60.010002 ... 2759.9873   2759.9922\n",
      " 2759.9973  ]\n",
      "mass_values [ 34.01345   39.028645  39.966713 ... 341.04526  348.12973  355.07904 ]\n",
      "intensity_values [4.1884762e+04 5.2513625e+04 8.4684969e+05 ... 7.4039899e+02 4.4773105e+02\n",
      " 9.9961633e+02]\n",
      "start_time 1.0000001\n",
      "end_time 45.999954\n"
     ]
    }
   ],
   "source": [
    "with h5py.File(file_path, 'r') as f:\n",
    "    tic_chromato = f['total_intensity'][:]\n",
    "    print(\"tic_chromato\", tic_chromato)\n",
    "    print(\"tic_chromato shape\", tic_chromato.shape)\n",
    "    print(\"scan_aquisition_time\", f[\"scan_acquisition_time\"][:])\n",
    "    \n",
    "    mv = f[\"mass_values\"][:]\n",
    "    print(\"mass_values\", mv)\n",
    "    iv = f[\"intensity_values\"][:]\n",
    "    print(\"intensity_values\", iv)\n",
    "    # range_min = math.ceil(f[\"mass_range_min\"][:].min())\n",
    "    range_max = math.floor(f[\"mass_range_max\"][:].max())\n",
    "    start_time = f['scan_acquisition_time'][0] / 60\n",
    "    print(\"start_time\", start_time)\n",
    "    end_time = f['scan_acquisition_time'][-1] / 60\n",
    "    print(\"end_time\", end_time)"
   ]
  },
  {
   "cell_type": "code",
   "execution_count": null,
   "id": "6607c08a",
   "metadata": {},
   "outputs": [],
   "source": [
    "file_path = '/home/camille/Documents/app/data/G0-1-160123.h5'\n"
   ]
  },
  {
   "cell_type": "code",
   "execution_count": 64,
   "id": "0b3066c3",
   "metadata": {},
   "outputs": [],
   "source": [
    "# chromato_tic, time_rn, chromato_cube, sigma, mass_range = read_chromato_and_chromato_cube(file_path, mod_time, pre_process=True)\n",
    "tic_chromato, time_rn, spectra_obj = read_chroma.read_chroma(file_path, 1.7, None)\n"
   ]
  },
  {
   "cell_type": "code",
   "execution_count": null,
   "id": "5bb87b61",
   "metadata": {},
   "outputs": [],
   "source": []
  },
  {
   "cell_type": "code",
   "execution_count": 65,
   "id": "62d4846f",
   "metadata": {},
   "outputs": [
    {
     "data": {
      "image/png": "[encoded data removed]",
      "text/plain": [
       "<Figure size 640x480 with 2 Axes>"
      ]
     },
     "metadata": {},
     "output_type": "display_data"
    }
   ],
   "source": [
    "plot.visualizer((tic_chromato, time_rn), mod_time=1.25)"
   ]
  },
  {
   "cell_type": "code",
   "execution_count": 29,
   "id": "d549c904",
   "metadata": {},
   "outputs": [
    {
     "name": "stdout",
     "output_type": "stream",
     "text": [
      "tic_chromato [10664054. 10652551. 10663202. 10681087. 10695410. 10698162. 10693179.\n",
      " 10667971. 10630771. 10612497. 10617130. 10616078. 10647696. 10639351.\n",
      " 10630968. 10611465. 10604646. 10596600. 10601322. 10615740.]\n",
      "tic_chromato shape (328125,)\n",
      "scan_aquisition_time [ 510.       510.00833  510.01663 ... 3239.975   3239.9834  3239.9917 ]\n",
      "mass_values [ 39.046497  39.893127  39.93792  ... 466.97278  475.157    491.07562 ]\n",
      "intensity_values [ 21136.154   221184.81    347967.2     ...    852.36115    402.60327\n",
      "    821.47125]\n",
      "start_time 8.5\n",
      "end_time 53.999863\n",
      "range_min 40\n",
      "range_max 500\n"
     ]
    }
   ],
   "source": [
    "with h5py.File(file_path, 'r') as f:\n",
    "    tic_chromato = f['total_intensity'][:]\n",
    "    print(\"tic_chromato\", tic_chromato[30:50])\n",
    "    print(\"tic_chromato shape\", tic_chromato.shape)\n",
    "    print(\"scan_aquisition_time\", f[\"scan_acquisition_time\"][:])\n",
    "    \n",
    "    mv = f[\"mass_values\"][:]\n",
    "    print(\"mass_values\", mv)\n",
    "    iv = f[\"intensity_values\"][:]\n",
    "    print(\"intensity_values\", iv)\n",
    "    # range_min = math.ceil(f[\"mass_range_min\"][:].min())\n",
    "    range_max = math.floor(f[\"mass_range_max\"][:].max())\n",
    "    start_time = f['scan_acquisition_time'][0] / 60\n",
    "    print(\"start_time\", start_time)\n",
    "    end_time = f['scan_acquisition_time'][-1] / 60\n",
    "    print(\"end_time\", end_time)\n",
    "    range_min = math.ceil(f[\"mass_range_min\"][:].min())\n",
    "    range_max = math.floor(f[\"mass_range_max\"][:].max())\n",
    "    print(\"range_min\", range_min)\n",
    "    print(\"range_max\", range_max)"
   ]
  },
  {
   "cell_type": "markdown",
   "id": "63722567",
   "metadata": {},
   "source": []
  },
  {
   "cell_type": "code",
   "execution_count": null,
   "id": "3bebe264",
   "metadata": {},
   "outputs": [
    {
     "name": "stdout",
     "output_type": "stream",
     "text": [
      "[[ 9799392.09364395  9555443.78390126 10128685.09293212 ...\n",
      "  10124643.00214481  9734093.77730131  9733542.48391602]\n",
      " [ 9681032.8235858   9938246.78010798  9847483.8713233  ...\n",
      "  10180799.0472584   9715082.68039674 10210955.853674  ]\n",
      " [ 9950146.59273391  9978393.40721948  9761282.59433903 ...\n",
      "  10070838.65356849 10012523.48441887 10352293.43222831]\n",
      " ...\n",
      " [10023438.10393154 10038306.21565065 10209401.87042389 ...\n",
      "   9678896.92494431  9962756.02170022 10203971.94755174]\n",
      " [ 9677475.85747133 10017864.01966454  9757702.25310031 ...\n",
      "  10165704.06459116  9836837.96356277  9860414.66244028]\n",
      " [ 9940691.35732003  9561635.30918765 10234128.22938994 ...\n",
      "   9936253.23178623  9880053.20959566 10226111.91416384]]\n"
     ]
    }
   ],
   "source": [
    "# def make_synthetic_chromato(\n",
    "#     shape=(50, 50),\n",
    "#     peaks=[(10, 10, 5e6), (30, 35, 8e6)],  # amplitudes dans la gamme des millions\n",
    "#     noise=2e5,                             # bruit de fond réaliste\n",
    "#     baseline=1e7                           # niveau de fond réaliste\n",
    "# ):\n",
    "#     chromato = np.random.normal(baseline, noise, size=shape)  # bruit centré sur le fond\n",
    "#     for x, y, amp in peaks:\n",
    "#         chromato += amp * np.exp(-((np.arange(shape[0])[:, None] - x)**2 + (np.arange(shape[1]) - y)**2)/8)\n",
    "#     chromato[chromato < 0] = 0\n",
    "#     return chromato\n",
    "\n",
    "# # Génère un chromatogramme avec 2 pics connus\n",
    "# chromato_test = make_synthetic_chromato()\n",
    "# print(chromato_test)"
   ]
  },
  {
   "cell_type": "code",
   "execution_count": 32,
   "id": "523ffb3e",
   "metadata": {},
   "outputs": [
    {
     "name": "stdout",
     "output_type": "stream",
     "text": [
      "Min: 9261974.070646582 Max: 17968196.621142454 Mean: 10167814.124869272\n"
     ]
    }
   ],
   "source": [
    "def make_synthetic_tic(\n",
    "    length=1000,\n",
    "    peaks=[(200, 8e6), (600, 5e6)],\n",
    "    noise=2e5,\n",
    "    baseline=1e7\n",
    "):\n",
    "    tic = np.random.normal(baseline, noise, size=length) # bruit centré sur le fond\n",
    "    for pos, amp in peaks:\n",
    "        tic += amp * np.exp(-((np.arange(length) - pos)**2)/50)\n",
    "    tic[tic < 0] = 0\n",
    "    return tic\n",
    "\n",
    "# Exemple\n",
    "tic_test = make_synthetic_tic()\n",
    "print(\"Min:\", tic_test.min(), \"Max:\", tic_test.max(), \"Mean:\", tic_test.mean())"
   ]
  },
  {
   "cell_type": "code",
   "execution_count": null,
   "id": "274f3e94",
   "metadata": {},
   "outputs": [],
   "source": []
  },
  {
   "cell_type": "code",
   "execution_count": null,
   "id": "697d59ed",
   "metadata": {},
   "outputs": [],
   "source": [
    "time_rn = (8.5, 53.999863)"
   ]
  },
  {
   "cell_type": "code",
   "execution_count": 50,
   "id": "0623c993",
   "metadata": {},
   "outputs": [
    {
     "ename": "IndexError",
     "evalue": "tuple index out of range",
     "output_type": "error",
     "traceback": [
      "\u001b[31m---------------------------------------------------------------------------\u001b[39m",
      "\u001b[31mIndexError\u001b[39m                                Traceback (most recent call last)",
      "\u001b[36mCell\u001b[39m\u001b[36m \u001b[39m\u001b[32mIn[50]\u001b[39m\u001b[32m, line 1\u001b[39m\n\u001b[32m----> \u001b[39m\u001b[32m1\u001b[39m \u001b[43mplot\u001b[49m\u001b[43m.\u001b[49m\u001b[43mvisualizer\u001b[49m\u001b[43m(\u001b[49m\u001b[43m(\u001b[49m\u001b[43mtic_test\u001b[49m\u001b[43m,\u001b[49m\u001b[43m \u001b[49m\u001b[43mtime_rn\u001b[49m\u001b[43m)\u001b[49m\u001b[43m,\u001b[49m\u001b[43m \u001b[49m\u001b[43mmod_time\u001b[49m\u001b[43m=\u001b[49m\u001b[32;43m1.25\u001b[39;49m\u001b[43m)\u001b[49m\n",
      "\u001b[36mFile \u001b[39m\u001b[32m~/Documents/code/agouet/Python-2DGC-Alignment/src/plot.py:333\u001b[39m, in \u001b[36mvisualizer\u001b[39m\u001b[34m(chromato_obj, mod_time, rt1, rt2, rt1_window, rt2_window, plotly, title, points, radius, pt_shape, log_chromato, casnos_dict, contour, center_pt, center_pt_window_1, center_pt_window_2, save)\u001b[39m\n\u001b[32m    331\u001b[39m shape = chromato.shape\n\u001b[32m    332\u001b[39m X = np.linspace(time_rn[\u001b[32m0\u001b[39m], time_rn[\u001b[32m1\u001b[39m], shape[\u001b[32m0\u001b[39m])\n\u001b[32m--> \u001b[39m\u001b[32m333\u001b[39m Y = np.linspace(\u001b[32m0\u001b[39m, mod_time, \u001b[43mshape\u001b[49m\u001b[43m[\u001b[49m\u001b[32;43m1\u001b[39;49m\u001b[43m]\u001b[49m)\n\u001b[32m    334\u001b[39m \u001b[38;5;28;01mif\u001b[39;00m (rt1 \u001b[38;5;129;01mis\u001b[39;00m \u001b[38;5;129;01mnot\u001b[39;00m \u001b[38;5;28;01mNone\u001b[39;00m \u001b[38;5;129;01mand\u001b[39;00m rt2 \u001b[38;5;129;01mis\u001b[39;00m \u001b[38;5;129;01mnot\u001b[39;00m \u001b[38;5;28;01mNone\u001b[39;00m):\n\u001b[32m    335\u001b[39m     rt1minusrt1window = rt1 - rt1_window\n",
      "\u001b[31mIndexError\u001b[39m: tuple index out of range"
     ]
    }
   ],
   "source": [
    "plot.visualizer((tic_test, time_rn), mod_time=1.25)"
   ]
  },
  {
   "cell_type": "code",
   "execution_count": null,
   "id": "aa7c9b75",
   "metadata": {},
   "outputs": [
    {
     "name": "stdout",
     "output_type": "stream",
     "text": [
      "tic_chromato: [  2.94467734   4.89445132   7.22527693  16.25930738  12.46673515\n",
      "  13.09316365   6.10927896  20.38918956  16.53126453   8.18813198\n",
      "  21.70419715  14.78353131  23.73961074   9.17871963  21.03141554\n",
      "  15.45272652  21.13131844  26.27396998  20.80614525  24.39789085\n",
      "  36.65178541  21.46188501  34.21868724  28.16183157  32.04613981\n",
      "  25.14998265  24.81976381  26.91696769  31.36070893  27.94853262\n",
      "  29.35160938  33.85577184  29.93283812  32.12148658  33.72518659\n",
      "  26.70192037  44.78695923  35.04599367  39.76105011  40.83534286\n",
      "  43.83273231  40.93738528  51.19789711  52.79051437  34.99558284\n",
      "  40.5160844   40.73351027  43.70684998  48.2843818   44.49536056\n",
      "  55.73903581  41.748347    38.34279938  56.78490818  52.59517023\n",
      "  53.76804327  58.73002791  53.12153587  53.89321075  49.92520556\n",
      "  56.43764397  64.2536552   67.73774613  48.48379288  61.17958232\n",
      "  62.46953377  57.66104988  56.00028743  63.70524013  73.32699728\n",
      "  53.83079634  56.6057155   63.75071242  61.67709435  62.26632749\n",
      "  65.59677932  69.85075473  64.92387926  68.8303154   71.2442702\n",
      "  72.68252533  70.66375394  63.30402577  71.21937218  68.29471974\n",
      "  71.45218626  76.61102319  78.62676071  84.38572469  78.92873626\n",
      "  74.58686114  76.36515627  74.40057258  80.63337579  81.07494653\n",
      "  89.21554627  80.60748276  81.17522872  79.48598392  79.14120806\n",
      "  84.02811095  84.19929474  82.89841622  89.11033314  91.36403995\n",
      "  87.50511826  98.22581415  96.60225686  90.4785176   94.76109647\n",
      "  90.1585978   90.67490847  92.3569842   97.98535183  97.48992338\n",
      "  86.8373885  100.06234189  99.73241287  99.5364319  104.9082456 ]\n",
      "tic_chromato_reshaped: [[ 2.94467734  4.89445132  7.22527693 16.25930738 12.46673515 13.09316365\n",
      "   6.10927896 20.38918956 16.53126453  8.18813198 21.70419715 14.78353131\n",
      "  23.73961074  9.17871963 21.03141554 15.45272652 21.13131844 26.27396998\n",
      "  20.80614525 24.39789085 36.65178541 21.46188501 34.21868724 28.16183157\n",
      "  32.04613981 25.14998265 24.81976381 26.91696769 31.36070893 27.94853262\n",
      "  29.35160938 33.85577184 29.93283812 32.12148658 33.72518659 26.70192037\n",
      "  44.78695923 35.04599367 39.76105011 40.83534286 43.83273231 40.93738528\n",
      "  51.19789711 52.79051437 34.99558284 40.5160844  40.73351027 43.70684998\n",
      "  48.2843818  44.49536056 55.73903581 41.748347   38.34279938 56.78490818\n",
      "  52.59517023 53.76804327 58.73002791 53.12153587 53.89321075 49.92520556\n",
      "  56.43764397 64.2536552  67.73774613 48.48379288 61.17958232 62.46953377\n",
      "  57.66104988 56.00028743 63.70524013 73.32699728 53.83079634 56.6057155\n",
      "  63.75071242 61.67709435]]\n",
      "TIC shape (reshaped): (1, 74)\n",
      "Start time: 0 End time: 2\n",
      "l1 (points/mod): 74 l2 (nb mod): 1\n"
     ]
    }
   ],
   "source": [
    "# def make_fake_chromato_cube(mod_time=1.25, total_points=120, start_time=0, end_time=2):\n",
    "#     # Génère un TIC synthétique\n",
    "#     tic_chromato = np.linspace(10, 100, total_points) + np.random.normal(0, 5, total_points)\n",
    "#     print(\"tic_chromato:\", tic_chromato)\n",
    "#     # Simule les temps d'acquisition (en secondes)\n",
    "#     timepara = np.linspace(start_time, end_time, total_points)\n",
    "#     # Calcule le taux d'échantillonnage (Hz)\n",
    "#     sam_rate = 1 / np.mean(timepara[1:] - timepara[:-1])\n",
    "#     # Nombre de points par période de modulation\n",
    "#     l1 = math.floor(sam_rate * mod_time)\n",
    "#     # Nombre de périodes complètes dans le signal\n",
    "#     l2 = math.floor(len(tic_chromato) / l1)\n",
    "#     # Reshape du TIC en matrice (l2, l1)\n",
    "#     tic_chromato_reshaped = np.reshape(tic_chromato[:l1*l2], (l2, l1))\n",
    "#     print(\"tic_chromato_reshaped:\", tic_chromato_reshaped)\n",
    "#     return tic_chromato_reshaped, (start_time, end_time), (l1, l2)\n",
    "\n",
    "# # Exemple d'utilisation\n",
    "# tic_chromato, (start_time, end_time), (l1, l2) = make_fake_chromato_cube()\n",
    "# print(\"TIC shape (reshaped):\", tic_chromato.shape)\n",
    "# print(\"Start time:\", start_time, \"End time:\", end_time)\n",
    "# print(\"l1 (points/mod):\", l1, \"l2 (nb mod):\", l2)\n"
   ]
  },
  {
   "cell_type": "code",
   "execution_count": 30,
   "id": "d8367e17",
   "metadata": {},
   "outputs": [],
   "source": [
    "def test_baseline_correction_read():\n",
    "    # chromato_tic = np.array([\n",
    "    #     10, 12, 14, 18, 23, 45, 90, 45, 23, 15, 12, 10, 11, 30, 70, 30, 12, 11, 10, 9\n",
    "    # ]) + np.random.normal(0, 5, size=20)  # Ajout de bruit\n",
    "    # print(\"Chromato TIC with noise:\", chromato_tic)\n",
    "    # chromato_tic_2d = chromato_tic.reshape(-1, 1)\n",
    "    # print(\"Chromato TIC 2D shape:\", chromato_tic_2d)\n",
    "    chromato_tic_preprocessed = baseline_correction.chromato_reduced_noise(chromato_test)\n",
    "    print(\"Preprocessed Chromato TIC:\", chromato_tic_preprocessed)"
   ]
  },
  {
   "cell_type": "code",
   "execution_count": 31,
   "id": "93c9cbc9",
   "metadata": {},
   "outputs": [
    {
     "name": "stdout",
     "output_type": "stream",
     "text": [
      "Preprocessed Chromato TIC: [[ 79362.66667292  85553.2553282  395593.88286641 ... 500793.34500814\n",
      "  131138.37963702 640120.73795134]\n",
      " [124076.14919268 295183.52882678 210575.23893853 ... 472989.18097796\n",
      "  225591.35858455 953049.1748767 ]\n",
      " [174146.30770023 378266.53244879 167583.58968353 ... 524415.15307119\n",
      "  352152.14871602 964793.90883341]\n",
      " ...\n",
      " [142262.28429922 542629.10532695 450352.48614216 ... 254215.76018975\n",
      "  250453.33880171 138036.88590805]\n",
      " [177711.62364199 328616.92600371 417316.50737658 ... 332973.13483791\n",
      "  175636.74119307 204570.88538495]\n",
      " [161034.96230347 106112.2395981  484055.19691305 ... 407114.3474346\n",
      "  159506.15315223 225239.39327708]]\n"
     ]
    }
   ],
   "source": [
    "test_baseline_correction_read()"
   ]
  }
 ],
 "metadata": {
  "kernelspec": {
   "display_name": ".venv",
   "language": "python",
   "name": "python3"
  },
  "language_info": {
   "codemirror_mode": {
    "name": "ipython",
    "version": 3
   },
   "file_extension": ".py",
   "mimetype": "text/x-python",
   "name": "python",
   "nbconvert_exporter": "python",
   "pygments_lexer": "ipython3",
   "version": "3.12.7"
  }
 },
 "nbformat": 4,
 "nbformat_minor": 5
}
