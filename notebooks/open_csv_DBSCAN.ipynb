{
 "cells": [
  {
   "cell_type": "code",
   "execution_count": null,
   "id": "0",
   "metadata": {},
   "outputs": [],
   "source": [
    "import pandas as pd\n",
    "import numpy as np\n",
    "from skimage.feature import peak_local_max\n",
    "from sklearn.cluster import DBSCAN\n",
    "import skimage\n",
    "import baseline_correction\n",
    "from read_chroma import read_chromato_and_chromato_cube\n",
    "import numpy as np\n",
    "from sklearn.preprocessing import StandardScaler\n",
    "import pandas as pd\n",
    "import projection\n",
    "import plot\n",
    "import read_chroma\n"
   ]
  },
  {
   "cell_type": "code",
   "execution_count": null,
   "id": "1",
   "metadata": {},
   "outputs": [],
   "source": [
    "# select method\n",
    "# method = \"peak_local_max\"\n",
    "# method = \"persistence_homology\"\n",
    "method = 'DOG'"
   ]
  },
  {
   "cell_type": "code",
   "execution_count": null,
   "id": "2",
   "metadata": {},
   "outputs": [],
   "source": [
    "\n",
    "\n",
    "file_path = '/home/camille/Documents/app/data/input/A-F-028-817822-droite-ReCIVA.cdf'\n",
    "# estimation with filtering_factor_estimation.ipynb\n",
    "mod_time = 1.7\n",
    "eps = 0.2\n",
    "\n",
    "thresold_abs = 0.2\n",
    "\n",
    "# estimation with estimation_persistence.ipynb\n",
    "min_persitence = 0.02 # = threshold_relatif"
   ]
  },
  {
   "cell_type": "code",
   "execution_count": null,
   "id": "3",
   "metadata": {},
   "outputs": [],
   "source": [
    "# open csv\n",
    "df = pd.read_csv(f'figs/coordinates_{method}.csv')\n",
    "coordinates_all_mass = df.to_numpy()"
   ]
  },
  {
   "cell_type": "code",
   "execution_count": null,
   "id": "4",
   "metadata": {},
   "outputs": [],
   "source": [
    "coordinates_all_mass = np.delete(coordinates_all_mass, 0, -1) # supp l'info de la mass\n",
    "len(coordinates_all_mass)"
   ]
  },
  {
   "cell_type": "code",
   "execution_count": null,
   "id": "5",
   "metadata": {},
   "outputs": [],
   "source": [
    "#clustering\n",
    "#TODO scaled value before DBSCAN\n",
    "coordinates_all_mass_scaled = StandardScaler().fit_transform(coordinates_all_mass)\n",
    "\n",
    "clustering = DBSCAN(eps=eps, min_samples=5).fit(coordinates_all_mass_scaled[:, :2])\n",
    "np.max(clustering.labels_)\n"
   ]
  },
  {
   "cell_type": "code",
   "execution_count": null,
   "id": "6",
   "metadata": {},
   "outputs": [],
   "source": [
    "# nombre de clusters détectés (sans le label -1)\n",
    "#TODO a corriger ds le clustering , enelever les points de bruit + construire la liste des clusters sans les bruits\n",
    "n_clusters = len(set(clustering.labels_)) - (1 if -1 in clustering.labels_ else 0)\n",
    "# initialisation de la liste des clusters\n",
    "clusters = [[] for _ in range(n_clusters)]\n",
    "\n",
    "\n",
    "for i, (t1, t2) in enumerate(coordinates_all_mass):\n",
    "    label = clustering.labels_[i]\n",
    "    if label != -1: # enleve les points de bruit\n",
    "        clusters[label].append([t1, t2])\n",
    "\n",
    "print(\"nb de clusters\", len(clusters))\n",
    "n_noise = np.sum(clustering.labels_ == -1)\n",
    "print(f\"Nombre de points considérés comme du bruit : {n_noise}\")"
   ]
  },
  {
   "cell_type": "code",
   "execution_count": null,
   "id": "7",
   "metadata": {},
   "outputs": [],
   "source": [
    "# Coordinates of the geometrical center point in the cluster for every clusters\n",
    "coordinates = []\n",
    "for cluster in clusters:\n",
    "    if not cluster:\n",
    "        print(\"Erreur, cluster vide\")\n",
    "    elif (len(cluster) > 1):\n",
    "        # point le + intense:\n",
    "        # coord = cluster[np.argmax(np.array([chromato[coord[0], coord[1]] for coord in cluster]))] \n",
    "\n",
    "        arr = np.array(cluster)\n",
    "        # centre geometrique du cluster\n",
    "        median_x = np.median(arr[:, 0]) \n",
    "        median_y = np.median(arr[:, 1])\n",
    "        coord=[round(median_x),round(median_y)]\n",
    "    else:\n",
    "        coord = cluster[0]\n",
    "\n",
    "    coordinates.append(coord)\n",
    "peaks_coordinates = np.array(coordinates)\n",
    "\n",
    "peaks_coordinates"
   ]
  },
  {
   "cell_type": "code",
   "execution_count": null,
   "id": "8",
   "metadata": {},
   "outputs": [],
   "source": [
    "tic_chromato, time_rn, spectra_obj = read_chroma.read_chroma(file_path, mod_time, None)\n",
    "chromato_tic_preprocessed = baseline_correction.chromato_reduced_noise(tic_chromato)\n",
    "\n",
    "coordinates_in_chromato = projection.matrix_to_chromato(\n",
    "    peaks_coordinates, \n",
    "    time_rn, \n",
    "    mod_time, \n",
    "    chromato_tic_preprocessed.shape\n",
    "    )\n",
    "plot.visualizer(\n",
    "    (chromato_tic_preprocessed, time_rn),\n",
    "    mod_time,\n",
    "    title=method,\n",
    "    log_chromato=False,\n",
    "    points=coordinates_in_chromato,\n",
    "    save=True)  "
   ]
  }
 ],
 "metadata": {
  "kernelspec": {
   "display_name": "base",
   "language": "python",
   "name": "python3"
  },
  "language_info": {
   "codemirror_mode": {
    "name": "ipython",
    "version": 3
   },
   "file_extension": ".py",
   "mimetype": "text/x-python",
   "name": "python",
   "nbconvert_exporter": "python",
   "pygments_lexer": "ipython3",
   "version": "3.12.7"
  }
 },
 "nbformat": 4,
 "nbformat_minor": 5
}
