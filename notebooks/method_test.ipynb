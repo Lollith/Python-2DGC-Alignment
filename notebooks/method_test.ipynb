{
 "cells": [
  {
   "cell_type": "code",
   "execution_count": null,
   "id": "0",
   "metadata": {},
   "outputs": [],
   "source": []
  },
  {
   "cell_type": "markdown",
   "id": "1",
   "metadata": {},
   "source": [
    "### tester différentes méthodes de detection de pic sur toute les masses, pour pouvoir tester DBSCAN et comparer les méthodes"
   ]
  },
  {
   "cell_type": "code",
   "execution_count": null,
   "id": "2",
   "metadata": {},
   "outputs": [],
   "source": [
    "from skimage.feature import peak_local_max\n",
    "from sklearn.cluster import DBSCAN\n",
    "import skimage\n",
    "import baseline_correction\n",
    "from read_chroma import read_chromato_and_chromato_cube\n",
    "import numpy as np\n",
    "from sklearn.preprocessing import StandardScaler\n",
    "import pandas as pd\n",
    "import projection\n",
    "import plot"
   ]
  },
  {
   "cell_type": "code",
   "execution_count": null,
   "id": "3",
   "metadata": {},
   "outputs": [],
   "source": [
    "file_path = '/home/camille/Documents/app/data/input/A-F-028-817822-droite-ReCIVA.cdf'\n",
    "# estimation with filtering_factor_estimation.ipynb\n",
    "mod_time = 1.7\n",
    "eps = 0.2"
   ]
  },
  {
   "cell_type": "code",
   "execution_count": null,
   "id": "4",
   "metadata": {},
   "outputs": [],
   "source": [
    "chromato_tic_preprocessed, time_rn, chromato_cube_preprocessed, sigma, mass_range = read_chromato_and_chromato_cube(file_path, mod_time, pre_process=True)"
   ]
  },
  {
   "cell_type": "code",
   "execution_count": null,
   "id": "5",
   "metadata": {},
   "outputs": [],
   "source": [
    "# filtering_factor = 50 #TODO\n",
    "# sigma = skimage.restoration.estimate_sigma(chromato_tic_preprocessed, channel_axis=None)\n",
    "# dynamic_threshold_fact = filtering_factor * sigma * 100 / np.max(chromato_tic_preprocessed)\n",
    "# dynamic_threshold_fact"
   ]
  },
  {
   "cell_type": "markdown",
   "id": "6",
   "metadata": {},
   "source": [
    "# peak_detection.peak_local_max : mode = mass per mass"
   ]
  },
  {
   "cell_type": "code",
   "execution_count": null,
   "id": "7",
   "metadata": {},
   "outputs": [],
   "source": [
    "coordinates_all_mass = []\n",
    "\n",
    "## plm_mas_per_mass_multiprocess\n",
    "\n",
    "for mass in range(len(chromato_cube_preprocessed)):\n",
    "# for mass in range(100,150):\n",
    "    \n",
    "    #without multiprocess, peak local max\n",
    "    coordPLM = skimage.feature.peak_local_max(chromato_cube_preprocessed[mass], min_distance=1, threshold_rel=0.2)\n",
    "    # coordPERS= pers_hom_kernel(i,m_chromato=chromato_cube_preprocessed[i], min_persistence=0.02,threshold_abs=0.2)\n",
    "    # for x,y in coord:\n",
    "    for x, y in coordPLM:\n",
    "        coordinates_all_mass.append([mass, x, y])\n",
    "        # df = pd.DataFrame(coordinates_all_mass, columns=[\"mass\",\"x\", \"y\"])\n",
    "        # df.to_csv(\"coordinates_peaks.csv\", index=False)\n",
    "        \n",
    "    \n",
    "## save output\n",
    "coordinates_all_mass = np.delete(coordinates_all_mass, 0, -1) # supp l'info de la mass\n",
    "len(coordinates_all_mass)\n",
    "\n",
    "\n"
   ]
  },
  {
   "cell_type": "code",
   "execution_count": null,
   "id": "8",
   "metadata": {},
   "outputs": [],
   "source": [
    "#clustering\n",
    "#TODO scaled value before DBSCAN\n",
    "coordinates_all_mass_scaled = StandardScaler().fit_transform(coordinates_all_mass)\n",
    "\n",
    "clustering = DBSCAN(eps=eps, min_samples=5).fit(coordinates_all_mass_scaled)\n"
   ]
  },
  {
   "cell_type": "code",
   "execution_count": null,
   "id": "9",
   "metadata": {},
   "outputs": [],
   "source": [
    "np.max(clustering.labels_)"
   ]
  },
  {
   "cell_type": "code",
   "execution_count": null,
   "id": "10",
   "metadata": {},
   "outputs": [],
   "source": [
    "# nombre de clusters détectés (sans le label -1)\n",
    "#TODO a corriger ds le clustering , enelever les points de bruit + construire la liste des clusters sans les bruits\n",
    "n_clusters = len(set(clustering.labels_)) - (1 if -1 in clustering.labels_ else 0)\n",
    "# initialisation de la liste des clusters\n",
    "clusters = [[] for _ in range(n_clusters)]\n",
    "\n",
    "\n",
    "for i, (t1, t2) in enumerate(coordinates_all_mass):\n",
    "    label = clustering.labels_[i]\n",
    "    if label != -1: # enleve les points de bruit\n",
    "        clusters[label].append([t1, t2])\n",
    "\n",
    "print(\"nb de clusters\", len(clusters))\n",
    "n_noise = np.sum(clustering.labels_ == -1)\n",
    "print(f\"Nombre de points considérés comme du bruit : {n_noise}\")\n"
   ]
  },
  {
   "cell_type": "code",
   "execution_count": null,
   "id": "11",
   "metadata": {},
   "outputs": [],
   "source": [
    "# Coordinates of the geometrical center point in the cluster for every clusters\n",
    "coordinates = []\n",
    "for cluster in clusters:\n",
    "    if not cluster:\n",
    "        print(\"Erreur, cluster vide\")\n",
    "    elif (len(cluster) > 1):\n",
    "        # point le + intense:\n",
    "        # coord = cluster[np.argmax(np.array([chromato[coord[0], coord[1]] for coord in cluster]))] \n",
    "\n",
    "        arr = np.array(cluster)\n",
    "        # centre geometrique du cluster\n",
    "        median_x = np.median(arr[:, 0]) \n",
    "        median_y = np.median(arr[:, 1])\n",
    "        coord=[round(median_x),round(median_y)]\n",
    "    else:\n",
    "        coord = cluster[0]\n",
    "\n",
    "    coordinates.append(coord)\n",
    "peaks_coordinates = np.array(coordinates)\n",
    "\n",
    "peaks_coordinates"
   ]
  },
  {
   "cell_type": "code",
   "execution_count": null,
   "id": "12",
   "metadata": {},
   "outputs": [],
   "source": [
    "coordinates_in_chromato = projection.matrix_to_chromato(\n",
    "    peaks_coordinates, \n",
    "    time_rn, \n",
    "    mod_time, \n",
    "    chromato_tic_preprocessed.shape\n",
    "    )\n",
    "plot.visualizer((chromato_tic_preprocessed, time_rn), mod_time, title=\"chromato\", log_chromato=False, points=coordinates_in_chromato)  "
   ]
  }
 ],
 "metadata": {
  "kernelspec": {
   "display_name": "base",
   "language": "python",
   "name": "python3"
  },
  "language_info": {
   "codemirror_mode": {
    "name": "ipython",
    "version": 3
   },
   "file_extension": ".py",
   "mimetype": "text/x-python",
   "name": "python",
   "nbconvert_exporter": "python",
   "pygments_lexer": "ipython3",
   "version": "3.12.7"
  }
 },
 "nbformat": 4,
 "nbformat_minor": 5
}
