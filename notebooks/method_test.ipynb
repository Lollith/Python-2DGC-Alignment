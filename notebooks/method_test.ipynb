{
 "cells": [
  {
   "cell_type": "code",
   "execution_count": null,
   "id": "0",
   "metadata": {},
   "outputs": [],
   "source": []
  },
  {
   "cell_type": "markdown",
   "id": "1",
   "metadata": {},
   "source": [
    "### tester différentes méthodes de detection de pic sur toute les masses, pour pouvoir tester DBSCAN et comparer les méthodes"
   ]
  },
  {
   "cell_type": "code",
   "execution_count": null,
   "id": "2",
   "metadata": {},
   "outputs": [],
   "source": [
    "from skimage.feature import peak_local_max\n",
    "from sklearn.cluster import DBSCAN\n",
    "import skimage\n",
    "import baseline_correction\n",
    "from read_chroma import read_chromato_and_chromato_cube\n",
    "import numpy as np"
   ]
  },
  {
   "cell_type": "code",
   "execution_count": null,
   "id": "3",
   "metadata": {},
   "outputs": [],
   "source": [
    "file_path = '/home/camille/Documents/app/data/input/A-F-028-817822-droite-ReCIVA.cdf'\n",
    "# estimation with filtering_factor_estimation.ipynb\n",
    "mod_time = 1.7"
   ]
  },
  {
   "cell_type": "code",
   "execution_count": null,
   "id": "4",
   "metadata": {},
   "outputs": [],
   "source": [
    "chromato_tic_preprocessed, time_rn, chromato_cube_preprocessed, sigma, mass_range = read_chromato_and_chromato_cube(file_path, mod_time, pre_process=True)"
   ]
  },
  {
   "cell_type": "code",
   "execution_count": null,
   "id": "5",
   "metadata": {},
   "outputs": [],
   "source": [
    "filtering_factor = 50 #TODO\n",
    "sigma = skimage.restoration.estimate_sigma(chromato_tic_preprocessed, channel_axis=None)\n",
    "dynamic_threshold_fact = filtering_factor * sigma * 100 / np.max(chromato_tic_preprocessed)\n",
    "dynamic_threshold_fact"
   ]
  },
  {
   "cell_type": "code",
   "execution_count": null,
   "id": "6",
   "metadata": {},
   "outputs": [],
   "source": [
    "\n",
    "\n",
    "\n",
    "coordinates_all_mass = []\n",
    "for i in range(len(chromato_cube_preprocessed)):\n",
    "    coordPLM=peak_local_max(chromato_cube_preprocessed[i], min_distance=1, threshold_rel=0.2)\n",
    "    coordPERS= pers_hom_kernel(i,m_chromato=chromato_cube_preprocessed[i], seuil=None,threshold_abs=0.2)\n",
    "    for x,y in coord:\n",
    "        coordinates_all_mass.append([i,x,y])\n",
    "## save output\n",
    "coordinates_all_mass = np.delete(coordinates_all_mass, 0, -1) # supp l'info de la mass\n",
    "len(coordinates_all_mass)\n",
    "clustering = DBSCAN(eps=0.5, min_samples=5).fit(coordinates_all_mass) # lance DBscan\n",
    "clusters = []\n",
    "for i in range((np.max(clustering.labels_) + 1)):\n",
    "    clusters.append([])for i, (t1, t2) in enumerate(coordinates_all_mass):\n",
    "    clusters[clustering.labels_[i]].append([t1, t2])# clusters = np.array(clusters)\n",
    "# Coordinates of the point with the biggest intensity in the cluster for every clusters\n",
    "coordinates = []\n",
    "for cluster in clusters:\n",
    "    if (len(cluster) > 1):\n",
    "        #coord = cluster[np.argmax(np.array([chromato[coord[0], coord[1]] for coord in cluster]))]\n",
    "        arr=np.array(cluster)\n",
    "        median_x = np.median(arr[:, 0])  # Median of first coordinate\n",
    "        median_y = np.median(arr[:, 1])  # Median of second coordinate\n",
    "        coord=[round(median_x),round(median_y)]\n",
    "    else:\n",
    "        coord = cluster[0]\n",
    "    coordinates.append(coord)\n",
    "coordinates = np.array(coordinates)"
   ]
  }
 ],
 "metadata": {
  "kernelspec": {
   "display_name": "base",
   "language": "python",
   "name": "python3"
  },
  "language_info": {
   "codemirror_mode": {
    "name": "ipython",
    "version": 3
   },
   "file_extension": ".py",
   "mimetype": "text/x-python",
   "name": "python",
   "nbconvert_exporter": "python",
   "pygments_lexer": "ipython3",
   "version": "3.12.7"
  }
 },
 "nbformat": 4,
 "nbformat_minor": 5
}
