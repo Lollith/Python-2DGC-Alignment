{
 "cells": [
  {
   "cell_type": "code",
   "execution_count": null,
   "metadata": {},
   "outputs": [],
   "source": [
    "import os, sys\n",
    "path_to_scr_folder=os.path.join(os.path.dirname(os.path.abspath('')), 'src')\n",
    "sys.path.append(path_to_scr_folder)"
   ]
  },
  {
   "cell_type": "code",
   "execution_count": null,
   "metadata": {},
   "outputs": [],
   "source": [
    "import read_chroma\n",
    "from peak_detection import peak_detection\n",
    "import numpy as np\n",
    "import projection\n",
    "import plot\n",
    "import baseline_correction\n",
    "import netCDF4 as nc\n",
    "import matplotlib.pyplot as plt\n",
    "import peak_detection\n",
    "from kneed import KneeLocator\n",
    "import skimage"
   ]
  },
  {
   "cell_type": "code",
   "execution_count": null,
   "metadata": {},
   "outputs": [],
   "source": [
    "import sys\n",
    "!{sys.executable} -m pip install kneed"
   ]
  },
  {
   "cell_type": "code",
   "execution_count": null,
   "metadata": {},
   "outputs": [],
   "source": [
    "\n",
    "file_path = '/home/camille/Documents/app/data/input/A-F-028-817822-droite-ReCIVA.cdf'"
   ]
  },
  {
   "cell_type": "code",
   "execution_count": null,
   "metadata": {},
   "outputs": [],
   "source": [
    "    \n",
    "# get_mod_time(file_path):\n",
    "data = nc.Dataset(file_path, 'r')\n",
    "scan_number = data.dimensions['scan_number'].size\n",
    "if scan_number == 328125:   \n",
    "    mod_time = 1.25\n",
    "    print(\"type de donnees: G0/plasma\")\n",
    "elif scan_number == 540035:\n",
    "    mod_time = 1.7\n",
    "    print(\"type de donnnees: air expire\")\n",
    "else:\n",
    "    print(\"scan_number non reconnu\")\n",
    "mod_time\n",
    "# return mod_time"
   ]
  },
  {
   "cell_type": "code",
   "execution_count": null,
   "metadata": {},
   "outputs": [],
   "source": [
    "tic_chromato, time_rn, spectra_obj = read_chroma.read_chroma(file_path, mod_time, None)"
   ]
  },
  {
   "cell_type": "code",
   "execution_count": null,
   "metadata": {},
   "outputs": [],
   "source": [
    "\n",
    "plot.visualizer((tic_chromato, time_rn), title=\"chromato_tic\", log_chromato=False,)"
   ]
  },
  {
   "cell_type": "code",
   "execution_count": null,
   "metadata": {},
   "outputs": [],
   "source": [
    "# evaluate best filtering factor on chromato tic after preprocessing +  peak detection with peak local max\n",
    "def evaluate_filtering_factors(chromato, sigma, filtering_factors,):\n",
    "    results = []\n",
    "\n",
    "    for ff in filtering_factors:\n",
    "        threshold = ff * sigma * 100 / np.max(chromato)\n",
    "            # if chromatogram is very noisy : avoid detecting noise as if it were real\n",
    "            # peaks.\n",
    "            # if chonmatogram  is very clean: detect weaker peaks\n",
    "        peaks = peak_detection.peak_detection((chromato, time_rn, None), spectra=None, chromato_cube=None, dynamic_threshold_fact=threshold, ABS_THRESHOLDS=None, method=\"peak_local_max\", mode=\"tic\", cluster=False, unique=False)\n",
    "        # peaks = peak_detection.peak_detection((chromato, time_rn, None), spectra=None, chromato_cube=None, dynamic_threshold_fact=threshold, ABS_THRESHOLDS=None, method=\"persistent_homology\", mode=\"tic\", cluster=False, unique=False)\n",
    "        results.append(len(peaks))\n",
    "\n",
    "    return results\n",
    "\n",
    "filtering_factors = np.linspace(0.1, 1.0, 20)  # 20 valeurs entre 0.1 et 1.0\n",
    "\n",
    "chromato_tic_preprocessed = baseline_correction.chromato_reduced_noise(tic_chromato)\n",
    "sigma = skimage.restoration.estimate_sigma(chromato_tic_preprocessed, channel_axis=None)\n",
    "\n",
    "n_peaks = evaluate_filtering_factors(chromato_tic_preprocessed, sigma, filtering_factors)\n"
   ]
  },
  {
   "cell_type": "code",
   "execution_count": null,
   "metadata": {},
   "outputs": [],
   "source": [
    "plt.figure(figsize=(8, 5))\n",
    "plt.plot(filtering_factors, n_peaks, marker='o')\n",
    "plt.title(\"Nombre de pics détectés vs Filtering Factor\")\n",
    "plt.xlabel(\"Filtering Factor\")\n",
    "plt.ylabel(\"Nombre de pics détectés\")\n",
    "plt.grid(True)\n",
    "plt.show()"
   ]
  },
  {
   "cell_type": "code",
   "execution_count": null,
   "metadata": {},
   "outputs": [],
   "source": [
    "knee = KneeLocator(filtering_factors, n_peaks, curve='convex', direction='decreasing')\n",
    "print(f\"Filtering factor optimal ≈ {knee.knee}\")"
   ]
  }
 ],
 "metadata": {
  "kernelspec": {
   "display_name": "base",
   "language": "python",
   "name": "python3"
  },
  "language_info": {
   "codemirror_mode": {
    "name": "ipython",
    "version": 3
   },
   "file_extension": ".py",
   "mimetype": "text/x-python",
   "name": "python",
   "nbconvert_exporter": "python",
   "pygments_lexer": "ipython3",
   "version": "3.12.7"
  }
 },
 "nbformat": 4,
 "nbformat_minor": 2
}
