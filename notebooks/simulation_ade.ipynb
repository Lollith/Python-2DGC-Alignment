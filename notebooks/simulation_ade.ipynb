{
 "cells": [
  {
   "cell_type": "code",
   "execution_count": 1,
   "metadata": {},
   "outputs": [],
   "source": [
    "# mv this notebook in src folder\n",
    "# or\n",
    "# set sys path to src folder\n",
    "import os, sys\n",
    "path_to_scr_folder=os.path.join(os.path.dirname(os.path.abspath('')), 'src')\n",
    "sys.path.append(path_to_scr_folder)"
   ]
  },
  {
   "cell_type": "code",
   "execution_count": 2,
   "metadata": {},
   "outputs": [],
   "source": [
    "import peak_simulation\n",
    "import read_chroma\n",
    "import plot"
   ]
  },
  {
   "cell_type": "code",
   "execution_count": 9,
   "metadata": {},
   "outputs": [],
   "source": [
    "# FILENAME of the chromatogram used as model to create the new chromatogram\n",
    "# model_filename='F:/Bureau/032023-data-Tenax-VOC-COVID/801850-A-C-01-157-split10.cdf'\n",
    "# model_filename=...\n",
    "# model_filename='F:/Bureau/032023-data-Tenax-VOC-COVID/801850-A-C-01-157-split10.cdf'\n",
    "model_filename='/home/camille/Documents/app/data/A-F-028-817822-droite-ReCIVA.cdf'\n",
    "file_path_h5='/home/camille/Documents/app/data/A-F-028-817822-droite-ReCIVA.h5'\n",
    "\n",
    "\n",
    "# PATH where the cdf and the associated ground truth will be created\n",
    "# new_cdf_path=...\n",
    "new_cdf_path=\"/home/camille/Documents/app/data/SIMULATION/\"\n",
    "# NAME of the new chromatogram\n",
    "# cdf_name=\"test\"\n",
    "# cdf_name=...\n",
    "cdf_name=\"simulation_Reciva\"\n",
    "\n",
    "# FILENAME of the HMDB library. The file alread exists in the src folder but can be recreated. See README.md https://github.com/Easy47/Python-2DGC#if-you-need-to-simulate-data (2.)\n",
    "# lib_path='C:/Users/Stan/Python-2DGC/src/lib_EIB_gt.mgf'\n",
    "# lib_path=...\n",
    "# lib_path='C:/Users/Stan/Python-2DGC/src/lib_EIB_gt.mgf'\n",
    "lib_path='/home/camille/Documents/code/Python-2DGC-Alignment/src/lib_EIB_gt.mgf'\n",
    "\n",
    "# FILENAME of the HMDB library spectra pairwise scores\n",
    "# scores_path='C:/Users/Stan/Python-2DGC/src/lib_scores.json'\n",
    "# scores_path=...\n",
    "# scores_path='C:/Users/Stan/Python-2DGC/src/lib_scores.json'\n"
   ]
  },
  {
   "cell_type": "code",
   "execution_count": 16,
   "metadata": {},
   "outputs": [
    {
     "ename": "KeyboardInterrupt",
     "evalue": "",
     "output_type": "error",
     "traceback": [
      "\u001b[0;31m---------------------------------------------------------------------------\u001b[0m",
      "\u001b[0;31mKeyboardInterrupt\u001b[0m                         Traceback (most recent call last)",
      "Cell \u001b[0;32mIn[16], line 4\u001b[0m\n\u001b[1;32m      1\u001b[0m \u001b[38;5;66;03m#scores\u001b[39;00m\n\u001b[1;32m      2\u001b[0m \u001b[38;5;28;01mimport\u001b[39;00m \u001b[38;5;21;01mutils\u001b[39;00m\n\u001b[0;32m----> 4\u001b[0m utils\u001b[38;5;241m.\u001b[39mgenerate_lib_scores_from_lib(lib_filename\u001b[38;5;241m=\u001b[39m\u001b[38;5;124m\"\u001b[39m\u001b[38;5;124m../src/lib_EIB.mgf\u001b[39m\u001b[38;5;124m\"\u001b[39m, output_path \u001b[38;5;241m=\u001b[39m \u001b[38;5;124m\"\u001b[39m\u001b[38;5;124m./lib_scores.json\u001b[39m\u001b[38;5;124m\"\u001b[39m)\n",
      "File \u001b[0;32m~/Documents/code/agouet/Python-2DGC-Alignment/src/utils.py:420\u001b[0m, in \u001b[0;36mgenerate_lib_scores_from_lib\u001b[0;34m(lib_filename, output_path)\u001b[0m\n\u001b[1;32m    417\u001b[0m logger\u001b[38;5;241m.\u001b[39msetLevel(\u001b[38;5;124m'\u001b[39m\u001b[38;5;124mERROR\u001b[39m\u001b[38;5;124m'\u001b[39m)\n\u001b[1;32m    419\u001b[0m spectra \u001b[38;5;241m=\u001b[39m \u001b[38;5;28mlist\u001b[39m(load_from_mgf(lib_filename))\n\u001b[0;32m--> 420\u001b[0m scores \u001b[38;5;241m=\u001b[39m calculate_scores(references\u001b[38;5;241m=\u001b[39mspectra,\n\u001b[1;32m    421\u001b[0m                         queries\u001b[38;5;241m=\u001b[39mspectra,\n\u001b[1;32m    422\u001b[0m                         similarity_function\u001b[38;5;241m=\u001b[39mCosineGreedy(),\n\u001b[1;32m    423\u001b[0m                         is_symmetric\u001b[38;5;241m=\u001b[39m\u001b[38;5;28;01mFalse\u001b[39;00m, array_type\u001b[38;5;241m=\u001b[39m\u001b[38;5;124m\"\u001b[39m\u001b[38;5;124mnumpy\u001b[39m\u001b[38;5;124m\"\u001b[39m)\n\u001b[1;32m    424\u001b[0m scores\u001b[38;5;241m.\u001b[39mto_json(output_path)\n",
      "File \u001b[0;32m~/anaconda3/lib/python3.12/site-packages/matchms/calculate_scores.py:64\u001b[0m, in \u001b[0;36mcalculate_scores\u001b[0;34m(references, queries, similarity_function, array_type, is_symmetric)\u001b[0m\n\u001b[1;32m      6\u001b[0m \u001b[38;5;28;01mdef\u001b[39;00m \u001b[38;5;21mcalculate_scores\u001b[39m(references: ReferencesType, queries: QueriesType,\n\u001b[1;32m      7\u001b[0m                      similarity_function: BaseSimilarity,\n\u001b[1;32m      8\u001b[0m                      array_type: \u001b[38;5;28mstr\u001b[39m \u001b[38;5;241m=\u001b[39m \u001b[38;5;124m\"\u001b[39m\u001b[38;5;124mnumpy\u001b[39m\u001b[38;5;124m\"\u001b[39m,\n\u001b[1;32m      9\u001b[0m                      is_symmetric: \u001b[38;5;28mbool\u001b[39m \u001b[38;5;241m=\u001b[39m \u001b[38;5;28;01mFalse\u001b[39;00m) \u001b[38;5;241m-\u001b[39m\u001b[38;5;241m>\u001b[39m Scores:\n\u001b[1;32m     10\u001b[0m \u001b[38;5;250m    \u001b[39m\u001b[38;5;124;03m\"\"\"Calculate the similarity between all reference objects versus all query objects.\u001b[39;00m\n\u001b[1;32m     11\u001b[0m \n\u001b[1;32m     12\u001b[0m \u001b[38;5;124;03m    Example to calculate scores between 2 spectra and iterate over the scores\u001b[39;00m\n\u001b[0;32m   (...)\u001b[0m\n\u001b[1;32m     61\u001b[0m \u001b[38;5;124;03m    ~matchms.Scores.Scores\u001b[39;00m\n\u001b[1;32m     62\u001b[0m \u001b[38;5;124;03m    \"\"\"\u001b[39;00m\n\u001b[1;32m     63\u001b[0m     \u001b[38;5;28;01mreturn\u001b[39;00m Scores(references\u001b[38;5;241m=\u001b[39mreferences, queries\u001b[38;5;241m=\u001b[39mqueries,\n\u001b[0;32m---> 64\u001b[0m                   is_symmetric\u001b[38;5;241m=\u001b[39mis_symmetric)\u001b[38;5;241m.\u001b[39mcalculate(similarity_function, array_type\u001b[38;5;241m=\u001b[39marray_type)\n",
      "File \u001b[0;32m~/anaconda3/lib/python3.12/site-packages/matchms/Scores.py:176\u001b[0m, in \u001b[0;36mScores.calculate\u001b[0;34m(self, similarity_function, name, array_type, join_type)\u001b[0m\n\u001b[1;32m    171\u001b[0m     \u001b[38;5;28mself\u001b[39m\u001b[38;5;241m.\u001b[39m_scores\u001b[38;5;241m.\u001b[39madd_sparse_data(\u001b[38;5;28mself\u001b[39m\u001b[38;5;241m.\u001b[39m_scores\u001b[38;5;241m.\u001b[39mrow,\n\u001b[1;32m    172\u001b[0m                                  \u001b[38;5;28mself\u001b[39m\u001b[38;5;241m.\u001b[39m_scores\u001b[38;5;241m.\u001b[39mcol,\n\u001b[1;32m    173\u001b[0m                                  new_scores,\n\u001b[1;32m    174\u001b[0m                                  name)\n\u001b[1;32m    175\u001b[0m \u001b[38;5;28;01melse\u001b[39;00m:\n\u001b[0;32m--> 176\u001b[0m     new_scores \u001b[38;5;241m=\u001b[39m similarity_function\u001b[38;5;241m.\u001b[39mmatrix(\u001b[38;5;28mself\u001b[39m\u001b[38;5;241m.\u001b[39mreferences,\n\u001b[1;32m    177\u001b[0m                                             \u001b[38;5;28mself\u001b[39m\u001b[38;5;241m.\u001b[39mqueries,\n\u001b[1;32m    178\u001b[0m                                             array_type\u001b[38;5;241m=\u001b[39marray_type,\n\u001b[1;32m    179\u001b[0m                                             is_symmetric\u001b[38;5;241m=\u001b[39m\u001b[38;5;28mself\u001b[39m\u001b[38;5;241m.\u001b[39mis_symmetric)\n\u001b[1;32m    180\u001b[0m     \u001b[38;5;28;01mif\u001b[39;00m \u001b[38;5;28misinstance\u001b[39m(new_scores, np\u001b[38;5;241m.\u001b[39mndarray):\n\u001b[1;32m    181\u001b[0m         \u001b[38;5;28mself\u001b[39m\u001b[38;5;241m.\u001b[39m_scores\u001b[38;5;241m.\u001b[39madd_dense_matrix(new_scores, name, join_type\u001b[38;5;241m=\u001b[39mjoin_type)\n",
      "File \u001b[0;32m~/anaconda3/lib/python3.12/site-packages/matchms/similarity/BaseSimilarity.py:82\u001b[0m, in \u001b[0;36mBaseSimilarity.matrix\u001b[0;34m(self, references, queries, array_type, is_symmetric)\u001b[0m\n\u001b[1;32m     80\u001b[0m \u001b[38;5;28;01melse\u001b[39;00m:\n\u001b[1;32m     81\u001b[0m     \u001b[38;5;28;01mfor\u001b[39;00m i_query, query \u001b[38;5;129;01min\u001b[39;00m \u001b[38;5;28menumerate\u001b[39m(queries[:n_cols]):\n\u001b[0;32m---> 82\u001b[0m         score \u001b[38;5;241m=\u001b[39m \u001b[38;5;28mself\u001b[39m\u001b[38;5;241m.\u001b[39mpair(reference, query)\n\u001b[1;32m     83\u001b[0m         \u001b[38;5;28;01mif\u001b[39;00m \u001b[38;5;28mself\u001b[39m\u001b[38;5;241m.\u001b[39mkeep_score(score):\n\u001b[1;32m     84\u001b[0m             idx_row\u001b[38;5;241m.\u001b[39mappend(i_ref)\n",
      "File \u001b[0;32m~/anaconda3/lib/python3.12/site-packages/matchms/similarity/CosineGreedy.py:101\u001b[0m, in \u001b[0;36mCosineGreedy.pair\u001b[0;34m(self, reference, query)\u001b[0m\n\u001b[1;32m     99\u001b[0m \u001b[38;5;28;01mif\u001b[39;00m matching_pairs \u001b[38;5;129;01mis\u001b[39;00m \u001b[38;5;28;01mNone\u001b[39;00m:\n\u001b[1;32m    100\u001b[0m     \u001b[38;5;28;01mreturn\u001b[39;00m np\u001b[38;5;241m.\u001b[39masarray((\u001b[38;5;28mfloat\u001b[39m(\u001b[38;5;241m0\u001b[39m), \u001b[38;5;241m0\u001b[39m), dtype\u001b[38;5;241m=\u001b[39m\u001b[38;5;28mself\u001b[39m\u001b[38;5;241m.\u001b[39mscore_datatype)\n\u001b[0;32m--> 101\u001b[0m score \u001b[38;5;241m=\u001b[39m score_best_matches(matching_pairs, spec1, spec2,\n\u001b[1;32m    102\u001b[0m                            \u001b[38;5;28mself\u001b[39m\u001b[38;5;241m.\u001b[39mmz_power, \u001b[38;5;28mself\u001b[39m\u001b[38;5;241m.\u001b[39mintensity_power)\n\u001b[1;32m    103\u001b[0m \u001b[38;5;28;01mreturn\u001b[39;00m np\u001b[38;5;241m.\u001b[39masarray(score, dtype\u001b[38;5;241m=\u001b[39m\u001b[38;5;28mself\u001b[39m\u001b[38;5;241m.\u001b[39mscore_datatype)\n",
      "\u001b[0;31mKeyboardInterrupt\u001b[0m: "
     ]
    }
   ],
   "source": [
    "#scores\n",
    "import utils\n",
    "\n",
    "utils.generate_lib_scores_from_lib(lib_filename=\"../src/lib_EIB.mgf\", output_path = \"./lib_scores.json\")\n"
   ]
  },
  {
   "cell_type": "code",
   "execution_count": 10,
   "metadata": {},
   "outputs": [],
   "source": [
    "scores_path='./lib_scores.json'"
   ]
  },
  {
   "cell_type": "code",
   "execution_count": 11,
   "metadata": {},
   "outputs": [],
   "source": [
    "min_similarity=0.8      # Pics bien définis\n",
    "max_similarity=0.95     # Éviter la redondance\n",
    "min_overlap=0.5 #0.1         # Chevauchement minimal\n",
    "max_overlap=0.8 #0.3        # Pas trop de coélution\n",
    "intensity_range_min=50000  # Intensités détectables\n",
    "intensity_range_max=200000\n",
    "noise_scale=200.0       # moins de variabilite\n",
    "nb_chromato=10          # Plusieurs variantes\n",
    "noise_loc=500.0         # Bruit localisé\n",
    "\n",
    "# ou pour tester la robustesse\n",
    "# noise_loc=2000.0,         # Bruit élevé\n",
    "# noise_scale=800.0,        # Haute variabilité\n",
    "\n",
    "# noise_loc=100.0,          # Bruit très faible pour tests\n",
    "# noise_scale=50.0,\n",
    "\n",
    "# ancienne value\n",
    "# noise_loc=1000.0\n",
    "# noise_scale=500.0\n",
    "# min_overlap=0.70\n",
    "# max_overlap=0.99\n",
    "# intensity_range_min=60000000\n",
    "# intensity_range_max=90000000"
   ]
  },
  {
   "cell_type": "code",
   "execution_count": 13,
   "metadata": {},
   "outputs": [
    {
     "name": "stdout",
     "output_type": "stream",
     "text": [
      "scan_number_size: 540035\n",
      "type de donnnees: air expire\n",
      "modulation time: 1.7\n"
     ]
    }
   ],
   "source": [
    "import h5py\n",
    "def get_mod_time(file_path_h5):\n",
    "        \"\"\"Get modulation time based on scan_number from CDF file.\"\"\"\n",
    "           #TODO recup  le .npy\n",
    "        # print(f\"Analyzing file: {file_path}\")\n",
    "        with h5py.File(file_path_h5, 'r') as f:\n",
    "            scan_number = f.attrs['scan_number_size']\n",
    "            print(f\"scan_number_size: {scan_number}\")\n",
    "\n",
    "        # data = nc.Dataset(file_path, 'r')\n",
    "        # scan_number = data.dimensions['scan_number'].size\n",
    "        if scan_number == 328125:   \n",
    "            mod_time = 1.25\n",
    "            print(\"type de donnees: G0/plasma\")\n",
    "        elif scan_number == 540035:\n",
    "            mod_time = 1.7\n",
    "            print(\"type de donnnees: air expire\")\n",
    "        else:\n",
    "            print(\"scan_number non reconnu\")\n",
    "        # mod_time =1.7\n",
    "        print(f\"modulation time: {mod_time}\")\n",
    "        return mod_time\n",
    "\n",
    "mod_time = get_mod_time(file_path_h5)"
   ]
  },
  {
   "cell_type": "code",
   "execution_count": 18,
   "metadata": {},
   "outputs": [
    {
     "name": "stdout",
     "output_type": "stream",
     "text": [
      "4 499\n",
      "new_chromato_cube shape:  (496, 2160, 250)\n"
     ]
    }
   ],
   "source": [
    "params = peak_simulation.simulation_from_cdf_model(\n",
    "    new_cdf_path=new_cdf_path,\n",
    "    cdf_name=cdf_name,\n",
    "    model_filename=model_filename,\n",
    "    lib_path=lib_path,scores_path=scores_path,\n",
    "    noise_loc=noise_loc,\n",
    "    noise_scale=noise_scale,\n",
    "    min_overlap=min_overlap,\n",
    "    max_overlap=max_overlap,\n",
    "    intensity_range_min=intensity_range_min,\n",
    "    intensity_range_max=intensity_range_max)"
   ]
  },
  {
   "cell_type": "markdown",
   "metadata": {},
   "source": [
    "Plot the created chromatogram"
   ]
  },
  {
   "cell_type": "markdown",
   "metadata": {},
   "source": [
    "# transformer  mon .cdf en .h5 avec lappli flask\n",
    "chemin d entree : /home/camille/Documents/app/data/SIMULATION/\n",
    "chemin de sortie :/home/camille/Documents/app/data/SIMULATION/"
   ]
  },
  {
   "cell_type": "code",
   "execution_count": 15,
   "metadata": {},
   "outputs": [],
   "source": [
    "chromato_obj_new=read_chroma.read_chroma(new_cdf_path + '/' + cdf_name + \".h5\", mod_time)"
   ]
  },
  {
   "cell_type": "code",
   "execution_count": 17,
   "metadata": {},
   "outputs": [
    {
     "data": {
      "image/png": "[encoded data removed]",
      "text/plain": [
       "<Figure size 640x480 with 2 Axes>"
      ]
     },
     "metadata": {},
     "output_type": "display_data"
    }
   ],
   "source": [
    "plot.visualizer((chromato_obj_new[0], chromato_obj_new[1]), mod_time=mod_time)"
   ]
  }
 ],
 "metadata": {
  "kernelspec": {
   "display_name": "base",
   "language": "python",
   "name": "python3"
  },
  "language_info": {
   "codemirror_mode": {
    "name": "ipython",
    "version": 3
   },
   "file_extension": ".py",
   "mimetype": "text/x-python",
   "name": "python",
   "nbconvert_exporter": "python",
   "pygments_lexer": "ipython3",
   "version": "3.12.7"
  },
  "orig_nbformat": 4
 },
 "nbformat": 4,
 "nbformat_minor": 2
}
