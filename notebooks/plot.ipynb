{
 "cells": [
  {
   "cell_type": "code",
   "execution_count": 2,
   "metadata": {},
   "outputs": [],
   "source": [
    "# mv this notebook in src folder\n",
    "# or\n",
    "# set sys path to src folder\n",
    "import os, sys\n",
    "path_to_scr_folder=os.path.join(os.path.dirname(os.path.abspath('')), 'src')\n",
    "sys.path.append(path_to_scr_folder)"
   ]
  },
  {
   "cell_type": "code",
   "execution_count": 3,
   "metadata": {},
   "outputs": [],
   "source": [
    "import plot\n",
    "from identification import sample_identification\n",
    "from read_chroma import read_only_chroma\n",
    "from read_chroma import read_chromato_and_chromato_cube"
   ]
  },
  {
   "cell_type": "code",
   "execution_count": 4,
   "metadata": {},
   "outputs": [],
   "source": [
    "# path='/media/camille/DATA1/cdf centroid/'\n",
    "# file='A-F-028-817822-droite-ReCIVA.cdf'\n",
    "file_path = \"D:/GCxGC_MS/DATA/A-F-028-817822-droite-ReCIVA.h5\""
   ]
  },
  {
   "cell_type": "code",
   "execution_count": null,
   "metadata": {},
   "outputs": [
    {
     "name": "stdout",
     "output_type": "stream",
     "text": [
      "chromato read 1.886643886566162 s\n"
     ]
    },
    {
     "name": "stderr",
     "output_type": "stream",
     "text": [
      "Exception in thread Thread-3 (_handle_workers):\n",
      "Traceback (most recent call last):\n",
      "  File \"c:\\Users\\Metabolomique\\AppData\\Local\\Programs\\Python\\Python312\\Lib\\threading.py\", line 1075, in _bootstrap_inner\n",
      "    self.run()\n",
      "  File \"C:\\Users\\Metabolomique\\AppData\\Roaming\\Python\\Python312\\site-packages\\ipykernel\\ipkernel.py\", line 766, in run_closure\n",
      "    _threading_Thread_run(self)\n",
      "  File \"c:\\Users\\Metabolomique\\AppData\\Local\\Programs\\Python\\Python312\\Lib\\threading.py\", line 1012, in run\n",
      "    self._target(*self._args, **self._kwargs)\n",
      "  File \"c:\\Users\\Metabolomique\\AppData\\Local\\Programs\\Python\\Python312\\Lib\\multiprocessing\\pool.py\", line 522, in _handle_workers\n",
      "    cls._wait_for_updates(current_sentinels, change_notifier)\n",
      "  File \"c:\\Users\\Metabolomique\\AppData\\Local\\Programs\\Python\\Python312\\Lib\\multiprocessing\\pool.py\", line 502, in _wait_for_updates\n",
      "    wait(sentinels, timeout=timeout)\n",
      "  File \"c:\\Users\\Metabolomique\\AppData\\Local\\Programs\\Python\\Python312\\Lib\\multiprocessing\\connection.py\", line 1084, in wait\n",
      "    ready_handles = _exhaustive_wait(waithandle_to_obj.keys(), timeout)\n",
      "                    ^^^^^^^^^^^^^^^^^^^^^^^^^^^^^^^^^^^^^^^^^^^^^^^^^^^\n",
      "  File \"c:\\Users\\Metabolomique\\AppData\\Local\\Programs\\Python\\Python312\\Lib\\multiprocessing\\connection.py\", line 1016, in _exhaustive_wait\n",
      "    res = _winapi.WaitForMultipleObjects(L, False, timeout)\n",
      "          ^^^^^^^^^^^^^^^^^^^^^^^^^^^^^^^^^^^^^^^^^^^^^^^^^\n",
      "ValueError: need at most 63 handles, got a sequence of length 98\n"
     ]
    }
   ],
   "source": [
    "chromato, time_rn= read_chromato_and_chromato_cube(file_path, mod_time = 1.7)\n",
    "# chromato, time_rn, chromato_cube, sigma, (range_min, range_max)= read_chromato_and_chromato_cube(path+file, mod_time = 1.7) #CRASH"
   ]
  },
  {
   "cell_type": "code",
   "execution_count": 17,
   "metadata": {},
   "outputs": [
    {
     "ename": "NameError",
     "evalue": "name 'chromato' is not defined",
     "output_type": "error",
     "traceback": [
      "\u001b[31m---------------------------------------------------------------------------\u001b[39m",
      "\u001b[31mNameError\u001b[39m                                 Traceback (most recent call last)",
      "\u001b[36mCell\u001b[39m\u001b[36m \u001b[39m\u001b[32mIn[17]\u001b[39m\u001b[32m, line 1\u001b[39m\n\u001b[32m----> \u001b[39m\u001b[32m1\u001b[39m \u001b[43mchromato\u001b[49m.shape()\n",
      "\u001b[31mNameError\u001b[39m: name 'chromato' is not defined"
     ]
    }
   ],
   "source": [
    "chromato.shape()"
   ]
  },
  {
   "cell_type": "code",
   "execution_count": null,
   "metadata": {},
   "outputs": [],
   "source": [
    "sample_identification(\n",
    "                path=\"D:/GCxGC_MS/DATA/Dossier_partagé_GCxGC/Manue/GCxGC_VOLATIL-CF_01/\",\n",
    "                file= \"624848_0017VE_J0.cdf\",\n",
    "                output_path= None,\n",
    "                mod_time=1.7,\n",
    "                method=\"persistent_homology\",\n",
    "                mode=\"tic\",\n",
    "                noise_factor = 1.5,\n",
    "                hit_prob_min=65,\n",
    "                abs_thresholds=0.,\n",
    "                rel_thresholds=0.01,\n",
    "                cluster=True,\n",
    "                min_distance=1,\n",
    "                min_sigma=1,\n",
    "                max_sigma=30,\n",
    "                sigma_ratio=1.6, \n",
    "                num_sigma=1,\n",
    "                formated_spectra=True,\n",
    "                match_factor_min=650,\n",
    "                min_persistence=0.02\n",
    "                )"
   ]
  },
  {
   "cell_type": "markdown",
   "metadata": {},
   "source": [
    "# Plot chromatogram"
   ]
  },
  {
   "cell_type": "code",
   "execution_count": null,
   "metadata": {},
   "outputs": [],
   "source": [
    "plot.visualizer((chromato, time_rn), title=\"chromato\", log_chromato=False)\n",
    "plot.visualizer((chromato, time_rn), title=\"log chromato\")"
   ]
  },
  {
   "cell_type": "markdown",
   "metadata": {},
   "source": [
    "Zoom around matrix or chromatogram coordinate"
   ]
  },
  {
   "cell_type": "code",
   "execution_count": null,
   "metadata": {},
   "outputs": [],
   "source": [
    "# zoom around matrix coordinate\n",
    "plot.visualizer((chromato, time_rn), title=\"chromato\", log_chromato=False, center_pt=[200,200], center_pt_window_1=20, center_pt_window_2=20)"
   ]
  },
  {
   "cell_type": "code",
   "execution_count": null,
   "metadata": {},
   "outputs": [],
   "source": [
    "# zoom around chromatogram coordinate\n",
    "plot.visualizer((chromato, time_rn), title=\"chromato\", log_chromato=False, rt1 = 20, rt2 =0.5, rt1_window = 5, rt2_window = 0.1)"
   ]
  },
  {
   "cell_type": "markdown",
   "metadata": {},
   "source": [
    "Plot 3D chromatogram (intensities as third coordinates)"
   ]
  },
  {
   "cell_type": "code",
   "execution_count": null,
   "metadata": {},
   "outputs": [],
   "source": [
    "# plot with strides (faster)\n",
    "plot.plot_3d_chromato(chromato)"
   ]
  },
  {
   "cell_type": "code",
   "execution_count": null,
   "metadata": {},
   "outputs": [],
   "source": [
    "# plot without strides (slower but more precise)\n",
    "plot.plot_3d_chromato(chromato, rstride=1, cstride=1)"
   ]
  },
  {
   "cell_type": "markdown",
   "metadata": {},
   "source": [
    "# Plot peaks"
   ]
  },
  {
   "cell_type": "code",
   "execution_count": null,
   "metadata": {},
   "outputs": [],
   "source": [
    "#package modules\n",
    "from read_chroma import read_chromato_and_chromato_cube\n",
    "from peak_detection import peak_detection\n",
    "from identification import compute_matches_identification, cohort_identification_alignment_input_format_txt, cohort_identification_to_csv\n",
    "from matching import matching_nist_lib_from_chromato_cube\n",
    "from utils import get_name_dict\n",
    "import projection\n",
    "###\n",
    "import numpy as np"
   ]
  },
  {
   "cell_type": "code",
   "execution_count": null,
   "metadata": {},
   "outputs": [],
   "source": [
    "chromato, time_rn, chromato_cube, sigma, mass_range=read_chromato_and_chromato_cube(file_path, mod_time=1.25, pre_process=True)"
   ]
  },
  {
   "cell_type": "code",
   "execution_count": null,
   "metadata": {},
   "outputs": [],
   "source": [
    "seuil=5\n",
    "MIN_SEUIL = seuil * sigma * 100 / np.max(chromato)\n",
    "# detect peaks\n",
    "coordinates = peak_detection((chromato, time_rn, None), None, chromato_cube, MIN_SEUIL, None)\n",
    "len(coordinates)"
   ]
  },
  {
   "cell_type": "code",
   "execution_count": null,
   "metadata": {},
   "outputs": [],
   "source": [
    "# project the coordinates\n",
    "coordinates_in_chromato=projection.matrix_to_chromato(coordinates, time_rn, 1.25, chromato.shape)"
   ]
  },
  {
   "cell_type": "code",
   "execution_count": null,
   "metadata": {},
   "outputs": [],
   "source": [
    "# plot peaks\n",
    "plot.visualizer((chromato, time_rn), title=\"chromato\", log_chromato=False, points=coordinates_in_chromato)\n",
    "plot.visualizer((chromato, time_rn), title=\"log chromato\", points=coordinates_in_chromato)\n",
    "plot.visualizer((chromato, time_rn), title=\"chromato\", log_chromato=False, points=coordinates_in_chromato, center_pt=[200,200], center_pt_window_1=20, center_pt_window_2=20)"
   ]
  },
  {
   "cell_type": "code",
   "execution_count": null,
   "metadata": {},
   "outputs": [],
   "source": [
    "hit_prob_min=0\n",
    "match_factor_min=0\n",
    "# 2D peaks identification with NIST datanase\n",
    "matches = matching_nist_lib_from_chromato_cube((chromato, time_rn, mass_range), chromato_cube, coordinates, mod_time = 1.25, hit_prob_min=hit_prob_min, match_factor_min=match_factor_min)"
   ]
  },
  {
   "cell_type": "code",
   "execution_count": null,
   "metadata": {},
   "outputs": [],
   "source": [
    "# group coordinates by casno\n",
    "casnos_dictall = get_name_dict(matches)"
   ]
  },
  {
   "cell_type": "code",
   "execution_count": null,
   "metadata": {},
   "outputs": [],
   "source": [
    "# plot peaks\n",
    "plot.visualizer((chromato, time_rn), title=\"chromato\", log_chromato=False, points=coordinates_in_chromato, casnos_dict=casnos_dictall)\n",
    "plot.visualizer((chromato, time_rn), title=\"log chromato\", points=coordinates_in_chromato, casnos_dict=casnos_dictall)\n",
    "plot.visualizer((chromato, time_rn), title=\"chromato\", log_chromato=False, casnos_dict=casnos_dictall, points=coordinates_in_chromato, center_pt=[200,200], center_pt_window_1=20, center_pt_window_2=20)"
   ]
  },
  {
   "cell_type": "code",
   "execution_count": null,
   "metadata": {},
   "outputs": [],
   "source": [
    "import importlib\n",
    "importlib.reload(plot)"
   ]
  },
  {
   "cell_type": "code",
   "execution_count": null,
   "metadata": {},
   "outputs": [],
   "source": [
    "import importlib\n",
    "importlib.reload(plot)\n",
    "plot.visualizer((chromato, time_rn), title=\"chromato\", log_chromato=False, casnos_dict=casnos_dictall, points=coordinates_in_chromato, center_pt=[200,200], center_pt_window_1=20, center_pt_window_2=20)"
   ]
  },
  {
   "cell_type": "code",
   "execution_count": null,
   "metadata": {},
   "outputs": [],
   "source": [
    "plot.visualizer((chromato, time_rn), title=\"chromato\", log_chromato=False, casnos_dict=casnos_dictall, points=coordinates_in_chromato, rt1 = 20, rt2 =0.5, rt1_window = 5, rt2_window = 0.1)"
   ]
  }
 ],
 "metadata": {
  "kernelspec": {
   "display_name": "Python 3",
   "language": "python",
   "name": "python3"
  },
  "language_info": {
   "codemirror_mode": {
    "name": "ipython",
    "version": 3
   },
   "file_extension": ".py",
   "mimetype": "text/x-python",
   "name": "python",
   "nbconvert_exporter": "python",
   "pygments_lexer": "ipython3",
   "version": "3.12.10"
  }
 },
 "nbformat": 4,
 "nbformat_minor": 4
}
