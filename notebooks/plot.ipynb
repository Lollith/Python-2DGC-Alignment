{
 "cells": [
  {
   "cell_type": "code",
   "execution_count": 1,
   "metadata": {},
   "outputs": [],
   "source": [
    "# mv this notebook in src folder\n",
    "# or\n",
    "# set sys path to src folder\n",
    "import os, sys\n",
    "path_to_scr_folder=os.path.join(os.path.dirname(os.path.abspath('')), 'src')\n",
    "sys.path.append(path_to_scr_folder)"
   ]
  },
  {
   "cell_type": "code",
   "execution_count": 2,
   "metadata": {},
   "outputs": [],
   "source": [
    "import plot\n",
    "from identification import sample_identification\n",
    "from read_chroma import read_chromato_and_chromato_cube"
   ]
  },
  {
   "cell_type": "code",
   "execution_count": null,
   "metadata": {},
   "outputs": [],
   "source": [
    "# path='/media/camille/DATA1/cdf centroid/'\n",
    "# file='A-F-028-817822-droite-ReCIVA.cdf'\n",
    "#file_path = \"D:/GCxGC_MS/DATA/A-F-028-817822-droite-ReCIVA.h5\"\n",
    "# file_path = \"D:/GCxGC_MS/DATA/A-F-028-817822-droite-ReCIVA.cdf\"\n",
    "#file_path = \"/home/camille/Documents/app/data/A-F-028-817822-droite-ReCIVA.cdf\"\n",
    "\n",
    "#docker\n",
    "file_path = \"/app/data/A-F-028-817822-droite-ReCIVA.cdf\"\n",
    "file_path = \"C:\\Users\\adeli\\Documents\\programmation\\uvsq\\app\\data\\test_adeline\\A-F-028-817822-droite-ReCIVA.cdf\""
   ]
  },
  {
   "cell_type": "code",
   "execution_count": 4,
   "metadata": {},
   "outputs": [
    {
     "data": {
      "image/png": "[encoded data removed]",
      "text/plain": [
       "<Figure size 640x480 with 2 Axes>"
      ]
     },
     "metadata": {},
     "output_type": "display_data"
    },
    {
     "name": "stdout",
     "output_type": "stream",
     "text": [
      "chromato read 8.664285659790039 s\n",
      "--- 114.87063336372375 seconds --- to compute full spectra centroid\n",
      "full spectra computed 117.05140781402588 s\n",
      "baseline corrected\n"
     ]
    }
   ],
   "source": [
    "# chromato, time_rn= read_chromato_and_chromato_cube(file_path, mod_time = 0.7)\n",
    "chromato, time_rn, chromato_cube, sigma, (range_min, range_max)= read_chromato_and_chromato_cube(file_path, mod_time = 1.7) #CRASH"
   ]
  },
  {
   "cell_type": "code",
   "execution_count": 5,
   "metadata": {},
   "outputs": [
    {
     "data": {
      "text/plain": [
       "(1588, 340)"
      ]
     },
     "execution_count": 5,
     "metadata": {},
     "output_type": "execute_result"
    }
   ],
   "source": [
    "chromato.shape"
   ]
  },
  {
   "cell_type": "code",
   "execution_count": null,
   "metadata": {},
   "outputs": [],
   "source": [
    "chromato, time_rn, chromato_cube, sigma, (range_min, range_max)= read_chromato_and_chromato_cube(file_path, mod_time = 1.7) #CRASH"
   ]
  },
  {
   "cell_type": "code",
   "execution_count": 22,
   "metadata": {},
   "outputs": [
    {
     "ename": "TypeError",
     "evalue": "sample_identification() got an unexpected keyword argument 'hit_prob_min'",
     "output_type": "error",
     "traceback": [
      "\u001b[31m---------------------------------------------------------------------------\u001b[39m",
      "\u001b[31mTypeError\u001b[39m                                 Traceback (most recent call last)",
      "\u001b[36mCell\u001b[39m\u001b[36m \u001b[39m\u001b[32mIn[22]\u001b[39m\u001b[32m, line 1\u001b[39m\n\u001b[32m----> \u001b[39m\u001b[32m1\u001b[39m \u001b[43msample_identification\u001b[49m\u001b[43m(\u001b[49m\n\u001b[32m      2\u001b[39m \u001b[43m                \u001b[49m\u001b[43mpath\u001b[49m\u001b[43m=\u001b[49m\u001b[33;43m\"\u001b[39;49m\u001b[33;43mD:/GCxGC_MS/DATA/Dossier_partagé_GCxGC/Manue/GCxGC_VOLATIL-CF_01/\u001b[39;49m\u001b[33;43m\"\u001b[39;49m\u001b[43m,\u001b[49m\n\u001b[32m      3\u001b[39m \u001b[43m                \u001b[49m\u001b[43mfile\u001b[49m\u001b[43m=\u001b[49m\u001b[43m \u001b[49m\u001b[33;43m\"\u001b[39;49m\u001b[33;43m624848_0017VE_J0.cdf\u001b[39;49m\u001b[33;43m\"\u001b[39;49m\u001b[43m,\u001b[49m\n\u001b[32m      4\u001b[39m \u001b[43m                \u001b[49m\u001b[43moutput_path\u001b[49m\u001b[43m=\u001b[49m\u001b[43m \u001b[49m\u001b[38;5;28;43;01mNone\u001b[39;49;00m\u001b[43m,\u001b[49m\n\u001b[32m      5\u001b[39m \u001b[43m                \u001b[49m\u001b[43mmod_time\u001b[49m\u001b[43m=\u001b[49m\u001b[32;43m1.7\u001b[39;49m\u001b[43m,\u001b[49m\n\u001b[32m      6\u001b[39m \u001b[43m                \u001b[49m\u001b[43mmethod\u001b[49m\u001b[43m=\u001b[49m\u001b[33;43m\"\u001b[39;49m\u001b[33;43mpersistent_homology\u001b[39;49m\u001b[33;43m\"\u001b[39;49m\u001b[43m,\u001b[49m\n\u001b[32m      7\u001b[39m \u001b[43m                \u001b[49m\u001b[43mmode\u001b[49m\u001b[43m=\u001b[49m\u001b[33;43m\"\u001b[39;49m\u001b[33;43mtic\u001b[39;49m\u001b[33;43m\"\u001b[39;49m\u001b[43m,\u001b[49m\n\u001b[32m      8\u001b[39m \u001b[43m                \u001b[49m\u001b[43mnoise_factor\u001b[49m\u001b[43m \u001b[49m\u001b[43m=\u001b[49m\u001b[43m \u001b[49m\u001b[32;43m1.5\u001b[39;49m\u001b[43m,\u001b[49m\n\u001b[32m      9\u001b[39m \u001b[43m                \u001b[49m\u001b[43mhit_prob_min\u001b[49m\u001b[43m=\u001b[49m\u001b[32;43m65\u001b[39;49m\u001b[43m,\u001b[49m\n\u001b[32m     10\u001b[39m \u001b[43m                \u001b[49m\u001b[43mabs_thresholds\u001b[49m\u001b[43m=\u001b[49m\u001b[32;43m0.\u001b[39;49m\u001b[43m,\u001b[49m\n\u001b[32m     11\u001b[39m \u001b[43m                \u001b[49m\u001b[43mrel_thresholds\u001b[49m\u001b[43m=\u001b[49m\u001b[32;43m0.01\u001b[39;49m\u001b[43m,\u001b[49m\n\u001b[32m     12\u001b[39m \u001b[43m                \u001b[49m\u001b[43mcluster\u001b[49m\u001b[43m=\u001b[49m\u001b[38;5;28;43;01mTrue\u001b[39;49;00m\u001b[43m,\u001b[49m\n\u001b[32m     13\u001b[39m \u001b[43m                \u001b[49m\u001b[43mmin_distance\u001b[49m\u001b[43m=\u001b[49m\u001b[32;43m1\u001b[39;49m\u001b[43m,\u001b[49m\n\u001b[32m     14\u001b[39m \u001b[43m                \u001b[49m\u001b[43mmin_sigma\u001b[49m\u001b[43m=\u001b[49m\u001b[32;43m1\u001b[39;49m\u001b[43m,\u001b[49m\n\u001b[32m     15\u001b[39m \u001b[43m                \u001b[49m\u001b[43mmax_sigma\u001b[49m\u001b[43m=\u001b[49m\u001b[32;43m30\u001b[39;49m\u001b[43m,\u001b[49m\n\u001b[32m     16\u001b[39m \u001b[43m                \u001b[49m\u001b[43msigma_ratio\u001b[49m\u001b[43m=\u001b[49m\u001b[32;43m1.6\u001b[39;49m\u001b[43m,\u001b[49m\u001b[43m \u001b[49m\n\u001b[32m     17\u001b[39m \u001b[43m                \u001b[49m\u001b[43mnum_sigma\u001b[49m\u001b[43m=\u001b[49m\u001b[32;43m1\u001b[39;49m\u001b[43m,\u001b[49m\n\u001b[32m     18\u001b[39m \u001b[43m                \u001b[49m\u001b[43mformated_spectra\u001b[49m\u001b[43m=\u001b[49m\u001b[38;5;28;43;01mTrue\u001b[39;49;00m\u001b[43m,\u001b[49m\n\u001b[32m     19\u001b[39m \u001b[43m                \u001b[49m\u001b[43mmatch_factor_min\u001b[49m\u001b[43m=\u001b[49m\u001b[32;43m650\u001b[39;49m\u001b[43m,\u001b[49m\n\u001b[32m     20\u001b[39m \u001b[43m                \u001b[49m\u001b[43mmin_persistence\u001b[49m\u001b[43m=\u001b[49m\u001b[32;43m0.02\u001b[39;49m\n\u001b[32m     21\u001b[39m \u001b[43m                \u001b[49m\u001b[43m)\u001b[49m\n",
      "\u001b[31mTypeError\u001b[39m: sample_identification() got an unexpected keyword argument 'hit_prob_min'"
     ]
    }
   ],
   "source": [
    "sample_identification(\n",
    "                path=\"D:/GCxGC_MS/DATA/Dossier_partagé_GCxGC/Manue/GCxGC_VOLATIL-CF_01/\",\n",
    "                file= \"624848_0017VE_J0.cdf\",\n",
    "                output_path= None,\n",
    "                mod_time=1.7,\n",
    "                method=\"persistent_homology\",\n",
    "                mode=\"tic\",\n",
    "                noise_factor = 1.5,\n",
    "                hit_prob_min=65,\n",
    "                abs_thresholds=0.,\n",
    "                rel_thresholds=0.01,\n",
    "                cluster=True,\n",
    "                min_distance=1,\n",
    "                min_sigma=1,\n",
    "                max_sigma=30,\n",
    "                sigma_ratio=1.6, \n",
    "                num_sigma=1,\n",
    "                formated_spectra=True,\n",
    "                match_factor_min=650,\n",
    "                min_persistence=0.02\n",
    "                )"
   ]
  },
  {
   "cell_type": "markdown",
   "metadata": {},
   "source": [
    "# Plot chromatogram"
   ]
  },
  {
   "cell_type": "code",
   "execution_count": null,
   "metadata": {},
   "outputs": [],
   "source": [
    "plot.visualizer((chromato, time_rn), title=\"chromato\", log_chromato=False)\n",
    "plot.visualizer((chromato, time_rn), title=\"log chromato\")"
   ]
  },
  {
   "cell_type": "markdown",
   "metadata": {},
   "source": [
    "Zoom around matrix or chromatogram coordinate"
   ]
  },
  {
   "cell_type": "code",
   "execution_count": null,
   "metadata": {},
   "outputs": [],
   "source": [
    "# zoom around matrix coordinate\n",
    "plot.visualizer((chromato, time_rn), title=\"chromato\", log_chromato=False, center_pt=[200,200], center_pt_window_1=20, center_pt_window_2=20)"
   ]
  },
  {
   "cell_type": "code",
   "execution_count": null,
   "metadata": {},
   "outputs": [],
   "source": [
    "# zoom around chromatogram coordinate\n",
    "plot.visualizer((chromato, time_rn), title=\"chromato\", log_chromato=False, rt1 = 20, rt2 =0.5, rt1_window = 5, rt2_window = 0.1)"
   ]
  },
  {
   "cell_type": "markdown",
   "metadata": {},
   "source": [
    "Plot 3D chromatogram (intensities as third coordinates)"
   ]
  },
  {
   "cell_type": "code",
   "execution_count": null,
   "metadata": {},
   "outputs": [],
   "source": [
    "# plot with strides (faster)\n",
    "plot.plot_3d_chromato(chromato)"
   ]
  },
  {
   "cell_type": "code",
   "execution_count": null,
   "metadata": {},
   "outputs": [],
   "source": [
    "# plot without strides (slower but more precise)\n",
    "plot.plot_3d_chromato(chromato, rstride=1, cstride=1)"
   ]
  },
  {
   "cell_type": "markdown",
   "metadata": {},
   "source": [
    "# Plot peaks"
   ]
  },
  {
   "cell_type": "code",
   "execution_count": null,
   "metadata": {},
   "outputs": [],
   "source": [
    "#package modules\n",
    "from read_chroma import read_chromato_and_chromato_cube\n",
    "from peak_detection import peak_detection\n",
    "from identification import compute_matches_identification, cohort_identification_alignment_input_format_txt, cohort_identification_to_csv\n",
    "from matching import matching_nist_lib_from_chromato_cube\n",
    "from utils import get_name_dict\n",
    "import projection\n",
    "###\n",
    "import numpy as np"
   ]
  },
  {
   "cell_type": "code",
   "execution_count": null,
   "metadata": {},
   "outputs": [],
   "source": [
    "chromato, time_rn, chromato_cube, sigma, mass_range=read_chromato_and_chromato_cube(file_path, mod_time=1.25, pre_process=True)"
   ]
  },
  {
   "cell_type": "code",
   "execution_count": null,
   "metadata": {},
   "outputs": [],
   "source": [
    "seuil=5\n",
    "MIN_SEUIL = seuil * sigma * 100 / np.max(chromato)\n",
    "# detect peaks\n",
    "coordinates = peak_detection((chromato, time_rn, None), None, chromato_cube, MIN_SEUIL, None)\n",
    "len(coordinates)"
   ]
  },
  {
   "cell_type": "code",
   "execution_count": null,
   "metadata": {},
   "outputs": [],
   "source": [
    "# project the coordinates\n",
    "coordinates_in_chromato=projection.matrix_to_chromato(coordinates, time_rn, 1.25, chromato.shape)"
   ]
  },
  {
   "cell_type": "code",
   "execution_count": null,
   "metadata": {},
   "outputs": [],
   "source": [
    "# plot peaks\n",
    "plot.visualizer((chromato, time_rn), title=\"chromato\", log_chromato=False, points=coordinates_in_chromato)\n",
    "plot.visualizer((chromato, time_rn), title=\"log chromato\", points=coordinates_in_chromato)\n",
    "plot.visualizer((chromato, time_rn), title=\"chromato\", log_chromato=False, points=coordinates_in_chromato, center_pt=[200,200], center_pt_window_1=20, center_pt_window_2=20)"
   ]
  },
  {
   "cell_type": "code",
   "execution_count": null,
   "metadata": {},
   "outputs": [],
   "source": [
    "hit_prob_min=0\n",
    "match_factor_min=0\n",
    "# 2D peaks identification with NIST datanase\n",
    "matches = matching_nist_lib_from_chromato_cube((chromato, time_rn, mass_range), chromato_cube, coordinates, mod_time = 1.25, hit_prob_min=hit_prob_min, match_factor_min=match_factor_min)"
   ]
  },
  {
   "cell_type": "code",
   "execution_count": null,
   "metadata": {},
   "outputs": [],
   "source": [
    "# group coordinates by casno\n",
    "casnos_dictall = get_name_dict(matches)"
   ]
  },
  {
   "cell_type": "code",
   "execution_count": null,
   "metadata": {},
   "outputs": [],
   "source": [
    "# plot peaks\n",
    "plot.visualizer((chromato, time_rn), title=\"chromato\", log_chromato=False, points=coordinates_in_chromato, casnos_dict=casnos_dictall)\n",
    "plot.visualizer((chromato, time_rn), title=\"log chromato\", points=coordinates_in_chromato, casnos_dict=casnos_dictall)\n",
    "plot.visualizer((chromato, time_rn), title=\"chromato\", log_chromato=False, casnos_dict=casnos_dictall, points=coordinates_in_chromato, center_pt=[200,200], center_pt_window_1=20, center_pt_window_2=20)"
   ]
  },
  {
   "cell_type": "code",
   "execution_count": null,
   "metadata": {},
   "outputs": [],
   "source": [
    "import importlib\n",
    "importlib.reload(plot)"
   ]
  },
  {
   "cell_type": "code",
   "execution_count": null,
   "metadata": {},
   "outputs": [],
   "source": [
    "import importlib\n",
    "importlib.reload(plot)\n",
    "plot.visualizer((chromato, time_rn), title=\"chromato\", log_chromato=False, casnos_dict=casnos_dictall, points=coordinates_in_chromato, center_pt=[200,200], center_pt_window_1=20, center_pt_window_2=20)"
   ]
  },
  {
   "cell_type": "code",
   "execution_count": null,
   "metadata": {},
   "outputs": [],
   "source": [
    "plot.visualizer((chromato, time_rn), title=\"chromato\", log_chromato=False, casnos_dict=casnos_dictall, points=coordinates_in_chromato, rt1 = 20, rt2 =0.5, rt1_window = 5, rt2_window = 0.1)"
   ]
  }
 ],
 "metadata": {
  "kernelspec": {
   "display_name": ".venv",
   "language": "python",
   "name": "python3"
  },
  "language_info": {
   "codemirror_mode": {
    "name": "ipython",
    "version": 3
   },
   "file_extension": ".py",
   "mimetype": "text/x-python",
   "name": "python",
   "nbconvert_exporter": "python",
   "pygments_lexer": "ipython3",
   "version": "3.12.7"
  }
 },
 "nbformat": 4,
 "nbformat_minor": 4
}
