{
 "cells": [
  {
   "cell_type": "markdown",
   "metadata": {},
   "source": [
    "test 1 : fonction read_full_spectra_centroid avant modification des bins.\n",
    "    read_chromato_and_chromato_cube : lance la fonction read_chroma + read_full_spctra_centroid\n",
    "    => chromato_cube\n",
    "    utilisation de chromato_cube avec peak detection mode 3D et methode \"peak_local_max\""
   ]
  },
  {
   "cell_type": "code",
   "execution_count": null,
   "metadata": {},
   "outputs": [],
   "source": [
    "import os, sys\n",
    "path_to_scr_folder=os.path.join(os.path.dirname(os.path.abspath('')), 'src')\n",
    "sys.path.append(path_to_scr_folder)\n",
    "\n"
   ]
  },
  {
   "cell_type": "code",
   "execution_count": null,
   "metadata": {},
   "outputs": [],
   "source": [
    "import read_chroma\n",
    "import mass_spec\n",
    "from peak_detection import peak_detection\n",
    "import numpy as np\n",
    "import projection\n",
    "import plot\n",
    "import time\n",
    "import baseline_correction\n",
    "import skimage.restoration\n",
    "import mass_spec\n",
    "import os\n",
    "import ipywidgets as widgets\n",
    "from IPython.display import display\n",
    "from concurrent.futures import ProcessPoolExecutor\n",
    "from multiprocessing import Process\n",
    "from identification import sample_identification\n",
    "import netCDF4 as nc\n"
   ]
  },
  {
   "cell_type": "markdown",
   "metadata": {},
   "source": [
    "- read_chroma(filename, mod_time, max_value) return tic_chromato, (start_time, end_time),(l1, l2, mv, iv, range_min range_max)\n",
    "- read_full_spectra_centoid(spectra_obj de read_chroma) return full spectra\n",
    "- full_spectra_to_chromato_cube(spectra_obj et full spectra) return chromato_cube\n",
    "- preprocess : correction baseline(tic_chromato et chromato_cube)\n",
    "\n",
    "- read_chromato_and_chromato_cube(filename,mod_time)(read_chroma()(read_full_spectra_centoid(spectra_obj de read_chroma))) return : tic_chromato, time_rn, chromato_cube, sigma, (range_min, range_max)"
   ]
  },
  {
   "cell_type": "code",
   "execution_count": null,
   "metadata": {},
   "outputs": [],
   "source": [
    "\n",
    "file_path = '/home/camille/Documents/app/data/input/A-F-028-817822-droite-ReCIVA.cdf'"
   ]
  },
  {
   "cell_type": "code",
   "execution_count": null,
   "metadata": {},
   "outputs": [],
   "source": [
    "    \n",
    "# get_mod_time(file_path):\n",
    "data = nc.Dataset(file_path, 'r')\n",
    "scan_number = data.dimensions['scan_number'].size\n",
    "if scan_number == 328125:   \n",
    "    mod_time = 1.25\n",
    "    print(\"type de donnees: G0/plasma\")\n",
    "elif scan_number == 540035:\n",
    "    mod_time = 1.7\n",
    "    print(\"type de donnnees: air expire\")\n",
    "else:\n",
    "    print(\"scan_number non reconnu\")\n",
    "mod_time\n",
    "# return mod_time"
   ]
  },
  {
   "cell_type": "code",
   "execution_count": null,
   "metadata": {},
   "outputs": [],
   "source": [
    "tic_chromato, time_rn, spectra_obj = read_chroma.read_chroma(file_path, mod_time, None)"
   ]
  },
  {
   "cell_type": "code",
   "execution_count": null,
   "metadata": {},
   "outputs": [],
   "source": [
    "\n",
    "plot.visualizer((tic_chromato, time_rn), title=\"chromato_tic\", log_chromato=False)"
   ]
  }
 ],
 "metadata": {
  "kernelspec": {
   "display_name": "base",
   "language": "python",
   "name": "python3"
  },
  "language_info": {
   "codemirror_mode": {
    "name": "ipython",
    "version": 3
   },
   "file_extension": ".py",
   "mimetype": "text/x-python",
   "name": "python",
   "nbconvert_exporter": "python",
   "pygments_lexer": "ipython3",
   "version": "3.12.7"
  }
 },
 "nbformat": 4,
 "nbformat_minor": 2
}
