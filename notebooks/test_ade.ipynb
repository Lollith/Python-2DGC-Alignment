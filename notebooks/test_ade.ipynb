{
 "cells": [
  {
   "cell_type": "markdown",
   "id": "0",
   "metadata": {},
   "source": [
    "test 1 : fonction read_full_spectra_centroid avant modification des bins.\n",
    "    read_chromato_and_chromato_cube : lance la fonction read_chroma + read_full_spctra_centroid\n",
    "    => chromato_cube\n",
    "    utilisation de chromato_cube avec peak detection mode 3D et methode \"peak_local_max\""
   ]
  },
  {
   "cell_type": "markdown",
   "id": "1",
   "metadata": {},
   "source": [
    "- read_chroma(filename, mod_time, max_value) return tic_chromato, (start_time, end_time),(l0, l2, mv, iv, range_min range_max)\n",
    "- read_full_spectra_centoid(spectra_obj de read_chroma) return full spectra\n",
    "- full_spectra_to_chromato_cube(spectra_obj et full spectra) return chromato_cube\n",
    "- preprocess : correction baseline(tic_chromato et chromato_cube)\n",
    "\n",
    "- read_chromato_and_chromato_cube(filename,mod_time)(read_chroma()(read_full_spectra_centoid(spectra_obj de read_chroma))) return : tic_chromato, time_rn, chromato_cube, sigma, (range_min, range_max)"
   ]
  },
  {
   "cell_type": "code",
   "execution_count": null,
   "id": "2",
   "metadata": {},
   "outputs": [],
   "source": [
    "import read_chroma\n",
    "from peak_detection import peak_detection\n",
    "import numpy as np\n",
    "import projection\n",
    "import plot\n",
    "import baseline_correction\n",
    "import netCDF4 as nc\n",
    "import matplotlib.pyplot as plt\n",
    "import peak_detection\n",
    "from kneed import KneeLocator\n",
    "from read_chroma import read_chromato_and_chromato_cube"
   ]
  },
  {
   "cell_type": "code",
   "execution_count": null,
   "id": "3",
   "metadata": {},
   "outputs": [],
   "source": [
    "file_path = '/home/camille/Documents/app/data/input/A-F-028-817822-droite-ReCIVA.cdf'"
   ]
  },
  {
   "cell_type": "code",
   "execution_count": null,
   "id": "4",
   "metadata": {},
   "outputs": [],
   "source": [
    "# get_mod_time(file_path):\n",
    "data = nc.Dataset(file_path, 'r')\n",
    "scan_number = data.dimensions['scan_number'].size\n",
    "if scan_number == 328125:   \n",
    "    mod_time = 1.25\n",
    "    print(\"type de donnees: G0/plasma\")\n",
    "elif scan_number == 540035:\n",
    "    mod_time = 1.7\n",
    "    print(\"type de donnnees: air expire\")\n",
    "else:\n",
    "    print(\"scan_number non reconnu\")\n",
    "mod_time\n",
    "# return mod_time"
   ]
  },
  {
   "cell_type": "code",
   "execution_count": null,
   "id": "5",
   "metadata": {},
   "outputs": [],
   "source": [
    "filtering_factor = 0.4\n",
    "# estimation with filtering_factor_estimation.ipynb"
   ]
  },
  {
   "cell_type": "code",
   "execution_count": null,
   "id": "6",
   "metadata": {},
   "outputs": [],
   "source": [
    "chromato_tic, time_rn, chromato_cube, sigma, mass_range = read_chromato_and_chromato_cube(file_path, mod_time, pre_process=True)\n",
    "dynamic_threshold_fact = filtering_factor * sigma * 100 / np.max(chromato_tic)\n",
    "coordinates = peak_detection.peak_detection((chromato_tic, time_rn, None), None, chromato_cube, dynamic_threshold_fact, None)"
   ]
  },
  {
   "cell_type": "code",
   "execution_count": null,
   "id": "7",
   "metadata": {},
   "outputs": [],
   "source": [
    "# project the coordinates\n",
    "coordinates_in_chromato=projection.matrix_to_chromato(coordinates, time_rn, mod_time, chromato_tic.shape)"
   ]
  },
  {
   "cell_type": "code",
   "execution_count": null,
   "id": "8",
   "metadata": {},
   "outputs": [],
   "source": [
    "plot.visualizer((chromato_tic, time_rn), title=\"chromato\", log_chromato=False, points=coordinates_in_chromato)"
   ]
  }
 ],
 "metadata": {
  "kernelspec": {
   "display_name": "base",
   "language": "python",
   "name": "python3"
  },
  "language_info": {
   "name": "python",
   "version": "3.12.7"
  }
 },
 "nbformat": 4,
 "nbformat_minor": 5
}
