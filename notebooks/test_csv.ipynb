{
 "cells": [
  {
   "cell_type": "code",
   "execution_count": null,
   "id": "0",
   "metadata": {},
   "outputs": [],
   "source": [
    "import pandas as pd\n",
    "file1 = \"C:/Users/adeli/Documents/programmation/uvsq/app/output/output_nist_service_flask/A-F-028-817822-droite-ReCIV.csv\"\n",
    "file2 = \"C:/Users/adeli/Documents/programmation/uvsq/app/output/output_main/A-F-028-817822-droite-ReCIV.csv\"\n"
   ]
  },
  {
   "cell_type": "code",
   "execution_count": null,
   "id": "1",
   "metadata": {},
   "outputs": [],
   "source": [
    "with open(file1, encoding=\"utf-8\") as f:\n",
    "    for i in range(10):\n",
    "        print(f.readline())"
   ]
  },
  {
   "cell_type": "code",
   "execution_count": null,
   "id": "2",
   "metadata": {},
   "outputs": [],
   "source": [
    "with open(file1, 'r', encoding='utf-8') as f1, open(file2, 'r', encoding='utf-8') as f2:\n",
    "    lines1 = f1.readlines()\n",
    "    lines2 = f2.readlines()\n",
    "\n",
    "# Comparer le nombre de lignes\n",
    "if len(lines1) != len(lines2):\n",
    "    print(f\"❌ Les fichiers ont un nombre de lignes différent : {len(lines1)} vs {len(lines2)}\")\n",
    "else:\n",
    "    # Comparer ligne par ligne\n",
    "    differences = []\n",
    "    for i, (line1, line2) in enumerate(zip(lines1, lines2), 1):\n",
    "        if line1.strip() != line2.strip():\n",
    "            differences.append((i, line1.strip(), line2.strip()))\n",
    "\n",
    "    if differences:\n",
    "        print(f\"❌ Les fichiers sont différents sur {len(differences)} ligne(s) :\")\n",
    "        for line_num, l1, l2 in differences:\n",
    "            print(f\"Ligne {line_num} :\")\n",
    "            print(f\"  fichier1 : {l1}\")\n",
    "            print(f\"  fichier2 : {l2}\")\n",
    "    else:\n",
    "        print(\"✅ Les fichiers sont identiques ligne par ligne.\")\n"
   ]
  }
 ],
 "metadata": {
  "kernelspec": {
   "display_name": ".venv",
   "language": "python",
   "name": "python3"
  },
  "language_info": {
   "codemirror_mode": {
    "name": "ipython",
    "version": 3
   },
   "file_extension": ".py",
   "mimetype": "text/x-python",
   "name": "python",
   "nbconvert_exporter": "python",
   "pygments_lexer": "ipython3",
   "version": "3.13.5"
  }
 },
 "nbformat": 4,
 "nbformat_minor": 5
}
