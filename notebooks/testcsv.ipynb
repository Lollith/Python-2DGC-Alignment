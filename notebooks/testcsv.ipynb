{
 "cells": [
  {
   "cell_type": "code",
   "execution_count": 1,
   "id": "2d9dbc6d",
   "metadata": {},
   "outputs": [],
   "source": [
    "import pandas as pd\n",
    "file1 = \"C:/Users/adeli/Documents/programmation/uvsq/app/output/output_nist_service_flask/A-F-028-817822-droite-ReCIV.csv\"\n",
    "file2 = \"C:/Users/adeli/Documents/programmation/uvsq/app/output/output_main/A-F-028-817822-droite-ReCIV.csv\"\n"
   ]
  },
  {
   "cell_type": "code",
   "execution_count": 2,
   "id": "af492427",
   "metadata": {},
   "outputs": [
    {
     "name": "stdout",
     "output_type": "stream",
     "text": [
      "Name;Casno;Formula;hit_prob;match_factor;reverse_match_factor;rt1;rt2;Area;Height\n",
      "\n",
      "Acetone/Oxirane, methyl-, (S)-/Diisobutyl cellosolve;67-64-1/16088-62-3/---;C3H6O/C3H6O/C10H22O2;78.7/10.23/5.27;919/844/826;923/844/845;4.79961818220034;1.0079646017699115;2680278800.0;170977740.0\n",
      "\n",
      "Disiloxane, hexamethyl-/tert-Butylpentamethyldisiloxane/Silanol, trimethyl-, carbonate (2:1)/Bis(trimethylsilyl) sulfite;107-46-0/67875-54-1/39981-89-0/---;C6H18OSi2/C9H24OSi2/C7H18O3Si2/C6H18O3SSi2;67.94/17.78/5.13/4.03;925/892/864/858;928/898/869/867;7.776930843499297;0.09528023598820058;4738383400.0;163230980.0\n",
      "\n",
      "Isopropyl Alcohol;67-63-0;C3H8O;83.32;963;969;4.913039616916491;0.26578171091445424;3641629400.0;159969900.0\n",
      "\n",
      "Cyclopropane, ethylidene-/1,4-Pentadiene/1,3-Pentadiene, (Z)-/1,3-Pentadiene, (E)-/1,2-Butadiene, 3-methyl-/1,2-Dimethyl cyclopropene/1,3-Pentadiene/Isoprene/1,2-Pentadiene/Bicyclo[2.1.0]pentane/2,3-Pentadiene/Cyclopropane, methylmethylene-/2-Pentyne/Cyclopentene/2,3-Diazabicyclo[2.2.1]-hept-2-ene/1-Pentyne/Spiropentane;18631-83-9/591-93-5/1574-41-0/2004-70-8/598-25-4/14309-32-1/504-60-9/78-79-5/591-95-7/185-94-4/591-96-8/18631-84-0/627-21-4/142-29-0/2721-32-6/627-19-0/157-40-4;C5H8/C5H8/C5H8/C5H8/C5H8/C5H8/C5H8/C5H8/C5H8/C5H8/C5H8/C5H8/C5H8/C5H8/C5H8N2/C5H8/C5H8;20.76/13.41/12.89/10.13/7.76/6.85/4.84/4.46/2.97/2.97/2.97/2.39/2.3/1.53/1.29/1.04/0.57;952/939/938/932/925/922/912/910/898/898/898/893/892/880/876/871/854;955/955/941/935/928/926/915/913/902/902/901/895/896/882/879/874/865;4.572775312768038;0.2908554572271386;9227580000.0;150319620.0\n",
      "\n",
      "Benzene/1,3-Hexadien-5-yne/1,5-Hexadien-3-yne/2,4-Hexadiyne/1,5-Hexadiyne;71-43-2/10420-90-3/821-8-9/2809-69-0/628-16-0;C6H6/C6H6/C6H6/C6H6/C6H6;65.81/14.51/12.82/2.92/2.92;956/913/910/869/869;959/914/910/884/869;7.975418354252561;1.37905604719764;5052570600.0;81698660.0\n",
      "\n",
      "n-Hexane/2-Ethyl-oxetane/Pentane, 3-methyl-;110-54-3/---/96-14-0;C6H14/C5H10O/C6H14;70.62/18.87/3.1;925/893/829;936/901/832;5.9054771706828095;0.1654867256637168;1519742300.0;59350852.0\n",
      "\n",
      "Nonanal/2-Nonen-1-ol/2-Nonen-1-ol, (E)-/2-Nonen-1-ol, (Z)-;124-19-6/22104-79-6/31502-14-4/41453-56-9;C9H18O/C9H18O/C9H18O/C9H18O;67.04/9.13/6.26/3.6;912/839/828/812;914/845/831/813;23.372378116970026;1.3389380530973451;2226976800.0;57484760.0\n",
      "\n",
      "Cyclotetrasiloxane, octamethyl-;556-67-2;C8H24O4Si4;82.15;880;925;17.843083174557677;0.08525073746312684;1067017150.0;43794970.0\n",
      "\n",
      "Acetone/Oxirane, methyl-, (S)-/Diisobutyl cellosolve;67-64-1/16088-62-3/---;C3H6O/C3H6O/C10H22O2;75.02/13.06/5.95;923/862/842;928/862/863;4.79961818220034;1.0480825958702065;1087696300.0;145729600.0\n",
      "\n"
     ]
    }
   ],
   "source": [
    "with open(file1, encoding=\"utf-8\") as f:\n",
    "    for i in range(10):\n",
    "        print(f.readline())"
   ]
  },
  {
   "cell_type": "code",
   "execution_count": 3,
   "id": "9e0f12ac",
   "metadata": {},
   "outputs": [
    {
     "name": "stdout",
     "output_type": "stream",
     "text": [
      "✅ Les fichiers sont identiques ligne par ligne.\n"
     ]
    }
   ],
   "source": [
    "with open(file1, 'r', encoding='utf-8') as f1, open(file2, 'r', encoding='utf-8') as f2:\n",
    "    lines1 = f1.readlines()\n",
    "    lines2 = f2.readlines()\n",
    "\n",
    "# Comparer le nombre de lignes\n",
    "if len(lines1) != len(lines2):\n",
    "    print(f\"❌ Les fichiers ont un nombre de lignes différent : {len(lines1)} vs {len(lines2)}\")\n",
    "else:\n",
    "    # Comparer ligne par ligne\n",
    "    differences = []\n",
    "    for i, (line1, line2) in enumerate(zip(lines1, lines2), 1):\n",
    "        if line1.strip() != line2.strip():\n",
    "            differences.append((i, line1.strip(), line2.strip()))\n",
    "\n",
    "    if differences:\n",
    "        print(f\"❌ Les fichiers sont différents sur {len(differences)} ligne(s) :\")\n",
    "        for line_num, l1, l2 in differences:\n",
    "            print(f\"Ligne {line_num} :\")\n",
    "            print(f\"  fichier1 : {l1}\")\n",
    "            print(f\"  fichier2 : {l2}\")\n",
    "    else:\n",
    "        print(\"✅ Les fichiers sont identiques ligne par ligne.\")\n"
   ]
  }
 ],
 "metadata": {
  "kernelspec": {
   "display_name": ".venv",
   "language": "python",
   "name": "python3"
  },
  "language_info": {
   "codemirror_mode": {
    "name": "ipython",
    "version": 3
   },
   "file_extension": ".py",
   "mimetype": "text/x-python",
   "name": "python",
   "nbconvert_exporter": "python",
   "pygments_lexer": "ipython3",
   "version": "3.13.5"
  }
 },
 "nbformat": 4,
 "nbformat_minor": 5
}
