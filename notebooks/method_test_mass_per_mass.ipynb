{
 "cells": [
  {
   "cell_type": "markdown",
   "id": "0",
   "metadata": {},
   "source": [
    "### tester différentes méthodes de detection de pic sur toute les masses, pour pouvoir tester DBSCAN et comparer les méthodes"
   ]
  },
  {
   "cell_type": "code",
   "execution_count": null,
   "id": "1",
   "metadata": {},
   "outputs": [],
   "source": [
    "from skimage.feature import peak_local_max\n",
    "from sklearn.cluster import DBSCAN\n",
    "import skimage\n",
    "import baseline_correction\n",
    "from read_chroma import read_chromato_and_chromato_cube\n",
    "import numpy as np\n",
    "from sklearn.preprocessing import StandardScaler\n",
    "import pandas as pd\n",
    "import projection\n",
    "import plot\n",
    "import pandas as pd\n",
    "import peak_detection"
   ]
  },
  {
   "cell_type": "code",
   "execution_count": null,
   "id": "2",
   "metadata": {},
   "outputs": [],
   "source": [
    "# choose the methode\n",
    "# methode = \"peak_local_max\"\n",
    "# method = \"persistence_homology\"\n",
    "method = 'DOG'"
   ]
  },
  {
   "cell_type": "code",
   "execution_count": null,
   "id": "3",
   "metadata": {},
   "outputs": [],
   "source": [
    "file_path = '/home/camille/Documents/app/data/input/A-F-028-817822-droite-ReCIVA.cdf'\n",
    "# estimation with filtering_factor_estimation.ipynb\n",
    "mod_time = 1.7\n",
    "eps = 0.2\n",
    "\n",
    "threshold_abs = 0.2\n",
    "\n",
    "# estimation with estimation_persistence.ipynb\n",
    "min_persitence = 0.02 # = threshold_relatif\n"
   ]
  },
  {
   "cell_type": "code",
   "execution_count": null,
   "id": "4",
   "metadata": {},
   "outputs": [],
   "source": [
    "# filtering_factor = 50 #TODO\n",
    "# sigma = skimage.restoration.estimate_sigma(chromato_tic_preprocessed, channel_axis=None)\n",
    "# dynamic_threshold_fact = filtering_factor * sigma * 100 / np.max(chromato_tic_preprocessed)\n",
    "# dynamic_threshold_fact"
   ]
  },
  {
   "cell_type": "code",
   "execution_count": null,
   "id": "5",
   "metadata": {},
   "outputs": [],
   "source": [
    "chromato_tic_preprocessed, time_rn, chromato_cube_preprocessed, sigma, mass_range = read_chromato_and_chromato_cube(file_path, mod_time, pre_process=True)"
   ]
  },
  {
   "cell_type": "code",
   "execution_count": null,
   "id": "6",
   "metadata": {},
   "outputs": [],
   "source": [
    "coordinates_all_mass = []\n",
    "\n",
    "for mass in range(len(chromato_cube_preprocessed)):\n",
    "\n",
    "    # peak_detection.peak_local_max : mode = mass per masthout multiprocessing\n",
    "    ## fonction plm_mas_per_mass_multiprocess()\n",
    "    # coord = skimage.feature.peak_local_max(chromato_cube_preprocessed[mass], min_distance=1, threshold_rel=thresold_abs)\n",
    "    \n",
    "    #persistance homology  without multiprocessing\n",
    "    coord = peak_detection.pers_hom_kernel(\n",
    "        None, m_chromato=chromato_cube_preprocessed[mass], \n",
    "        min_persistence=min_persitence,\n",
    "        threshold_abs=threshold_abs)\n",
    "    \n",
    "    \n",
    "    \n",
    "    for x, y in coord:\n",
    "        coordinates_all_mass.append([mass, x, y])\n"
   ]
  },
  {
   "cell_type": "code",
   "execution_count": null,
   "id": "7",
   "metadata": {},
   "outputs": [],
   "source": [
    "# save to csv\n",
    "df = pd.DataFrame(coordinates_all_mass, columns=[\"mass\",\"x\", \"y\"])\n",
    "df.to_csv(f\"figs/coordinates_{method}.csv\", index=False)"
   ]
  },
  {
   "cell_type": "code",
   "execution_count": null,
   "id": "8",
   "metadata": {},
   "outputs": [],
   "source": [
    "coordinates_all_mass = []\n",
    "\n",
    "for mass in range(len(chromato_cube_preprocessed)):\n",
    "\n",
    "    #DOG without multiprocessing\n",
    "    coord = peak_detection.blob_dog_kernel(\n",
    "        None, m_chromato=chromato_cube_preprocessed[mass], \n",
    "        min_sigma=1, max_sigma=30, seuil=None,\n",
    "        threshold_abs=threshold_abs,\n",
    "        sigma_ratio=1.6)\n",
    "    \n",
    "    # pas fait : Check if there is already this coord and keep the one with the biggest radius\n",
    "    for t1, t2, r in coord:\n",
    "         coordinates_all_mass.append([mass, t1, t2, r])"
   ]
  },
  {
   "cell_type": "code",
   "execution_count": null,
   "id": "9",
   "metadata": {},
   "outputs": [],
   "source": [
    "# save to csv\n",
    "df = pd.DataFrame(coordinates_all_mass, columns=[\"mass\",\"t1\", \"t2\", \"r\"])\n",
    "df.to_csv(f\"figs/coordinates_{method}.csv\", index=False)"
   ]
  },
  {
   "cell_type": "code",
   "execution_count": null,
   "id": "10",
   "metadata": {},
   "outputs": [],
   "source": [
    "\n",
    "\n",
    "\n"
   ]
  }
 ],
 "metadata": {
  "kernelspec": {
   "display_name": "base",
   "language": "python",
   "name": "python3"
  },
  "language_info": {
   "codemirror_mode": {
    "name": "ipython",
    "version": 3
   },
   "file_extension": ".py",
   "mimetype": "text/x-python",
   "name": "python",
   "nbconvert_exporter": "python",
   "pygments_lexer": "ipython3",
   "version": "3.12.7"
  }
 },
 "nbformat": 4,
 "nbformat_minor": 5
}
