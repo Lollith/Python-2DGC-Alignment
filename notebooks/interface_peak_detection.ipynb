{
 "cells": [
  {
   "cell_type": "markdown",
   "metadata": {},
   "source": [
    "===================================\n",
    " # PEAKS DETECTION #\n",
    "===================================\n",
    "\n",
    "Read the chromatogram, generate a peak table and identify the compounds using the NIST database. "
   ]
  },
  {
   "cell_type": "markdown",
   "metadata": {
    "editable": true,
    "slideshow": {
     "slide_type": ""
    },
    "tags": [
     "remove-input"
    ]
   },
   "source": [
    "\n",
    "G0-1-120123.cdf"
   ]
  },
  {
   "cell_type": "markdown",
   "metadata": {},
   "source": [
    "docker rm -f pyms-nist-server"
   ]
  },
  {
   "cell_type": "code",
   "execution_count": 1,
   "metadata": {
    "editable": true,
    "slideshow": {
     "slide_type": ""
    }
   },
   "outputs": [
    {
     "data": {
      "application/vnd.jupyter.widget-view+json": {
       "model_id": "407de0063dbe4e54a9c18452d1424c7c",
       "version_major": 2,
       "version_minor": 0
      },
      "text/plain": [
       "HTML(value='<H1>Choisissez vos parametres:</H1>')"
      ]
     },
     "metadata": {},
     "output_type": "display_data"
    },
    {
     "data": {
      "application/vnd.jupyter.widget-view+json": {
       "model_id": "9d93c9171a944e2d839d314371b40ddc",
       "version_major": 2,
       "version_minor": 0
      },
      "text/plain": [
       "HBox(children=(HTML(value='<b>Path</b>'), Text(value='/app/data/G0/')))"
      ]
     },
     "metadata": {},
     "output_type": "display_data"
    },
    {
     "data": {
      "application/vnd.jupyter.widget-view+json": {
       "model_id": "5da31f835d9844b8bd5205fce1f2e0e2",
       "version_major": 2,
       "version_minor": 0
      },
      "text/plain": [
       "HBox(children=(HTML(value='<b>Files</b>'), Text(value='', placeholder='ex: file1.cdf, file2.cdf')))"
      ]
     },
     "metadata": {},
     "output_type": "display_data"
    },
    {
     "data": {
      "application/vnd.jupyter.widget-view+json": {
       "model_id": "24b8419b7fd84fb0a3b4288a26542735",
       "version_major": 2,
       "version_minor": 0
      },
      "text/plain": [
       "Text(value='', description='<b>new file name</b>', style=TextStyle(description_width='initial'))"
      ]
     },
     "metadata": {},
     "output_type": "display_data"
    },
    {
     "data": {
      "application/vnd.jupyter.widget-view+json": {
       "model_id": "84406fc54a8246d39dd21a36d2715bca",
       "version_major": 2,
       "version_minor": 0
      },
      "text/plain": [
       "FloatSlider(value=1.25, description='<b>Modulation time:</b>', max=8.0, min=1.0, step=0.01, style=SliderStyle(…"
      ]
     },
     "metadata": {},
     "output_type": "display_data"
    },
    {
     "data": {
      "application/vnd.jupyter.widget-view+json": {
       "model_id": "585506014f2046c48e6416626dac35d4",
       "version_major": 2,
       "version_minor": 0
      },
      "text/plain": [
       "RadioButtons(description='<b>Method</b>', options=('persistent_homology', 'peak_local_max', 'LoG', 'DoG', 'DoH…"
      ]
     },
     "metadata": {},
     "output_type": "display_data"
    },
    {
     "data": {
      "application/vnd.jupyter.widget-view+json": {
       "model_id": "d5db0e8bc4fe48118a7c1a83e73a9c12",
       "version_major": 2,
       "version_minor": 0
      },
      "text/plain": [
       "RadioButtons(description='<b>Mode</b>', options=('tic', 'mass_per_mass', '3D'), value='tic')"
      ]
     },
     "metadata": {},
     "output_type": "display_data"
    },
    {
     "data": {
      "application/vnd.jupyter.widget-view+json": {
       "model_id": "b029b527bd984c2b97e41eaf6c0aa49c",
       "version_major": 2,
       "version_minor": 0
      },
      "text/plain": [
       "IntSlider(value=5, description='<b>Seuil</b>', max=10)"
      ]
     },
     "metadata": {},
     "output_type": "display_data"
    },
    {
     "data": {
      "application/vnd.jupyter.widget-view+json": {
       "model_id": "98bd4ddb81104912a10bd672db022be3",
       "version_major": 2,
       "version_minor": 0
      },
      "text/plain": [
       "IntSlider(value=15, description='<b>Minimum hit probability</b> [a modifier]', max=30, style=SliderStyle(descr…"
      ]
     },
     "metadata": {},
     "output_type": "display_data"
    },
    {
     "data": {
      "application/vnd.jupyter.widget-view+json": {
       "model_id": "3ec7db4dc2e74786b67e3abacac941f9",
       "version_major": 2,
       "version_minor": 0
      },
      "text/plain": [
       "Checkbox(value=True, description='<b>formated spectra</b>')"
      ]
     },
     "metadata": {},
     "output_type": "display_data"
    },
    {
     "data": {
      "application/vnd.jupyter.widget-view+json": {
       "model_id": "2dc006925d574b3c860ba517816f24d3",
       "version_major": 2,
       "version_minor": 0
      },
      "text/plain": [
       "IntSlider(value=700, description='<b>Match factor min</b> [a modifier]', max=1000)"
      ]
     },
     "metadata": {},
     "output_type": "display_data"
    },
    {
     "data": {
      "application/vnd.jupyter.widget-view+json": {
       "model_id": "a120956a649647f3acda4d1aadd96944",
       "version_major": 2,
       "version_minor": 0
      },
      "text/plain": [
       "VBox(layout=Layout(border_bottom='2px solid green', border_left='2px solid green', border_right='2px solid gre…"
      ]
     },
     "metadata": {},
     "output_type": "display_data"
    },
    {
     "data": {
      "application/vnd.jupyter.widget-view+json": {
       "model_id": "525c5552c3bf4eb6806bb3a9943d94ae",
       "version_major": 2,
       "version_minor": 0
      },
      "text/plain": [
       "HTML(value='If mass_per_mass or 3D mode:')"
      ]
     },
     "metadata": {},
     "output_type": "display_data"
    },
    {
     "data": {
      "application/vnd.jupyter.widget-view+json": {
       "model_id": "95180be81f584a5383ac0c59cd2417c0",
       "version_major": 2,
       "version_minor": 0
      },
      "text/plain": [
       "Text(value='', description='Seuils absolus(liste)', disabled=True, style=TextStyle(description_width='initial'…"
      ]
     },
     "metadata": {},
     "output_type": "display_data"
    },
    {
     "data": {
      "application/vnd.jupyter.widget-view+json": {
       "model_id": "4465167c23684e2f9eb60764265d000c",
       "version_major": 2,
       "version_minor": 0
      },
      "text/plain": [
       "Checkbox(value=False, description='<b>cluster</b>', disabled=True)"
      ]
     },
     "metadata": {},
     "output_type": "display_data"
    },
    {
     "data": {
      "application/vnd.jupyter.widget-view+json": {
       "model_id": "a120956a649647f3acda4d1aadd96944",
       "version_major": 2,
       "version_minor": 0
      },
      "text/plain": [
       "VBox(layout=Layout(border_bottom='2px solid green', border_left='2px solid green', border_right='2px solid gre…"
      ]
     },
     "metadata": {},
     "output_type": "display_data"
    },
    {
     "data": {
      "application/vnd.jupyter.widget-view+json": {
       "model_id": "4569bf991b8246b3a93e225d3a2cdd79",
       "version_major": 2,
       "version_minor": 0
      },
      "text/plain": [
       "HTML(value='Peak local max parameter: ')"
      ]
     },
     "metadata": {},
     "output_type": "display_data"
    },
    {
     "data": {
      "application/vnd.jupyter.widget-view+json": {
       "model_id": "617e7ac2a1484e9c9445f85498bbcef1",
       "version_major": 2,
       "version_minor": 0
      },
      "text/plain": [
       "HTML(value='(The minimal allowed distance separating peaks. To find the maximum number of peaks, use min_dista…"
      ]
     },
     "metadata": {},
     "output_type": "display_data"
    },
    {
     "data": {
      "application/vnd.jupyter.widget-view+json": {
       "model_id": "210ef22bb918478ea4515887e20c1dcd",
       "version_major": 2,
       "version_minor": 0
      },
      "text/plain": [
       "IntSlider(value=1, description='<b>Minimal distance</b> [a modifier]', max=30, style=SliderStyle(description_w…"
      ]
     },
     "metadata": {},
     "output_type": "display_data"
    },
    {
     "data": {
      "application/vnd.jupyter.widget-view+json": {
       "model_id": "a120956a649647f3acda4d1aadd96944",
       "version_major": 2,
       "version_minor": 0
      },
      "text/plain": [
       "VBox(layout=Layout(border_bottom='2px solid green', border_left='2px solid green', border_right='2px solid gre…"
      ]
     },
     "metadata": {},
     "output_type": "display_data"
    },
    {
     "data": {
      "application/vnd.jupyter.widget-view+json": {
       "model_id": "d9683a4f33ad4e23bf16f72d0d3ea201",
       "version_major": 2,
       "version_minor": 0
      },
      "text/plain": [
       "HTML(value='DoG parameter: ')"
      ]
     },
     "metadata": {},
     "output_type": "display_data"
    },
    {
     "data": {
      "application/vnd.jupyter.widget-view+json": {
       "model_id": "710e686cfaed4a628effa4d180d4f0b8",
       "version_major": 2,
       "version_minor": 0
      },
      "text/plain": [
       "HTML(value='The ratio between the standard deviation of Gaussian Kernels used for computing the Difference of …"
      ]
     },
     "metadata": {},
     "output_type": "display_data"
    },
    {
     "data": {
      "application/vnd.jupyter.widget-view+json": {
       "model_id": "df114fe6dc23416b99dbb43c7d35bb0b",
       "version_major": 2,
       "version_minor": 0
      },
      "text/plain": [
       "FloatSlider(value=1.6, description='<b>sigma ratio:</b>', max=2.0, step=0.01, style=SliderStyle(description_wi…"
      ]
     },
     "metadata": {},
     "output_type": "display_data"
    },
    {
     "data": {
      "application/vnd.jupyter.widget-view+json": {
       "model_id": "a120956a649647f3acda4d1aadd96944",
       "version_major": 2,
       "version_minor": 0
      },
      "text/plain": [
       "VBox(layout=Layout(border_bottom='2px solid green', border_left='2px solid green', border_right='2px solid gre…"
      ]
     },
     "metadata": {},
     "output_type": "display_data"
    },
    {
     "data": {
      "application/vnd.jupyter.widget-view+json": {
       "model_id": "9058869069874bbaa33b498ffdaab604",
       "version_major": 2,
       "version_minor": 0
      },
      "text/plain": [
       "HTML(value='LoG and DoG parameter')"
      ]
     },
     "metadata": {},
     "output_type": "display_data"
    },
    {
     "data": {
      "application/vnd.jupyter.widget-view+json": {
       "model_id": "3a00dc6c54574e99823545c957eda67c",
       "version_major": 2,
       "version_minor": 0
      },
      "text/plain": [
       "HTML(value='(The number of intermediate values of standard deviations to consider between min_sigma (1) and ma…"
      ]
     },
     "metadata": {},
     "output_type": "display_data"
    },
    {
     "data": {
      "application/vnd.jupyter.widget-view+json": {
       "model_id": "07a8c766918a406cb2b9407927126102",
       "version_major": 2,
       "version_minor": 0
      },
      "text/plain": [
       "IntSlider(value=10, description='<b>sigma:</b>', max=30, min=1)"
      ]
     },
     "metadata": {},
     "output_type": "display_data"
    },
    {
     "data": {
      "application/vnd.jupyter.widget-view+json": {
       "model_id": "a120956a649647f3acda4d1aadd96944",
       "version_major": 2,
       "version_minor": 0
      },
      "text/plain": [
       "VBox(layout=Layout(border_bottom='2px solid green', border_left='2px solid green', border_right='2px solid gre…"
      ]
     },
     "metadata": {},
     "output_type": "display_data"
    },
    {
     "data": {
      "application/vnd.jupyter.widget-view+json": {
       "model_id": "6a31994327604d2ab3ae679ebed7f029",
       "version_major": 2,
       "version_minor": 0
      },
      "text/plain": [
       "Button(description='Run', style=ButtonStyle())"
      ]
     },
     "metadata": {},
     "output_type": "display_data"
    },
    {
     "data": {
      "application/vnd.jupyter.widget-view+json": {
       "model_id": "11b17aae953a4cd8952770587c8b70b4",
       "version_major": 2,
       "version_minor": 0
      },
      "text/plain": [
       "Output()"
      ]
     },
     "metadata": {},
     "output_type": "display_data"
    }
   ],
   "source": [
    "# code \n",
    "import os\n",
    "import ipywidgets as widgets\n",
    "from IPython.display import display\n",
    "from concurrent.futures import ProcessPoolExecutor\n",
    "from multiprocessing import Process\n",
    "from identification import sample_identification\n",
    "\n",
    "\n",
    "def parse_abs_thresholds(change):\n",
    "    try:\n",
    "        values = [float(x.strip()) for x in change['new'].split(\",\")]\n",
    "        print(\"Valeurs converties :\", values)\n",
    "    except ValueError:\n",
    "        print(\"Erreur : Veuillez entrer des nombres séparés par des virgules.\")\n",
    "\n",
    "def update_ABS_THRESHOLDS(change):\n",
    "    if change.new == 'tic':\n",
    "        ABS_THRESHOLDS.disabled = True\n",
    "        cluster.disabled = True\n",
    "    else:\n",
    "        ABS_THRESHOLDS.disabled = False\n",
    "        cluster.disabled = False\n",
    "\n",
    "style = {'description_width': 'initial'}\n",
    "vbox = widgets.VBox(layout=widgets.Layout (border='2px solid green'))\n",
    "default_path = '/app/data/G0/'\n",
    "\n",
    "txt = widgets.HTML('<H1>Choisissez vos parametres:</H1>')\n",
    "\n",
    "bolt_path = widgets.HTML(value='<b>Path</b>')\n",
    "path = widgets.Text(value=default_path )\n",
    "pbox = widgets.HBox([bolt_path, path])\n",
    "\n",
    "bolt_File = widgets.HTML(value='<b>Files</b>')\n",
    "files = widgets.Text(placeholder=\"ex: file1.cdf, file2.cdf\",)\n",
    "fbox = widgets.HBox([bolt_File, files])\n",
    "\n",
    "mod_time = widgets.FloatSlider(value=1.25, min=1, max=8, step=0.01,\n",
    "                               description=\"<b>Modulation time:</b>\",\n",
    "                               style=style)\n",
    "OUTPUT_PATH = widgets.Text(value=None, description=\"<b>new file name</b>\",\n",
    "                           style=style)\n",
    "method = widgets.RadioButtons(\n",
    "    options=['persistent_homology', 'peak_local_max', 'LoG', 'DoG', 'DoH'],\n",
    "    value='persistent_homology',\n",
    "    description='<b>Method</b>',\n",
    "    disabled=False)\n",
    "mode = widgets.RadioButtons(\n",
    "    options=['tic', 'mass_per_mass', '3D'],\n",
    "    value='tic',\n",
    "    description='<b>Mode</b>',\n",
    "    disabled=False)\n",
    "seuil = widgets.IntSlider(value=5, min=0, max=10,\n",
    "                            description=\"<b>Seuil</b>\")\n",
    "\n",
    "hit_prob_min = widgets.IntSlider(value=15, min=0, max=30,\n",
    "                                   description=\"<b>Minimum hit probability</b> [a modifier]\",\n",
    "                                   style=style)\n",
    "\n",
    "txt_abs_threshold_cluster = widgets.HTML(\"If mass_per_mass or 3D mode:\") #TODO\n",
    "# ABS_THRESHOLDS = widgets.Text(value=None, description=\"<b>Seuils absolus</b> [à modifier]\",\n",
    "#                               disabled=True, \n",
    "#                               layout=widgets.Layout(margin='0 0 0 50px'),\n",
    "#                               style=style)\n",
    "ABS_THRESHOLDS = widgets.Text(\n",
    "    value=None,\n",
    "    disabled=True,\n",
    "    description=\"Seuils absolus(liste)\",\n",
    "    style=style\n",
    ")\n",
    "ABS_THRESHOLDS.observe(parse_abs_thresholds, names='value')\n",
    "cluster = widgets.Checkbox(\n",
    "    value=False,\n",
    "    description='<b>cluster</b>',\n",
    "    disabled=True,)\n",
    "\n",
    "mode.observe(update_ABS_THRESHOLDS, names='value')\n",
    "\n",
    "txt_plm = widgets.HTML(\"Peak local max parameter: \")\n",
    "txt1 = \"The minimal allowed distance separating peaks.\"\n",
    "txt2 = \"To find the maximum number of peaks, use min_distance=1.\"\n",
    "txt_plm_description = widgets.HTML(f\"({txt1} {txt2})\")\n",
    "min_distance = widgets.IntSlider(value=1, min=0, max=30, step=1, \n",
    "                                 description=\"<b>Minimal distance</b> [a modifier]\",\n",
    "                                 style=style)\n",
    "\n",
    "txt_dog = widgets.HTML(\"DoG parameter: \")\n",
    "txt3 = \"The ratio between the standard deviation of Gaussian Kernels used for\"\\\n",
    "        \" computing the Difference of Gaussians.\"\n",
    "txt_dog_description = widgets.HTML(txt3)\n",
    "sigma_ratio = widgets.FloatSlider(value=1.6, min=0, max=2, step=0.01,\n",
    "                                  description=\"<b>sigma ratio:</b>\",\n",
    "                                  style=style)\n",
    "\n",
    "txt_log_doh = widgets.HTML(\"LoG and DoG parameter\")\n",
    "txt4 = \"(The number of intermediate values of standard deviations to consider\"\\\n",
    "    \" between min_sigma (1) and max_sigma (30))\"\n",
    "txt_log_doh_description = widgets.HTML(txt4)\n",
    "num_sigma = widgets.IntSlider(value=10, min=1, max=30,\n",
    "                              description=\"<b>sigma:</b>\")\n",
    "\n",
    "formated_spectra = widgets.Checkbox(\n",
    "    value=True,\n",
    "    description='<b>formated spectra</b>',\n",
    "    disabled=False,\n",
    ")\n",
    "\n",
    "match_factor_min = widgets.IntSlider(value=700, min=0, max=1000, step=1,\n",
    "                                     description=\"<b>Match factor min</b> [a modifier]\")\n",
    "\n",
    "\n",
    "\n",
    "def get_files_from_folder(path):\n",
    "    if os.path.isdir(path):\n",
    "        return [f for f in os.listdir(path) if f.endswith(\".cdf\")]\n",
    "    else:\n",
    "        return []\n",
    "\n",
    "import multiprocessing\n",
    "stop_event = multiprocessing.Event()\n",
    "\n",
    "def analyse(path, files_list, OUTPUT_PATH, mod_time, method, mode, seuil,\n",
    "            hit_prob_min, ABS_THRESHOLDS, cluster, min_distance,\n",
    "            sigma_ratio, num_sigma, formated_spectra, match_factor_min):\n",
    "        if not path:\n",
    "            print(\"Erreur : Aucun chemin sélectionné.\")\n",
    "            return\n",
    "        if files_list is None:\n",
    "            files_list = get_files_from_folder(path)\n",
    "        # print(\"/app/data/mainlib/\": /app/data/mainlib/)\n",
    "        \n",
    "        files_list = [file.strip() for file in files_list if file.strip()]\n",
    "        print(f\"Fichiers à analyser : {files_list}\")\n",
    "      \n",
    "        \n",
    "        with ProcessPoolExecutor(max_workers=4) as executor:\n",
    "            futures = []\n",
    "            for file in files_list:\n",
    "                full_path = os.path.join(path, file)\n",
    "                if not os.path.isfile(full_path):\n",
    "                    print(f\"Erreur : Le fichier '{file}' est introuvable dans '{path}'\")\n",
    "                    return\n",
    "                if not os.access(full_path, os.R_OK):\n",
    "                    print(f\"Erreur: Permission refusée pour accéder à '{file}' dans \\\n",
    "                        '{path}'\")\n",
    "                    return\n",
    "\n",
    "                print(f\"Analyzing with path={full_path}, mod_time={mod_time}, cluster={cluster}\\n\")\n",
    "                futures = [executor.submit(sample_identification, path, file, OUTPUT_PATH,\n",
    "                                                mod_time, method, mode, seuil,\n",
    "                                                hit_prob_min, ABS_THRESHOLDS,\n",
    "                                                cluster, min_distance, sigma_ratio,\n",
    "                                                num_sigma, formated_spectra,\n",
    "                                                match_factor_min)]\n",
    "            for future in futures:\n",
    "                result = future.result()\n",
    "                print(\"Terminé avec résultat :\", result)\n",
    "\n",
    "run_button = widgets.Button(description=\"Run\")\n",
    "# stop_button = widgets.Button(description=\"Stop Tasks\")\n",
    "\n",
    "output = widgets.Output()\n",
    "\n",
    "def on_button_click(b):\n",
    "    with output:\n",
    "        output.clear_output()\n",
    "        files_list = files.value.split(\",\")\n",
    "        if files_list == ['']:\n",
    "            files_list = None\n",
    "        analyse(path.value, files_list, OUTPUT_PATH.value, mod_time.value,\n",
    "                method.value, mode.value, seuil.value, hit_prob_min.value,\n",
    "                ABS_THRESHOLDS.value, cluster.value, min_distance.value,\n",
    "                sigma_ratio.value, num_sigma.value, formated_spectra.value,\n",
    "                match_factor_min.value)\n",
    "        \n",
    "run_button.on_click(on_button_click)\n",
    "\n",
    "display(txt, pbox, fbox, OUTPUT_PATH, mod_time, method, mode, seuil,\n",
    "        hit_prob_min, formated_spectra, match_factor_min,\n",
    "        vbox, txt_abs_threshold_cluster, ABS_THRESHOLDS, cluster, vbox,\n",
    "        txt_plm, txt_plm_description, min_distance, vbox, txt_dog,\n",
    "        txt_dog_description, sigma_ratio, vbox, txt_log_doh,\n",
    "        txt_log_doh_description, num_sigma, vbox,\n",
    "        run_button, output)\n"
   ]
  },
  {
   "cell_type": "code",
   "execution_count": null,
   "metadata": {},
   "outputs": [],
   "source": []
  },
  {
   "cell_type": "code",
   "execution_count": null,
   "metadata": {},
   "outputs": [],
   "source": []
  }
 ],
 "metadata": {
  "kernelspec": {
   "display_name": "Python 3 (ipykernel)",
   "language": "python",
   "name": "python3"
  },
  "language_info": {
   "codemirror_mode": {
    "name": "ipython",
    "version": 3
   },
   "file_extension": ".py",
   "mimetype": "text/x-python",
   "name": "python",
   "nbconvert_exporter": "python",
   "pygments_lexer": "ipython3",
   "version": "3.11.12"
  }
 },
 "nbformat": 4,
 "nbformat_minor": 4
}
