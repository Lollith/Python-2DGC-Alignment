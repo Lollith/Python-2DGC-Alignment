{
 "cells": [
  {
   "cell_type": "markdown",
   "metadata": {},
   "source": [
    "===================================\n",
    " # PEAKS DETECTION #\n",
    "===================================\n",
    "\n",
    "Read the chromatogram, generate a peak table and identify the compounds using the NIST database. "
   ]
  },
  {
   "cell_type": "code",
   "execution_count": 1,
   "metadata": {
    "editable": true,
    "slideshow": {
     "slide_type": ""
    }
   },
   "outputs": [
    {
     "data": {
      "application/vnd.jupyter.widget-view+json": {
       "model_id": "7cddaa95b6764414bd821b3272a47a21",
       "version_major": 2,
       "version_minor": 0
      },
      "text/plain": [
       "HTML(value='<H1>Choisissez vos parametres:</H1>')"
      ]
     },
     "metadata": {},
     "output_type": "display_data"
    },
    {
     "data": {
      "application/vnd.jupyter.widget-view+json": {
       "model_id": "41f8000273044f7b81be5e6a5100252e",
       "version_major": 2,
       "version_minor": 0
      },
      "text/plain": [
       "HBox(children=(HTML(value='<b>Path</b>'), Text(value='/app/data/input/')))"
      ]
     },
     "metadata": {},
     "output_type": "display_data"
    },
    {
     "data": {
      "application/vnd.jupyter.widget-view+json": {
       "model_id": "6d7a56a8edc648bbb41269ec4b181b1a",
       "version_major": 2,
       "version_minor": 0
      },
      "text/plain": [
       "HBox(children=(HTML(value='<b>Files</b>'), Text(value='', placeholder='ex: file1.cdf, file2.cdf')))"
      ]
     },
     "metadata": {},
     "output_type": "display_data"
    },
    {
     "data": {
      "application/vnd.jupyter.widget-view+json": {
       "model_id": "a1422b570869481bbd8a50cdc7066630",
       "version_major": 2,
       "version_minor": 0
      },
      "text/plain": [
       "Text(value='/app/data/output/', description='<b>Output path</b>', style=TextStyle(description_width='initial')…"
      ]
     },
     "metadata": {},
     "output_type": "display_data"
    },
    {
     "data": {
      "application/vnd.jupyter.widget-view+json": {
       "model_id": "656d47ea77044f90aeda75b9bb320540",
       "version_major": 2,
       "version_minor": 0
      },
      "text/plain": [
       "FloatSlider(value=1.25, description='<b>Modulation time:</b>', max=8.0, min=1.0, step=0.01, style=SliderStyle(…"
      ]
     },
     "metadata": {},
     "output_type": "display_data"
    },
    {
     "data": {
      "application/vnd.jupyter.widget-view+json": {
       "model_id": "e04ef068c76d403aa68510943995b128",
       "version_major": 2,
       "version_minor": 0
      },
      "text/plain": [
       "RadioButtons(description='<b>Method</b>', options=('persistent_homology', 'peak_local_max', 'LoG', 'DoG', 'DoH…"
      ]
     },
     "metadata": {},
     "output_type": "display_data"
    },
    {
     "data": {
      "application/vnd.jupyter.widget-view+json": {
       "model_id": "1254ce7fad3d46b6b66d8cb00b966898",
       "version_major": 2,
       "version_minor": 0
      },
      "text/plain": [
       "RadioButtons(description='<b>Mode</b>', options=('tic', 'mass_per_mass', '3D'), value='tic')"
      ]
     },
     "metadata": {},
     "output_type": "display_data"
    },
    {
     "data": {
      "application/vnd.jupyter.widget-view+json": {
       "model_id": "9467f3b16a314ad194fb4555b6ef5874",
       "version_major": 2,
       "version_minor": 0
      },
      "text/plain": [
       "IntSlider(value=5, description='<b>Seuil</b>', max=10)"
      ]
     },
     "metadata": {},
     "output_type": "display_data"
    },
    {
     "data": {
      "application/vnd.jupyter.widget-view+json": {
       "model_id": "5017a7c7838b47d3b3ba1664eb99633f",
       "version_major": 2,
       "version_minor": 0
      },
      "text/plain": [
       "IntSlider(value=15, description='<b>Minimum hit probability</b> [a modifier]', max=30, style=SliderStyle(descr…"
      ]
     },
     "metadata": {},
     "output_type": "display_data"
    },
    {
     "data": {
      "application/vnd.jupyter.widget-view+json": {
       "model_id": "58d2cd4a84dd4078a6a1e54457e3e7aa",
       "version_major": 2,
       "version_minor": 0
      },
      "text/plain": [
       "Checkbox(value=True, description='<b>formated spectra</b>')"
      ]
     },
     "metadata": {},
     "output_type": "display_data"
    },
    {
     "data": {
      "application/vnd.jupyter.widget-view+json": {
       "model_id": "9c03ec0052b9483db451d7d61982b5f9",
       "version_major": 2,
       "version_minor": 0
      },
      "text/plain": [
       "IntSlider(value=700, description='<b>Match factor min</b> [a modifier]', max=1000)"
      ]
     },
     "metadata": {},
     "output_type": "display_data"
    },
    {
     "data": {
      "application/vnd.jupyter.widget-view+json": {
       "model_id": "a62fe1bb883c486db3c2b8f512d95879",
       "version_major": 2,
       "version_minor": 0
      },
      "text/plain": [
       "VBox(layout=Layout(border_bottom='2px solid green', border_left='2px solid green', border_right='2px solid gre…"
      ]
     },
     "metadata": {},
     "output_type": "display_data"
    },
    {
     "data": {
      "application/vnd.jupyter.widget-view+json": {
       "model_id": "f3f47ddc012b423491174d33019d7b4a",
       "version_major": 2,
       "version_minor": 0
      },
      "text/plain": [
       "HTML(value='If mass_per_mass or 3D mode:')"
      ]
     },
     "metadata": {},
     "output_type": "display_data"
    },
    {
     "data": {
      "application/vnd.jupyter.widget-view+json": {
       "model_id": "8916fcb56c5449e7b9adae2203af52c3",
       "version_major": 2,
       "version_minor": 0
      },
      "text/plain": [
       "Text(value='', description='Seuils absolus(liste)', disabled=True, style=TextStyle(description_width='initial'…"
      ]
     },
     "metadata": {},
     "output_type": "display_data"
    },
    {
     "data": {
      "application/vnd.jupyter.widget-view+json": {
       "model_id": "9c27a47d922046dea6d868f16f394b62",
       "version_major": 2,
       "version_minor": 0
      },
      "text/plain": [
       "Checkbox(value=False, description='<b>cluster</b>', disabled=True)"
      ]
     },
     "metadata": {},
     "output_type": "display_data"
    },
    {
     "data": {
      "application/vnd.jupyter.widget-view+json": {
       "model_id": "a62fe1bb883c486db3c2b8f512d95879",
       "version_major": 2,
       "version_minor": 0
      },
      "text/plain": [
       "VBox(layout=Layout(border_bottom='2px solid green', border_left='2px solid green', border_right='2px solid gre…"
      ]
     },
     "metadata": {},
     "output_type": "display_data"
    },
    {
     "data": {
      "application/vnd.jupyter.widget-view+json": {
       "model_id": "44cf3402bbbd42138745448925478e03",
       "version_major": 2,
       "version_minor": 0
      },
      "text/plain": [
       "HTML(value='Peak local max parameter: ')"
      ]
     },
     "metadata": {},
     "output_type": "display_data"
    },
    {
     "data": {
      "application/vnd.jupyter.widget-view+json": {
       "model_id": "f62d5f9ade944f1c8edc20aae27429c6",
       "version_major": 2,
       "version_minor": 0
      },
      "text/plain": [
       "HTML(value='(The minimal allowed distance separating peaks. To find the maximum number of peaks, use min_dista…"
      ]
     },
     "metadata": {},
     "output_type": "display_data"
    },
    {
     "data": {
      "application/vnd.jupyter.widget-view+json": {
       "model_id": "b128805eb0614ccea33483567f3db999",
       "version_major": 2,
       "version_minor": 0
      },
      "text/plain": [
       "IntSlider(value=1, description='<b>Minimal distance</b> [a modifier]', max=30, style=SliderStyle(description_w…"
      ]
     },
     "metadata": {},
     "output_type": "display_data"
    },
    {
     "data": {
      "application/vnd.jupyter.widget-view+json": {
       "model_id": "a62fe1bb883c486db3c2b8f512d95879",
       "version_major": 2,
       "version_minor": 0
      },
      "text/plain": [
       "VBox(layout=Layout(border_bottom='2px solid green', border_left='2px solid green', border_right='2px solid gre…"
      ]
     },
     "metadata": {},
     "output_type": "display_data"
    },
    {
     "data": {
      "application/vnd.jupyter.widget-view+json": {
       "model_id": "4d207d71b30240358461ce9328b7750c",
       "version_major": 2,
       "version_minor": 0
      },
      "text/plain": [
       "HTML(value='DoG parameter: ')"
      ]
     },
     "metadata": {},
     "output_type": "display_data"
    },
    {
     "data": {
      "application/vnd.jupyter.widget-view+json": {
       "model_id": "9c17c69394c04201974666f440f5cf7a",
       "version_major": 2,
       "version_minor": 0
      },
      "text/plain": [
       "HTML(value='The ratio between the standard deviation of Gaussian Kernels used for computing the Difference of …"
      ]
     },
     "metadata": {},
     "output_type": "display_data"
    },
    {
     "data": {
      "application/vnd.jupyter.widget-view+json": {
       "model_id": "027df4e3e7b34ff69b6537ea59ad5842",
       "version_major": 2,
       "version_minor": 0
      },
      "text/plain": [
       "FloatSlider(value=1.6, description='<b>sigma ratio:</b>', max=2.0, step=0.01, style=SliderStyle(description_wi…"
      ]
     },
     "metadata": {},
     "output_type": "display_data"
    },
    {
     "data": {
      "application/vnd.jupyter.widget-view+json": {
       "model_id": "a62fe1bb883c486db3c2b8f512d95879",
       "version_major": 2,
       "version_minor": 0
      },
      "text/plain": [
       "VBox(layout=Layout(border_bottom='2px solid green', border_left='2px solid green', border_right='2px solid gre…"
      ]
     },
     "metadata": {},
     "output_type": "display_data"
    },
    {
     "data": {
      "application/vnd.jupyter.widget-view+json": {
       "model_id": "e138615d54594e4bb5d8dc4755bedfa7",
       "version_major": 2,
       "version_minor": 0
      },
      "text/plain": [
       "HTML(value='LoG and DoG parameter')"
      ]
     },
     "metadata": {},
     "output_type": "display_data"
    },
    {
     "data": {
      "application/vnd.jupyter.widget-view+json": {
       "model_id": "4717e67bfd94488f8c05174d817dd2a3",
       "version_major": 2,
       "version_minor": 0
      },
      "text/plain": [
       "HTML(value='(The number of intermediate values of standard deviations to consider between min_sigma (1) and ma…"
      ]
     },
     "metadata": {},
     "output_type": "display_data"
    },
    {
     "data": {
      "application/vnd.jupyter.widget-view+json": {
       "model_id": "3ac955a49b514c6399722c5a300bee26",
       "version_major": 2,
       "version_minor": 0
      },
      "text/plain": [
       "IntSlider(value=10, description='<b>sigma:</b>', max=30, min=1)"
      ]
     },
     "metadata": {},
     "output_type": "display_data"
    },
    {
     "data": {
      "application/vnd.jupyter.widget-view+json": {
       "model_id": "a62fe1bb883c486db3c2b8f512d95879",
       "version_major": 2,
       "version_minor": 0
      },
      "text/plain": [
       "VBox(layout=Layout(border_bottom='2px solid green', border_left='2px solid green', border_right='2px solid gre…"
      ]
     },
     "metadata": {},
     "output_type": "display_data"
    },
    {
     "data": {
      "application/vnd.jupyter.widget-view+json": {
       "model_id": "97265fa66b8b47308651193b26e9adb9",
       "version_major": 2,
       "version_minor": 0
      },
      "text/plain": [
       "Button(description='Run', style=ButtonStyle())"
      ]
     },
     "metadata": {},
     "output_type": "display_data"
    },
    {
     "data": {
      "application/vnd.jupyter.widget-view+json": {
       "model_id": "263309a5611044a3ba0d373c15ecc0cf",
       "version_major": 2,
       "version_minor": 0
      },
      "text/plain": [
       "Output()"
      ]
     },
     "metadata": {},
     "output_type": "display_data"
    }
   ],
   "source": [
    "# code \n",
    "import os\n",
    "import ipywidgets as widgets\n",
    "from IPython.display import display\n",
    "from concurrent.futures import ProcessPoolExecutor\n",
    "from multiprocessing import Process\n",
    "from identification import sample_identification\n",
    "\n",
    "# ex : G0-1-120123.cdf\n",
    "\n",
    "# get the variable from .env.\n",
    "docker_volume_path = os.getenv('DOCKER_VOLUME_PATH')\n",
    "host_volume_path = os.getenv('HOST_VOLUME_PATH')\n",
    "\n",
    "\n",
    "def parse_abs_thresholds(change):\n",
    "    try:\n",
    "        values = [float(x.strip()) for x in change['new'].split(\",\")]\n",
    "        print(\"Valeurs converties :\", values)\n",
    "    except ValueError:\n",
    "        print(\"Erreur : Veuillez entrer des nombres séparés par des virgules.\")\n",
    "\n",
    "def update_ABS_THRESHOLDS(change):\n",
    "    if change.new == 'tic':\n",
    "        ABS_THRESHOLDS.disabled = True\n",
    "        cluster.disabled = True\n",
    "    else:\n",
    "        ABS_THRESHOLDS.disabled = False\n",
    "        cluster.disabled = False\n",
    "\n",
    "def bold_widget(value, widget):\n",
    "    bold = widgets.HTML(value=f'<b>{value}</b>')\n",
    "    return widgets.HBox([bold, widget])\n",
    "\n",
    "\n",
    "style = {'description_width': 'initial'}\n",
    "vbox = widgets.VBox(layout=widgets.Layout (border='2px solid green'))\n",
    "default_path_input = f'{docker_volume_path}/input/'\n",
    "default_path_output = f'{docker_volume_path}/output/'\n",
    "\n",
    "\n",
    "txt = widgets.HTML('<H1>Choisissez vos parametres:</H1>')\n",
    "\n",
    "path = widgets.Text(value=default_path_input)\n",
    "pbox = bold_widget(\"Path\", path)\n",
    "\n",
    "files = widgets.Text(placeholder=\"ex: file1.cdf, file2.cdf\",)\n",
    "fbox = bold_widget(\"Files\", files)\n",
    "\n",
    "\n",
    "mod_time = widgets.FloatSlider(value=1.25, min=1, max=8, step=0.01,\n",
    "                               description=\"<b>Modulation time:</b>\",\n",
    "                               style=style)\n",
    "OUTPUT_PATH = widgets.Text(value=default_path_output, description=\"<b>Output path</b>\",\n",
    "                           style=style)\n",
    "\n",
    "\n",
    "\n",
    "method = widgets.RadioButtons(\n",
    "    options=['persistent_homology', 'peak_local_max', 'LoG', 'DoG', 'DoH'],\n",
    "    value='persistent_homology',\n",
    "    description='<b>Method</b>',\n",
    "    disabled=False)\n",
    "mode = widgets.RadioButtons(\n",
    "    options=['tic', 'mass_per_mass', '3D'],\n",
    "    value='tic',\n",
    "    description='<b>Mode</b>',\n",
    "    disabled=False)\n",
    "seuil = widgets.IntSlider(value=5, min=0, max=10,\n",
    "                            description=\"<b>Seuil</b>\")\n",
    "\n",
    "hit_prob_min = widgets.IntSlider(value=15, min=0, max=30,\n",
    "                                   description=\"<b>Minimum hit probability</b> [a modifier]\",\n",
    "                                   style=style)\n",
    "\n",
    "txt_abs_threshold_cluster = widgets.HTML(\"If mass_per_mass or 3D mode:\") #TODO\n",
    "# ABS_THRESHOLDS = widgets.Text(value=None, description=\"<b>Seuils absolus</b> [à modifier]\",\n",
    "#                               disabled=True, \n",
    "#                               layout=widgets.Layout(margin='0 0 0 50px'),\n",
    "#                               style=style)\n",
    "ABS_THRESHOLDS = widgets.Text(\n",
    "    value=None,\n",
    "    disabled=True,\n",
    "    description=\"Seuils absolus(liste)\",\n",
    "    style=style\n",
    ")\n",
    "ABS_THRESHOLDS.observe(parse_abs_thresholds, names='value')\n",
    "cluster = widgets.Checkbox(\n",
    "    value=False,\n",
    "    description='<b>cluster</b>',\n",
    "    disabled=True,)\n",
    "\n",
    "mode.observe(update_ABS_THRESHOLDS, names='value')\n",
    "\n",
    "txt_plm = widgets.HTML(\"Peak local max parameter: \")\n",
    "txt1 = \"The minimal allowed distance separating peaks.\"\n",
    "txt2 = \"To find the maximum number of peaks, use min_distance=1.\"\n",
    "txt_plm_description = widgets.HTML(f\"({txt1} {txt2})\")\n",
    "min_distance = widgets.IntSlider(value=1, min=0, max=30, step=1, \n",
    "                                 description=\"<b>Minimal distance</b> [a modifier]\",\n",
    "                                 style=style)\n",
    "\n",
    "txt_dog = widgets.HTML(\"DoG parameter: \")\n",
    "txt3 = \"The ratio between the standard deviation of Gaussian Kernels used for\"\\\n",
    "        \" computing the Difference of Gaussians.\"\n",
    "txt_dog_description = widgets.HTML(txt3)\n",
    "sigma_ratio = widgets.FloatSlider(value=1.6, min=0, max=2, step=0.01,\n",
    "                                  description=\"<b>sigma ratio:</b>\",\n",
    "                                  style=style)\n",
    "\n",
    "txt_log_doh = widgets.HTML(\"LoG and DoG parameter\")\n",
    "txt4 = \"(The number of intermediate values of standard deviations to consider\"\\\n",
    "    \" between min_sigma (1) and max_sigma (30))\"\n",
    "txt_log_doh_description = widgets.HTML(txt4)\n",
    "num_sigma = widgets.IntSlider(value=10, min=1, max=30,\n",
    "                              description=\"<b>sigma:</b>\")\n",
    "\n",
    "formated_spectra = widgets.Checkbox(\n",
    "    value=True,\n",
    "    description='<b>formated spectra</b>',\n",
    "    disabled=False,\n",
    ")\n",
    "\n",
    "match_factor_min = widgets.IntSlider(value=700, min=0, max=1000, step=1,\n",
    "                                     description=\"<b>Match factor min</b> [a modifier]\")\n",
    "\n",
    "\n",
    "\n",
    "def get_files_from_folder(path):\n",
    "    if os.path.isdir(path):\n",
    "        return [f for f in os.listdir(path) if f.endswith(\".cdf\")]\n",
    "    else:\n",
    "        return []\n",
    "\n",
    "# import multiprocessing\n",
    "# stop_event = multiprocessing.Event()\n",
    "\n",
    "def analyse(path, files_list, output_path, mod_time, method, mode, seuil,\n",
    "            hit_prob_min, ABS_THRESHOLDS, cluster, min_distance,\n",
    "            sigma_ratio, num_sigma, formated_spectra, match_factor_min):\n",
    "        if not path:\n",
    "            print(\"Erreur : Aucun chemin sélectionné.\")\n",
    "            return\n",
    "        if files_list is None:\n",
    "            files_list = get_files_from_folder(path)\n",
    "        if not os.path.exists(output_path):\n",
    "            os.makedirs(output_path)\n",
    "            print(f\"Created output directory: {output_path}\")\n",
    "        \n",
    "        files_list = [file.strip() for file in files_list if file.strip()]\n",
    "        print(f\"Fichiers à analyser : {files_list}\")\n",
    "      \n",
    "        # with ProcessPoolExecutor(max_workers=6) as executor:\n",
    "        with ProcessPoolExecutor() as executor:\n",
    "            futures = []\n",
    "            for file in files_list:\n",
    "                full_path = os.path.join(path, file)\n",
    "                if not os.path.isfile(full_path):\n",
    "                    print(f\"Erreur : Le fichier '{file}' est introuvable dans '{path}'\")\n",
    "                    return\n",
    "                if not os.access(full_path, os.R_OK):\n",
    "                    print(f\"Erreur: Permission refusée pour accéder à '{file}' dans \\\n",
    "                        '{path}'\")\n",
    "                    return\n",
    "\n",
    "                print(f\"Analyzing with path={full_path}\\n\")\n",
    "                futures = [executor.submit(sample_identification, path, file, output_path,\n",
    "                                                mod_time, method, mode, seuil,\n",
    "                                                hit_prob_min, ABS_THRESHOLDS,\n",
    "                                                cluster, min_distance, sigma_ratio,\n",
    "                                                num_sigma, formated_spectra,\n",
    "                                                match_factor_min)]\n",
    "            for future in futures:\n",
    "                result = future.result()\n",
    "                print(\"Analyse terminée:\", result)\n",
    "\n",
    "run_button = widgets.Button(description=\"Run\")\n",
    "# stop_button = widgets.Button(description=\"Stop Tasks\")\n",
    "\n",
    "output = widgets.Output()\n",
    "\n",
    "def on_button_click(b):\n",
    "    with output:\n",
    "        output.clear_output()\n",
    "        files_list = files.value.split(\",\")\n",
    "        if files_list == ['']:\n",
    "            files_list = None\n",
    "        analyse(path.value, files_list, OUTPUT_PATH.value, mod_time.value,\n",
    "                method.value, mode.value, seuil.value, hit_prob_min.value,\n",
    "                ABS_THRESHOLDS.value, cluster.value, min_distance.value,\n",
    "                sigma_ratio.value, num_sigma.value, formated_spectra.value,\n",
    "                match_factor_min.value)\n",
    "        \n",
    "run_button.on_click(on_button_click)\n",
    "\n",
    "display(txt, pbox, fbox, OUTPUT_PATH, mod_time, method, mode, seuil,\n",
    "        hit_prob_min, formated_spectra, match_factor_min,\n",
    "        vbox, txt_abs_threshold_cluster, ABS_THRESHOLDS, cluster, vbox,\n",
    "        txt_plm, txt_plm_description, min_distance, vbox, txt_dog,\n",
    "        txt_dog_description, sigma_ratio, vbox, txt_log_doh,\n",
    "        txt_log_doh_description, num_sigma, vbox,\n",
    "        run_button, output)\n"
   ]
  },
  {
   "cell_type": "code",
   "execution_count": null,
   "metadata": {},
   "outputs": [],
   "source": []
  },
  {
   "cell_type": "code",
   "execution_count": null,
   "metadata": {},
   "outputs": [],
   "source": []
  }
 ],
 "metadata": {
  "kernelspec": {
   "display_name": "Python 3 (ipykernel)",
   "language": "python",
   "name": "python3"
  },
  "language_info": {
   "codemirror_mode": {
    "name": "ipython",
    "version": 3
   },
   "file_extension": ".py",
   "mimetype": "text/x-python",
   "name": "python",
   "nbconvert_exporter": "python",
   "pygments_lexer": "ipython3",
   "version": "3.11.12"
  }
 },
 "nbformat": 4,
 "nbformat_minor": 4
}
