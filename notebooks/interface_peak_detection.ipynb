{
 "cells": [
  {
   "cell_type": "markdown",
   "metadata": {},
   "source": [
    "===================================\n",
    " # PEAKS DETECTION #\n",
    "===================================\n",
    "\n",
    "Read the chromatogram, generate a peak table and identify the compounds using the NIST database. "
   ]
  },
  {
   "cell_type": "code",
   "execution_count": null,
   "metadata": {},
   "outputs": [],
   "source": [
    "sudo systemctl status docker"
   ]
  },
  {
   "cell_type": "markdown",
   "metadata": {},
   "source": [
    "ex de file : A-F-028-817822-droite-ReCIVA.cdf\n",
    "G0/G0-1-100123.cdf"
   ]
  },
  {
   "cell_type": "markdown",
   "metadata": {},
   "source": [
    "docker rm -f pyms-nist-server"
   ]
  },
  {
   "cell_type": "code",
   "execution_count": null,
   "metadata": {},
   "outputs": [
    {
     "data": {
      "application/vnd.jupyter.widget-view+json": {
       "model_id": "2f5e0a258c6a45d688f9ca386fe7a9a6",
       "version_major": 2,
       "version_minor": 0
      },
      "text/plain": [
       "HTML(value='<b>Choisissez vos parametres:</b>')"
      ]
     },
     "metadata": {},
     "output_type": "display_data"
    },
    {
     "data": {
      "application/vnd.jupyter.widget-view+json": {
       "model_id": "0df381ea065d44bf991363508122455e",
       "version_major": 2,
       "version_minor": 0
      },
      "text/plain": [
       "Text(value='/media/camille/DATA1/cdf centroid/', description='<b>Path</b>')"
      ]
     },
     "metadata": {},
     "output_type": "display_data"
    },
    {
     "data": {
      "application/vnd.jupyter.widget-view+json": {
       "model_id": "48b9ed5aaa71433d9bb5154baa57384f",
       "version_major": 2,
       "version_minor": 0
      },
      "text/plain": [
       "Text(value='', description='<b>File</b>')"
      ]
     },
     "metadata": {},
     "output_type": "display_data"
    },
    {
     "data": {
      "application/vnd.jupyter.widget-view+json": {
       "model_id": "8f145b1ca64740fb9f6699b25fd10035",
       "version_major": 2,
       "version_minor": 0
      },
      "text/plain": [
       "Text(value='', description='<b>new file name</b>', style=DescriptionStyle(description_width='initial'))"
      ]
     },
     "metadata": {},
     "output_type": "display_data"
    },
    {
     "data": {
      "application/vnd.jupyter.widget-view+json": {
       "model_id": "7a6aacd784dd4d5480e66b879e9623fc",
       "version_major": 2,
       "version_minor": 0
      },
      "text/plain": [
       "FloatSlider(value=1.25, description='<b>Modulation time:</b>', max=8.0, min=1.0, step=0.01, style=SliderStyle(…"
      ]
     },
     "metadata": {},
     "output_type": "display_data"
    },
    {
     "data": {
      "application/vnd.jupyter.widget-view+json": {
       "model_id": "b5210678649b4f05bb9d27162e999fd5",
       "version_major": 2,
       "version_minor": 0
      },
      "text/plain": [
       "RadioButtons(description='<b>Method</b>', options=('persistent_homology', 'peak_local_max', 'LoG', 'DoG', 'DoH…"
      ]
     },
     "metadata": {},
     "output_type": "display_data"
    },
    {
     "data": {
      "application/vnd.jupyter.widget-view+json": {
       "model_id": "f1f45e5c1f464f60b4de9eced5535ed9",
       "version_major": 2,
       "version_minor": 0
      },
      "text/plain": [
       "RadioButtons(description='<b>Mode</b>', options=('tic', 'mass_per_mass', '3D'), value='tic')"
      ]
     },
     "metadata": {},
     "output_type": "display_data"
    },
    {
     "data": {
      "application/vnd.jupyter.widget-view+json": {
       "model_id": "8f541cce119d4898b31bdfd6025d3603",
       "version_major": 2,
       "version_minor": 0
      },
      "text/plain": [
       "IntSlider(value=5, description='<b>Seuil</b>', max=10)"
      ]
     },
     "metadata": {},
     "output_type": "display_data"
    },
    {
     "data": {
      "application/vnd.jupyter.widget-view+json": {
       "model_id": "180da5a772d1457db287f8c60351f52a",
       "version_major": 2,
       "version_minor": 0
      },
      "text/plain": [
       "IntSlider(value=15, description='<b>Minimum hit probability</b> [a modifier]', max=30, style=SliderStyle(descr…"
      ]
     },
     "metadata": {},
     "output_type": "display_data"
    },
    {
     "data": {
      "application/vnd.jupyter.widget-view+json": {
       "model_id": "de3b93a199c1497caa6130eb0f62cb56",
       "version_major": 2,
       "version_minor": 0
      },
      "text/plain": [
       "Checkbox(value=True, description='<b>formated spectra</b>')"
      ]
     },
     "metadata": {},
     "output_type": "display_data"
    },
    {
     "data": {
      "application/vnd.jupyter.widget-view+json": {
       "model_id": "2ab0384abfaf43068be70b778d9208e9",
       "version_major": 2,
       "version_minor": 0
      },
      "text/plain": [
       "IntSlider(value=700, description='<b>Match factor min</b> [a modifier]', max=1000)"
      ]
     },
     "metadata": {},
     "output_type": "display_data"
    },
    {
     "data": {
      "application/vnd.jupyter.widget-view+json": {
       "model_id": "7e6626f27c7e45ffbdadeb375dc66a11",
       "version_major": 2,
       "version_minor": 0
      },
      "text/plain": [
       "VBox(layout=Layout(margin='10px 0px'))"
      ]
     },
     "metadata": {},
     "output_type": "display_data"
    },
    {
     "data": {
      "application/vnd.jupyter.widget-view+json": {
       "model_id": "6080cfeb83ff4755926b2f25b9f2e7d5",
       "version_major": 2,
       "version_minor": 0
      },
      "text/plain": [
       "HTML(value='If mass_per_mass or 3D mode:')"
      ]
     },
     "metadata": {},
     "output_type": "display_data"
    },
    {
     "data": {
      "application/vnd.jupyter.widget-view+json": {
       "model_id": "53141b7163c54e04b66d95278048be18",
       "version_major": 2,
       "version_minor": 0
      },
      "text/plain": [
       "Text(value='', description='Seuils absolus(liste)', disabled=True, style=DescriptionStyle(description_width='i…"
      ]
     },
     "metadata": {},
     "output_type": "display_data"
    },
    {
     "data": {
      "application/vnd.jupyter.widget-view+json": {
       "model_id": "18400e50edda4aaa9629a1b0e53deeb6",
       "version_major": 2,
       "version_minor": 0
      },
      "text/plain": [
       "Checkbox(value=False, description='<b>cluster</b>', disabled=True)"
      ]
     },
     "metadata": {},
     "output_type": "display_data"
    },
    {
     "data": {
      "application/vnd.jupyter.widget-view+json": {
       "model_id": "7e6626f27c7e45ffbdadeb375dc66a11",
       "version_major": 2,
       "version_minor": 0
      },
      "text/plain": [
       "VBox(layout=Layout(margin='10px 0px'))"
      ]
     },
     "metadata": {},
     "output_type": "display_data"
    },
    {
     "data": {
      "application/vnd.jupyter.widget-view+json": {
       "model_id": "081e0c6fe6ec40c695634e5e707e54d7",
       "version_major": 2,
       "version_minor": 0
      },
      "text/plain": [
       "HTML(value='Peak local max parameter: ')"
      ]
     },
     "metadata": {},
     "output_type": "display_data"
    },
    {
     "data": {
      "application/vnd.jupyter.widget-view+json": {
       "model_id": "fbc10358fad940868fe225e7eeb42a38",
       "version_major": 2,
       "version_minor": 0
      },
      "text/plain": [
       "HTML(value='(The minimal allowed distance separating peaks. To find the maximum number of peaks, use min_dista…"
      ]
     },
     "metadata": {},
     "output_type": "display_data"
    },
    {
     "data": {
      "application/vnd.jupyter.widget-view+json": {
       "model_id": "6084fd607c5f4ae58e589291dbec3136",
       "version_major": 2,
       "version_minor": 0
      },
      "text/plain": [
       "IntSlider(value=1, description='<b>Minimal distance</b> [a modifier]', max=30, style=SliderStyle(description_w…"
      ]
     },
     "metadata": {},
     "output_type": "display_data"
    },
    {
     "data": {
      "application/vnd.jupyter.widget-view+json": {
       "model_id": "7e6626f27c7e45ffbdadeb375dc66a11",
       "version_major": 2,
       "version_minor": 0
      },
      "text/plain": [
       "VBox(layout=Layout(margin='10px 0px'))"
      ]
     },
     "metadata": {},
     "output_type": "display_data"
    },
    {
     "data": {
      "application/vnd.jupyter.widget-view+json": {
       "model_id": "cd37b3be2a9e4df08f294ea308aecd05",
       "version_major": 2,
       "version_minor": 0
      },
      "text/plain": [
       "HTML(value='DoG parameter: ')"
      ]
     },
     "metadata": {},
     "output_type": "display_data"
    },
    {
     "data": {
      "application/vnd.jupyter.widget-view+json": {
       "model_id": "79f5f77b04c24af08cd9d6a5feae349b",
       "version_major": 2,
       "version_minor": 0
      },
      "text/plain": [
       "HTML(value='The ratio between the standard deviation of Gaussian Kernels used for computing the Difference of …"
      ]
     },
     "metadata": {},
     "output_type": "display_data"
    },
    {
     "data": {
      "application/vnd.jupyter.widget-view+json": {
       "model_id": "89e19abfbc4f425ea1f463cef7da87c5",
       "version_major": 2,
       "version_minor": 0
      },
      "text/plain": [
       "FloatSlider(value=1.6, description='<b>sigma ratio:</b>', max=2.0, step=0.01, style=SliderStyle(description_wi…"
      ]
     },
     "metadata": {},
     "output_type": "display_data"
    },
    {
     "data": {
      "application/vnd.jupyter.widget-view+json": {
       "model_id": "7e6626f27c7e45ffbdadeb375dc66a11",
       "version_major": 2,
       "version_minor": 0
      },
      "text/plain": [
       "VBox(layout=Layout(margin='10px 0px'))"
      ]
     },
     "metadata": {},
     "output_type": "display_data"
    },
    {
     "data": {
      "application/vnd.jupyter.widget-view+json": {
       "model_id": "7086d76db3374ef5b5a9455cd85d780a",
       "version_major": 2,
       "version_minor": 0
      },
      "text/plain": [
       "HTML(value='LoG and DoG parameter')"
      ]
     },
     "metadata": {},
     "output_type": "display_data"
    },
    {
     "data": {
      "application/vnd.jupyter.widget-view+json": {
       "model_id": "67a7e7295c184457a23dd7d4fac0e1cf",
       "version_major": 2,
       "version_minor": 0
      },
      "text/plain": [
       "HTML(value='(The number of intermediate values of standard deviations to consider between min_sigma (1) and ma…"
      ]
     },
     "metadata": {},
     "output_type": "display_data"
    },
    {
     "data": {
      "application/vnd.jupyter.widget-view+json": {
       "model_id": "cc5c06ff8414435cb411326ddbdc883d",
       "version_major": 2,
       "version_minor": 0
      },
      "text/plain": [
       "IntSlider(value=10, description='<b>sigma:</b>', max=30, min=1)"
      ]
     },
     "metadata": {},
     "output_type": "display_data"
    },
    {
     "data": {
      "application/vnd.jupyter.widget-view+json": {
       "model_id": "7e6626f27c7e45ffbdadeb375dc66a11",
       "version_major": 2,
       "version_minor": 0
      },
      "text/plain": [
       "VBox(layout=Layout(margin='10px 0px'))"
      ]
     },
     "metadata": {},
     "output_type": "display_data"
    },
    {
     "data": {
      "application/vnd.jupyter.widget-view+json": {
       "model_id": "1d5aaa2c63c04d80aa177194c2ccd154",
       "version_major": 2,
       "version_minor": 0
      },
      "text/plain": [
       "Button(description='Analyse', style=ButtonStyle())"
      ]
     },
     "metadata": {},
     "output_type": "display_data"
    },
    {
     "data": {
      "application/vnd.jupyter.widget-view+json": {
       "model_id": "067503e59c814a1f95c11561dd640da2",
       "version_major": 2,
       "version_minor": 0
      },
      "text/plain": [
       "Output()"
      ]
     },
     "metadata": {},
     "output_type": "display_data"
    }
   ],
   "source": [
    "# Choix des parametres\n",
    "import os\n",
    "import sys\n",
    "import ipywidgets as widgets\n",
    "from IPython.display import display\n",
    "\n",
    "path_to_scr_folder = os.path.join(os.path.dirname(os.path.abspath('')), 'src')\n",
    "sys.path.append(path_to_scr_folder)\n",
    "\n",
    "from identification import sample_identification\n",
    "\n",
    "style = {'description_width': 'initial'}\n",
    "\n",
    "\n",
    "def analyse(path, file, OUTPUT_PATH, mod_time, method, mode, seuil,\n",
    "            hit_prob_min, ABS_THRESHOLDS, cluster, min_distance,\n",
    "            sigma_ratio, num_sigma, formated_spectra, match_factor_min):\n",
    "    full_path = path+file\n",
    "    if not os.path.isfile(full_path):\n",
    "        print(f\"Erreur : Le fichier '{file}' est introuvable dans '{path}'\")\n",
    "        return\n",
    "    if not os.access(full_path, os.R_OK):\n",
    "        print(f\"Erreur: Permission refusée pour accéder à '{file}' dans \\\n",
    "              '{path}'\")\n",
    "        return\n",
    "\n",
    "    print(f\"Analyzing with path={full_path}, mod_time={mod_time}, cluster={cluster}\\n\")\n",
    "    sample_identification(path, file, OUTPUT_PATH, mod_time, method, mode,\n",
    "                          seuil, hit_prob_min, ABS_THRESHOLDS, cluster,\n",
    "                          min_distance, sigma_ratio, num_sigma,\n",
    "                          formated_spectra, match_factor_min)\n",
    "\n",
    "\n",
    "txt = widgets.HTML('<b>Choisissez vos parametres:</b>')\n",
    "default_path = '/media/camille/DATA1/cdf centroid/'\n",
    "path = widgets.Text(description=\"<b>Path</b>\", value=default_path)\n",
    "file = widgets.Text(description=\"<b>File</b>\")\n",
    "mod_time = widgets.FloatSlider(value=1.25, min=1, max=8, step=0.01,\n",
    "                               description=\"<b>Modulation time:</b>\",\n",
    "                               style=style)\n",
    "OUTPUT_PATH = widgets.Text(value=None, description=\"<b>new file name</b>\",\n",
    "                           style=style)\n",
    "method = widgets.RadioButtons(\n",
    "    options=['persistent_homology', 'peak_local_max', 'LoG', 'DoG', 'DoH'],\n",
    "    value='persistent_homology',\n",
    "    description='<b>Method</b>',\n",
    "    disabled=False)\n",
    "mode = widgets.RadioButtons(\n",
    "    options=['tic', 'mass_per_mass', '3D'],\n",
    "    value='tic',\n",
    "    description='<b>Mode</b>',\n",
    "    disabled=False)\n",
    "seuil = widgets.IntSlider(value=5, min=0, max=10,\n",
    "                            description=\"<b>Seuil</b>\")\n",
    "\n",
    "hit_prob_min = widgets.IntSlider(value=15, min=0, max=30,\n",
    "                                   description=\"<b>Minimum hit probability</b> [a modifier]\",\n",
    "                                   style=style)\n",
    "\n",
    "txt_abs_threshold_cluster = widgets.HTML(\"If mass_per_mass or 3D mode:\") #TODO\n",
    "# ABS_THRESHOLDS = widgets.Text(value=None, description=\"<b>Seuils absolus</b> [à modifier]\",\n",
    "#                               disabled=True, \n",
    "#                               layout=widgets.Layout(margin='0 0 0 50px'),\n",
    "#                               style=style)\n",
    "ABS_THRESHOLDS = widgets.Text(\n",
    "    value=None,\n",
    "    disabled=True,\n",
    "    description=\"Seuils absolus(liste)\",\n",
    "    style=style\n",
    ")\n",
    "\n",
    "def parse_abs_thresholds(change):\n",
    "    try:\n",
    "        values = [float(x.strip()) for x in change['new'].split(\",\")]\n",
    "        print(\"Valeurs converties :\", values)\n",
    "    except ValueError:\n",
    "        print(\"Erreur : Veuillez entrer des nombres séparés par des virgules.\")\n",
    "\n",
    "\n",
    "ABS_THRESHOLDS.observe(parse_abs_thresholds, names='value')\n",
    "\n",
    "cluster = widgets.Checkbox(\n",
    "    value=False,\n",
    "    description='<b>cluster</b>',\n",
    "    disabled=True,)\n",
    "\n",
    "\n",
    "def update_ABS_THRESHOLDS(change):\n",
    "    if change.new == 'tic':\n",
    "        ABS_THRESHOLDS.disabled = True\n",
    "        cluster.disabled = True\n",
    "    else:\n",
    "        ABS_THRESHOLDS.disabled = False\n",
    "        cluster.disabled = False\n",
    "\n",
    "\n",
    "mode.observe(update_ABS_THRESHOLDS, names='value')\n",
    "\n",
    "txt_plm = widgets.HTML(\"Peak local max parameter: \")\n",
    "txt1 = \"The minimal allowed distance separating peaks.\"\n",
    "txt2 = \"To find the maximum number of peaks, use min_distance=1.\"\n",
    "txt_plm_description = widgets.HTML(f\"({txt1} {txt2})\")\n",
    "min_distance = widgets.IntSlider(value=1, min=0, max=30, step=1, \n",
    "                                 description=\"<b>Minimal distance</b> [a modifier]\",\n",
    "                                 style=style)\n",
    "\n",
    "txt_dog = widgets.HTML(\"DoG parameter: \")\n",
    "txt3 = \"The ratio between the standard deviation of Gaussian Kernels used for\"\\\n",
    "        \" computing the Difference of Gaussians.\"\n",
    "txt_dog_description = widgets.HTML(txt3)\n",
    "sigma_ratio = widgets.FloatSlider(value=1.6, min=0, max=2, step=0.01,\n",
    "                                  description=\"<b>sigma ratio:</b>\",\n",
    "                                  style=style)\n",
    "\n",
    "txt_log_doh = widgets.HTML(\"LoG and DoG parameter\")\n",
    "txt4 = \"(The number of intermediate values of standard deviations to consider\"\\\n",
    "    \" between min_sigma (1) and max_sigma (30))\"\n",
    "txt_log_doh_description = widgets.HTML(txt4)\n",
    "num_sigma = widgets.IntSlider(value=10, min=1, max=30,\n",
    "                              description=\"<b>sigma:</b>\")\n",
    "\n",
    "formated_spectra = widgets.Checkbox(\n",
    "    value=True,\n",
    "    description='<b>formated spectra</b>',\n",
    "    disabled=False,\n",
    ")\n",
    "\n",
    "match_factor_min = widgets.IntSlider(value=700, min=0, max=1000, step=1,\n",
    "                                     description=\"<b>Match factor min</b> [a modifier]\")\n",
    "\n",
    "run_button = widgets.Button(description=\"Analyse\")\n",
    "\n",
    "output = widgets.Output()\n",
    "\n",
    "\n",
    "def on_button_click(b):\n",
    "    with output:\n",
    "        output.clear_output()\n",
    "        analyse(path.value, file.value, OUTPUT_PATH.value, mod_time.value,\n",
    "                method.value, mode.value, seuil.value, hit_prob_min.value,\n",
    "                ABS_THRESHOLDS.value, cluster.value, min_distance.value,\n",
    "                sigma_ratio.value, num_sigma.value, formated_spectra.value,\n",
    "                match_factor_min.value)\n",
    "\n",
    "\n",
    "run_button.on_click(on_button_click)\n",
    "\n",
    "vbox = widgets.VBox(layout=widgets.Layout(margin='10px 0px'))\n",
    "\n",
    "display(txt, path, file, OUTPUT_PATH, mod_time, method, mode, seuil,\n",
    "        hit_prob_min, formated_spectra, match_factor_min,\n",
    "        vbox, txt_abs_threshold_cluster, ABS_THRESHOLDS, cluster, vbox,\n",
    "        txt_plm, txt_plm_description, min_distance, vbox, txt_dog,\n",
    "        txt_dog_description, sigma_ratio, vbox, txt_log_doh,\n",
    "        txt_log_doh_description, num_sigma, vbox,\n",
    "        run_button, output)\n",
    "\n"
   ]
  }
 ],
 "metadata": {
  "kernelspec": {
   "display_name": "base",
   "language": "python",
   "name": "python3"
  },
  "language_info": {
   "codemirror_mode": {
    "name": "ipython",
    "version": 3
   },
   "file_extension": ".py",
   "mimetype": "text/x-python",
   "name": "python",
   "nbconvert_exporter": "python",
   "pygments_lexer": "ipython3",
   "version": "3.12.7"
  }
 },
 "nbformat": 4,
 "nbformat_minor": 2
}
