{
 "cells": [
  {
   "cell_type": "markdown",
   "id": "a8a7550b",
   "metadata": {},
   "source": [
    "PreProcess the data"
   ]
  },
  {
   "cell_type": "code",
   "execution_count": null,
   "id": "a02a6b9f",
   "metadata": {
    "vscode": {
     "languageId": "plaintext"
    }
   },
   "outputs": [],
   "source": [
    "import netCDF4 as nc\n",
    "import os\n",
    "import ipywidgets as widgets"
   ]
  },
  {
   "cell_type": "code",
   "execution_count": null,
   "id": "86b1c518",
   "metadata": {},
   "outputs": [],
   "source": [
    "class data_converter():\n",
    "    def __init__():\n",
    "        file = \"\"\n",
    "        path = \"\"\n",
    "\n",
    "\n",
    "    def open_cdf(self):\n",
    "        data = nc.Dataset(file + path, 'r')\n",
    "\n",
    "    def create_widgets(self):\n",
    "        self.txt_title = widgets.HTML('<H1>Choisissez vos parametres:</H1>')\n",
    "\n",
    "        self.w_path = widgets.Text(value=self.default_path_input)\n",
    "        self.path = self._bold_widget(\"Path\", self.w_path)\n",
    "\n",
    "        self.w_files = widgets.Text(placeholder=\"ex: file1.cdf, file2.cdf\")\n",
    "        self.files = self._bold_widget(\"Files\", self.w_files)\n",
    "        \n",
    "    def _bold_widget(self, value, widget):\n",
    "        \"\"\"Create a widget with bold label.\"\"\"\n",
    "        bold = widgets.HTML(value=f'<b>{value}</b>')\n",
    "        return widgets.HBox([bold, widget])\n",
    "    \n",
    "\n",
    "    \n",
    "    "
   ]
  },
  {
   "cell_type": "code",
   "execution_count": null,
   "id": "89ddc0e1",
   "metadata": {
    "vscode": {
     "languageId": "plaintext"
    }
   },
   "outputs": [],
   "source": [
    "nc.dataset()"
   ]
  }
 ],
 "metadata": {
  "language_info": {
   "name": "python"
  }
 },
 "nbformat": 4,
 "nbformat_minor": 5
}
