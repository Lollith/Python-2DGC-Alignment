{
 "cells": [
  {
   "cell_type": "code",
   "execution_count": null,
   "metadata": {},
   "outputs": [],
   "source": [
    "# mv this notebook in src folder\n",
    "# or\n",
    "# set sys path to src folder\n",
    "import os, sys\n",
    "path_to_scr_folder=os.path.join(os.path.dirname(os.path.abspath('')), 'src')\n",
    "sys.path.append(path_to_scr_folder)"
   ]
  },
  {
   "cell_type": "code",
   "execution_count": 2,
   "metadata": {},
   "outputs": [],
   "source": [
    "from pixel_alignment import pixel_alignment\n",
    "import read_chroma\n",
    "import discriminant_pixel\n",
    "import baseline_correction\n",
    "import find_biom\n",
    "import plot\n",
    "import numpy as np\n",
    "from sklearn.preprocessing import normalize"
   ]
  },
  {
   "cell_type": "code",
   "execution_count": null,
   "metadata": {},
   "outputs": [],
   "source": [
    "# labels of the chromatograms\n",
    "labels = ['positif faible', 'positif', 'negatif', 'negatif', 'negatif', 'positif', 'negatif', 'positif faible', 'positif faible', 'negatif']\n",
    "labels = np.array(labels)"
   ]
  },
  {
   "cell_type": "code",
   "execution_count": null,
   "metadata": {},
   "outputs": [],
   "source": [
    "# align chromatogram\n",
    "PATH_TO_THE_COHORT=...\n",
    "pixel_alignment(PATH_TO_THE_COHORT)"
   ]
  },
  {
   "cell_type": "code",
   "execution_count": null,
   "metadata": {},
   "outputs": [],
   "source": [
    "# PATH to the aligned chromatograms\n",
    "ALIGNED_CHROMA_PATH = ...\n",
    "aligned_chroma_files = os.listdir(ALIGNED_CHROMA_PATH)"
   ]
  },
  {
   "cell_type": "code",
   "execution_count": null,
   "metadata": {},
   "outputs": [],
   "source": [
    "# Read aligned chromatograms and correct backgrounds\n",
    "aligned_chromatos = discriminant_pixel.read_aligned_chromatos(ALIGNED_CHROMA_PATH)\n",
    "aligned_chromatos = np.array([baseline_correction.chromato_no_baseline(aligned_chromato) for aligned_chromato in aligned_chromatos])"
   ]
  },
  {
   "cell_type": "code",
   "execution_count": null,
   "metadata": {},
   "outputs": [],
   "source": [
    "# FILENAME of the chromatogram as reference. The chromatogram from which other chromatograms are aligned. Useful for relating pixels to mass spectra to indentify compounds corresponding to discriminating pixels.\n",
    "ref_chromato_filename=...\n",
    "chromato, time_rn, chromato_cube, sigma, mass_range=read_chroma.read_chromato_and_chromato_cube(ref_chromato_filename, mod_time=1.25, pre_process=True)"
   ]
  },
  {
   "cell_type": "markdown",
   "metadata": {},
   "source": [
    "Positif (+ Positif faible) vs Negatif pixels"
   ]
  },
  {
   "cell_type": "code",
   "execution_count": null,
   "metadata": {},
   "outputs": [],
   "source": [
    "# compute vij : assign 1 for groupe 1 labels (positif + positif faible) and -1 to others (negatif)\n",
    "vij_posi_vs_other = np.ones(labels.shape)\n",
    "vij_posi_vs_other[labels == 'negatif'] = -1\n",
    "vij_posi_vs_other"
   ]
  },
  {
   "cell_type": "code",
   "execution_count": null,
   "metadata": {},
   "outputs": [],
   "source": [
    "# compute discriminant compounds\n",
    "matches_pos_plus_pos_f = discriminant_pixel.find_discriminant_compounds((chromato, time_rn, None), aligned_chromatos, chromato_cube, vij_posi_vs_other, disp=True, match_factor_min=500, max_pixel=500, local_max_filter=True, mod_time=1.25, title=\"positif+faible_\")"
   ]
  },
  {
   "cell_type": "code",
   "execution_count": null,
   "metadata": {},
   "outputs": [],
   "source": [
    "N=20\n",
    "# print the N most discriminating compounds\n",
    "for match in matches_pos_plus_pos_f[:N]:\n",
    "    print(\"\\\"\" + match[1][\"compound_name\"] + \"\\\",\", match[1][\"match_factor\"], match[0], match[2])"
   ]
  },
  {
   "cell_type": "code",
   "execution_count": null,
   "metadata": {},
   "outputs": [],
   "source": [
    "# OPTIONAL : ACP with all pixels \n",
    "features = np.array([chroma.flatten() for chroma in aligned_chromatos])\n",
    "features.shape\n",
    "features_new_cd, pca = find_biom.acp(features, n_components=2)\n",
    "plot.plot_acp(features_new_cd, labels)"
   ]
  },
  {
   "cell_type": "code",
   "execution_count": null,
   "metadata": {},
   "outputs": [],
   "source": [
    "# find discrminant pixels\n",
    "discriminant_pixels = discriminant_pixel.find_discriminant_pixels((chromato, time_rn, None), aligned_chromatos, vij_posi_vs_other, disp=False, max_pixel=500, local_max_filter=True)"
   ]
  },
  {
   "cell_type": "code",
   "execution_count": null,
   "metadata": {},
   "outputs": [],
   "source": [
    "# retrieve intensities associated with disc pixels in each chromatogram\n",
    "features = np.array([chroma[discriminant_pixels[:, 0], discriminant_pixels[: , 1]] for chroma in aligned_chromatos])\n",
    "features.shape\n",
    "norm = False\n",
    "if norm:\n",
    "    features = normalize(features, norm='l1')\n",
    "features_new_cd_disc_pix, pca_disc_pix = find_biom.acp(features, n_components=2)\n",
    "# ACP with disc pixels\n",
    "plot.plot_acp(features_new_cd_disc_pix, labels)"
   ]
  },
  {
   "cell_type": "markdown",
   "metadata": {},
   "source": [
    "You may find more details for this approach in results/discriminant_pixel_aligned_chroma.ipynb"
   ]
  }
 ],
 "metadata": {
  "kernelspec": {
   "display_name": "base",
   "language": "python",
   "name": "python3"
  },
  "language_info": {
   "codemirror_mode": {
    "name": "ipython",
    "version": 3
   },
   "file_extension": ".py",
   "mimetype": "text/x-python",
   "name": "python",
   "nbconvert_exporter": "python",
   "pygments_lexer": "ipython3",
   "version": "3.12.7"
  },
  "orig_nbformat": 4
 },
 "nbformat": 4,
 "nbformat_minor": 2
}
