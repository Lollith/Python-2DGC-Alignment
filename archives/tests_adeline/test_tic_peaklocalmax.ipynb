{
 "cells": [
  {
   "cell_type": "markdown",
   "id": "0",
   "metadata": {},
   "source": [
    "# test tic + peak local max\n"
   ]
  },
  {
   "cell_type": "code",
   "execution_count": null,
   "id": "1",
   "metadata": {},
   "outputs": [],
   "source": [
    "import numpy as np\n",
    "import baseline_correction\n",
    "import math\n",
    "import h5py\n",
    "import plot\n",
    "from read_chroma import read_chromato_and_chromato_cube\n",
    "import read_chroma\n",
    "import skimage\n",
    "import peak_detection\n",
    "import projection"
   ]
  },
  {
   "cell_type": "code",
   "execution_count": null,
   "id": "2",
   "metadata": {},
   "outputs": [],
   "source": [
    "mode= \"tic\""
   ]
  },
  {
   "cell_type": "code",
   "execution_count": null,
   "id": "3",
   "metadata": {},
   "outputs": [],
   "source": [
    "# choose the methode\n",
    "# method = \"peak_local_max\"\n",
    "method = \"persistence_homology\"\n",
    "# method = 'DOG'\n",
    "# method = 'LOG'\n",
    "# method = 'DOH'"
   ]
  },
  {
   "cell_type": "code",
   "execution_count": null,
   "id": "4",
   "metadata": {},
   "outputs": [],
   "source": [
    "#file_path = '/home/camille/Documents/app/data/G0-1-160123.h5'\n",
    "file_path = '/home/camille/Documents/app/data/P-L-007-801838-Tedlar.h5'\n",
    "#file_path = '/home/camille/Documents/app/data/A-F-028-817822-droite-ReCIVA.h5'\n",
    "\n"
   ]
  },
  {
   "cell_type": "code",
   "execution_count": null,
   "id": "5",
   "metadata": {},
   "outputs": [],
   "source": [
    "def get_mod_time(file_path):\n",
    "    \"\"\"Get modulation time based on scan_number from CDF file.\"\"\"\n",
    "        #TODO recup  le .npy\n",
    "    # print(f\"Analyzing file: {file_path}\")\n",
    "    with h5py.File(file_path, 'r') as f:\n",
    "        scan_number = f.attrs['scan_number_size']\n",
    "        print(f\"scan_number_size: {scan_number}\")\n",
    "\n",
    "    # data = nc.Dataset(file_path, 'r')\n",
    "    # scan_number = data.dimensions['scan_number'].size\n",
    "    if scan_number == 328125:   \n",
    "        mod_time = 1.25\n",
    "        print(\"type de donnees: G0/plasma\")\n",
    "    elif scan_number == 540035:\n",
    "        mod_time = 1.7\n",
    "        print(\"type de donnnees: air expire\")\n",
    "    else:\n",
    "        print(\"scan_number non reconnu\")\n",
    "    # mod_time =1.7\n",
    "    return mod_time\n",
    "\n",
    "mod_time= get_mod_time(file_path)"
   ]
  },
  {
   "cell_type": "code",
   "execution_count": null,
   "id": "6",
   "metadata": {},
   "outputs": [],
   "source": [
    "tic_chromato, time_rn, spectra_obj = read_chroma.read_chroma(file_path, mod_time, None)"
   ]
  },
  {
   "cell_type": "code",
   "execution_count": null,
   "id": "7",
   "metadata": {},
   "outputs": [],
   "source": [
    "plot.visualizer((tic_chromato, time_rn), mod_time)"
   ]
  },
  {
   "cell_type": "code",
   "execution_count": null,
   "id": "8",
   "metadata": {},
   "outputs": [],
   "source": [
    "tic_chromato_preprocessed = baseline_correction.chromato_reduced_noise(tic_chromato)"
   ]
  },
  {
   "cell_type": "code",
   "execution_count": null,
   "id": "9",
   "metadata": {},
   "outputs": [],
   "source": [
    "plot.visualizer((tic_chromato_preprocessed, time_rn), mod_time)"
   ]
  },
  {
   "cell_type": "code",
   "execution_count": null,
   "id": "10",
   "metadata": {},
   "outputs": [],
   "source": [
    "sigma = skimage.restoration.estimate_sigma(tic_chromato_preprocessed, channel_axis=None)\n",
    "print(f\"Estimated noise sigma: {sigma}\")"
   ]
  },
  {
   "cell_type": "code",
   "execution_count": null,
   "id": "11",
   "metadata": {},
   "outputs": [],
   "source": [
    "\n",
    "abs_threshold = 0\n",
    "rel_threshold = 0.01\n",
    "noise_factor = 1.5\n",
    "min_persistence = 0.02\n",
    "min_distance = 1\n",
    "sigma_ratio = 1.6\n",
    "num_sigma = 10\n",
    "min_sigma = 1\n",
    "max_sigma = 30\n",
    "overlap = 0.5\n",
    "match_factor_min = 650\n",
    "cluster = True\n",
    "min_samples = 4\n",
    "eps = 3"
   ]
  },
  {
   "cell_type": "code",
   "execution_count": null,
   "id": "12",
   "metadata": {},
   "outputs": [],
   "source": [
    "coordinates = peak_detection.peak_detection(\n",
    "    (tic_chromato_preprocessed, time_rn, None),\n",
    "    chromato_cube=None,\n",
    "    sigma=sigma,\n",
    "    noise_factor=noise_factor,\n",
    "    abs_threshold=abs_threshold,\n",
    "    rel_threshold=rel_threshold,\n",
    "    method=method,\n",
    "    mode=mode,\n",
    "    cluster=cluster,\n",
    "    min_distance=min_distance,\n",
    "    min_sigma=min_sigma,\n",
    "    max_sigma=max_sigma,\n",
    "    sigma_ratio=sigma_ratio,\n",
    "    num_sigma=num_sigma,\n",
    "    min_persistence=min_persistence,\n",
    "    overlap=overlap,\n",
    "    eps=eps,\n",
    "    min_samples=min_samples)"
   ]
  },
  {
   "cell_type": "code",
   "execution_count": null,
   "id": "13",
   "metadata": {},
   "outputs": [],
   "source": [
    "len(coordinates)"
   ]
  },
  {
   "cell_type": "code",
   "execution_count": null,
   "id": "14",
   "metadata": {},
   "outputs": [],
   "source": [
    "coordinates_in_chromato=projection.matrix_to_chromato(coordinates, time_rn, mod_time, tic_chromato_preprocessed.shape)\n"
   ]
  },
  {
   "cell_type": "code",
   "execution_count": null,
   "id": "15",
   "metadata": {},
   "outputs": [],
   "source": [
    "plot.visualizer((tic_chromato_preprocessed, time_rn), mod_time, title=\"chromato\", log_chromato=False, points=coordinates_in_chromato)"
   ]
  }
 ],
 "metadata": {
  "kernelspec": {
   "display_name": ".venv",
   "language": "python",
   "name": "python3"
  },
  "language_info": {
   "codemirror_mode": {
    "name": "ipython",
    "version": 3
   },
   "file_extension": ".py",
   "mimetype": "text/x-python",
   "name": "python",
   "nbconvert_exporter": "python",
   "pygments_lexer": "ipython3",
   "version": "3.12.7"
  }
 },
 "nbformat": 4,
 "nbformat_minor": 5
}
