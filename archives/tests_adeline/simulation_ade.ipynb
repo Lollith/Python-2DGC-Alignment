{
 "cells": [
  {
   "cell_type": "code",
   "execution_count": null,
   "metadata": {},
   "outputs": [],
   "source": [
    "# mv this notebook in src folder\n",
    "# or\n",
    "# set sys path to src folder\n",
    "import os, sys\n",
    "path_to_scr_folder=os.path.join(os.path.dirname(os.path.abspath('')), 'src')\n",
    "sys.path.append(path_to_scr_folder)"
   ]
  },
  {
   "cell_type": "code",
   "execution_count": null,
   "metadata": {},
   "outputs": [],
   "source": [
    "import peak_simulation\n",
    "import read_chroma\n",
    "import plot"
   ]
  },
  {
   "cell_type": "code",
   "execution_count": null,
   "metadata": {},
   "outputs": [],
   "source": [
    "# FILENAME of the chromatogram used as model to create the new chromatogram\n",
    "# model_filename='F:/Bureau/032023-data-Tenax-VOC-COVID/801850-A-C-01-157-split10.cdf'\n",
    "# model_filename=...\n",
    "# model_filename='F:/Bureau/032023-data-Tenax-VOC-COVID/801850-A-C-01-157-split10.cdf'\n",
    "model_filename='/home/camille/Documents/app/data/A-F-028-817822-droite-ReCIVA.cdf'\n",
    "file_path_h5='/home/camille/Documents/app/data/A-F-028-817822-droite-ReCIVA.h5'\n",
    "\n",
    "\n",
    "# PATH where the cdf and the associated ground truth will be created\n",
    "# new_cdf_path=...\n",
    "new_cdf_path=\"/home/camille/Documents/app/data/SIMULATION/\"\n",
    "# NAME of the new chromatogram\n",
    "# cdf_name=\"test\"\n",
    "# cdf_name=...\n",
    "cdf_name=\"simulation_Reciva\"\n",
    "\n",
    "# FILENAME of the HMDB library. The file alread exists in the src folder but can be recreated. See README.md https://github.com/Easy47/Python-2DGC#if-you-need-to-simulate-data (2.)\n",
    "# lib_path='C:/Users/Stan/Python-2DGC/src/lib_EIB_gt.mgf'\n",
    "# lib_path=...\n",
    "# lib_path='C:/Users/Stan/Python-2DGC/src/lib_EIB_gt.mgf'\n",
    "lib_path='/home/camille/Documents/code/Python-2DGC-Alignment/src/lib_EIB_gt.mgf'\n",
    "\n",
    "# FILENAME of the HMDB library spectra pairwise scores\n",
    "# scores_path='C:/Users/Stan/Python-2DGC/src/lib_scores.json'\n",
    "# scores_path=...\n",
    "# scores_path='C:/Users/Stan/Python-2DGC/src/lib_scores.json'\n"
   ]
  },
  {
   "cell_type": "code",
   "execution_count": null,
   "metadata": {},
   "outputs": [],
   "source": [
    "#scores\n",
    "import utils\n",
    "\n",
    "utils.generate_lib_scores_from_lib(lib_filename=\"../src/lib_EIB.mgf\", output_path = \"./lib_scores.json\")\n"
   ]
  },
  {
   "cell_type": "code",
   "execution_count": null,
   "metadata": {},
   "outputs": [],
   "source": [
    "scores_path='./lib_scores.json'"
   ]
  },
  {
   "cell_type": "code",
   "execution_count": null,
   "metadata": {},
   "outputs": [],
   "source": [
    "min_similarity=0.8      # Pics bien définis\n",
    "max_similarity=0.95     # Éviter la redondance\n",
    "min_overlap=0.5 #0.1         # Chevauchement minimal\n",
    "max_overlap=0.8 #0.3        # Pas trop de coélution\n",
    "intensity_range_min=50000  # Intensités détectables\n",
    "intensity_range_max=200000\n",
    "noise_scale=200.0       # moins de variabilite\n",
    "nb_chromato=10          # Plusieurs variantes\n",
    "noise_loc=500.0         # Bruit localisé\n",
    "\n",
    "# ou pour tester la robustesse\n",
    "# noise_loc=2000.0,         # Bruit élevé\n",
    "# noise_scale=800.0,        # Haute variabilité\n",
    "\n",
    "# noise_loc=100.0,          # Bruit très faible pour tests\n",
    "# noise_scale=50.0,\n",
    "\n",
    "# ancienne value\n",
    "# noise_loc=1000.0\n",
    "# noise_scale=500.0\n",
    "# min_overlap=0.70\n",
    "# max_overlap=0.99\n",
    "# intensity_range_min=60000000\n",
    "# intensity_range_max=90000000"
   ]
  },
  {
   "cell_type": "code",
   "execution_count": null,
   "metadata": {},
   "outputs": [],
   "source": [
    "import h5py\n",
    "def get_mod_time(file_path_h5):\n",
    "        \"\"\"Get modulation time based on scan_number from CDF file.\"\"\"\n",
    "           #TODO recup  le .npy\n",
    "        # print(f\"Analyzing file: {file_path}\")\n",
    "        with h5py.File(file_path_h5, 'r') as f:\n",
    "            scan_number = f.attrs['scan_number_size']\n",
    "            print(f\"scan_number_size: {scan_number}\")\n",
    "\n",
    "        # data = nc.Dataset(file_path, 'r')\n",
    "        # scan_number = data.dimensions['scan_number'].size\n",
    "        if scan_number == 328125:   \n",
    "            mod_time = 1.25\n",
    "            print(\"type de donnees: G0/plasma\")\n",
    "        elif scan_number == 540035:\n",
    "            mod_time = 1.7\n",
    "            print(\"type de donnnees: air expire\")\n",
    "        else:\n",
    "            print(\"scan_number non reconnu\")\n",
    "        # mod_time =1.7\n",
    "        print(f\"modulation time: {mod_time}\")\n",
    "        return mod_time\n",
    "\n",
    "mod_time = get_mod_time(file_path_h5)"
   ]
  },
  {
   "cell_type": "code",
   "execution_count": null,
   "metadata": {},
   "outputs": [],
   "source": [
    "params = peak_simulation.simulation_from_cdf_model(\n",
    "    new_cdf_path=new_cdf_path,\n",
    "    cdf_name=cdf_name,\n",
    "    model_filename=model_filename,\n",
    "    lib_path=lib_path,scores_path=scores_path,\n",
    "    noise_loc=noise_loc,\n",
    "    noise_scale=noise_scale,\n",
    "    min_overlap=min_overlap,\n",
    "    max_overlap=max_overlap,\n",
    "    intensity_range_min=intensity_range_min,\n",
    "    intensity_range_max=intensity_range_max)"
   ]
  },
  {
   "cell_type": "markdown",
   "metadata": {},
   "source": [
    "Plot the created chromatogram"
   ]
  },
  {
   "cell_type": "markdown",
   "metadata": {},
   "source": [
    "# transformer  mon .cdf en .h5 avec lappli flask\n",
    "chemin d entree : /home/camille/Documents/app/data/SIMULATION/\n",
    "chemin de sortie :/home/camille/Documents/app/data/SIMULATION/"
   ]
  },
  {
   "cell_type": "code",
   "execution_count": null,
   "metadata": {},
   "outputs": [],
   "source": [
    "chromato_obj_new=read_chroma.read_chroma(new_cdf_path + '/' + cdf_name + \".h5\", mod_time)"
   ]
  },
  {
   "cell_type": "code",
   "execution_count": null,
   "metadata": {},
   "outputs": [],
   "source": [
    "plot.visualizer((chromato_obj_new[0], chromato_obj_new[1]), mod_time=mod_time)"
   ]
  }
 ],
 "metadata": {
  "kernelspec": {
   "display_name": "base",
   "language": "python",
   "name": "python3"
  },
  "language_info": {
   "codemirror_mode": {
    "name": "ipython",
    "version": 3
   },
   "file_extension": ".py",
   "mimetype": "text/x-python",
   "name": "python",
   "nbconvert_exporter": "python",
   "pygments_lexer": "ipython3",
   "version": "3.12.7"
  }
 },
 "nbformat": 4,
 "nbformat_minor": 2
}
