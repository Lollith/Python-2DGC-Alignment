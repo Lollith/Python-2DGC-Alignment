{
 "cells": [
  {
   "cell_type": "code",
   "execution_count": null,
   "metadata": {},
   "outputs": [],
   "source": [
    "# mv this notebook in src folder\n",
    "# or\n",
    "# set sys path to src folder\n",
    "import os, sys\n",
    "path_to_scr_folder=os.path.join(os.path.dirname(os.path.abspath('')), 'src')\n",
    "sys.path.append(path_to_scr_folder)"
   ]
  },
  {
   "cell_type": "code",
   "execution_count": null,
   "metadata": {},
   "outputs": [],
   "source": [
    "# path='F:/Bureau/VOC-COVID-cohorte-2020-2021/'\n",
    "# file='624850-air-expire-FRANCO-CAMPOS-MATIAS.cdf'\n",
    "\n",
    "# path='/media/camille/DATA1/cdf centroid/'\n",
    "# file='A-F-028-817822-droite-ReCIVA.cdf'\n",
    "\n",
    "path = '/home/camille/Documents/app/data/input/'\n",
    "file ='A-F-028-817822-droite-ReCIVA.cdf'"
   ]
  },
  {
   "cell_type": "markdown",
   "metadata": {},
   "source": [
    "# Direcretly generates peaks table for a sample"
   ]
  },
  {
   "cell_type": "code",
   "execution_count": null,
   "metadata": {},
   "outputs": [],
   "source": [
    "from identification import sample_identification"
   ]
  },
  {
   "cell_type": "code",
   "execution_count": null,
   "metadata": {},
   "outputs": [],
   "source": [
    "sample_identification(path, file)"
   ]
  },
  {
   "cell_type": "markdown",
   "metadata": {},
   "source": [
    "# Generates peaks table step by step: read, find, identify, quantify and generates peaks table"
   ]
  },
  {
   "cell_type": "code",
   "execution_count": null,
   "metadata": {},
   "outputs": [],
   "source": [
    "#package modules\n",
    "from read_chroma import read_chromato_and_chromato_cube\n",
    "from peak_detection import peak_detection\n",
    "from identification import compute_matches_identification, cohort_identification_alignment_input_format_txt, cohort_identification_to_csv\n",
    "from matching import matching_nist_lib_from_chromato_cube\n",
    "###\n",
    "import numpy as np"
   ]
  },
  {
   "cell_type": "code",
   "execution_count": null,
   "metadata": {},
   "outputs": [],
   "source": [
    "filename=path+file\n",
    "# directly read chromatogram and compute chromato cube\n",
    "chromato, time_rn, chromato_cube, sigma, mass_range=read_chromato_and_chromato_cube(filename, mod_time=1.25, pre_process=True)"
   ]
  },
  {
   "cell_type": "code",
   "execution_count": null,
   "metadata": {},
   "outputs": [],
   "source": [
    "seuil=5\n",
    "MIN_SEUIL = seuil * sigma * 100 / np.max(chromato)\n",
    "# detect peaks\n",
    "# read peak_detection to change method and mode\n",
    "coordinates = peak_detection((chromato, time_rn, None), None, chromato_cube, MIN_SEUIL, None)"
   ]
  },
  {
   "cell_type": "code",
   "execution_count": null,
   "metadata": {},
   "outputs": [],
   "source": [
    "hit_prob_min=0\n",
    "match_factor_min=0\n",
    "# 2D peaks identification with NIST datanase\n",
    "matches = matching_nist_lib_from_chromato_cube((chromato, time_rn, mass_range), chromato_cube, coordinates, mod_time = 1.25, hit_prob_min=hit_prob_min, match_factor_min=match_factor_min)"
   ]
  },
  {
   "cell_type": "code",
   "execution_count": null,
   "metadata": {},
   "outputs": [],
   "source": [
    "# peaks integration\n",
    "matches_identification=compute_matches_identification(matches, chromato, chromato_cube, mass_range, similarity_threshold=0.001, formated_spectra=False)"
   ]
  },
  {
   "cell_type": "code",
   "execution_count": null,
   "metadata": {},
   "outputs": [],
   "source": [
    "# generate peak table from identified sample matches\n",
    "#txt format\n",
    "cohort_identification_alignment_input_format_txt(file[:-4], matches_identification)\n",
    "#csv format\n",
    "cohort_identification_to_csv(file[:-4], matches_identification)"
   ]
  },
  {
   "cell_type": "markdown",
   "metadata": {},
   "source": [
    "# Generates peaks table for each chromatogram of the cohort and aligns them"
   ]
  },
  {
   "cell_type": "code",
   "execution_count": null,
   "metadata": {},
   "outputs": [],
   "source": [
    "import subprocess"
   ]
  },
  {
   "cell_type": "code",
   "execution_count": null,
   "metadata": {},
   "outputs": [],
   "source": [
    "# path to the chromatograms of the cohort\n",
    "COHORT_PATH=...\n",
    "# path where peaks table will be generated, input path for the alignment and path where aligned peak table will be generated\n",
    "OUTPUT_PATH=..."
   ]
  },
  {
   "cell_type": "code",
   "execution_count": null,
   "metadata": {},
   "outputs": [],
   "source": [
    "subprocess.run([\"python\", \"identification_main.py\", COHORT_PATH, OUTPUT_PATH])"
   ]
  },
  {
   "cell_type": "markdown",
   "metadata": {},
   "source": [
    "or"
   ]
  },
  {
   "cell_type": "code",
   "execution_count": null,
   "metadata": {},
   "outputs": [],
   "source": [
    "cohort_identification_and_alignment()"
   ]
  }
 ],
 "metadata": {
  "kernelspec": {
   "display_name": "base",
   "language": "python",
   "name": "python3"
  },
  "language_info": {
   "codemirror_mode": {
    "name": "ipython",
    "version": 3
   },
   "file_extension": ".py",
   "mimetype": "text/x-python",
   "name": "python",
   "nbconvert_exporter": "python",
   "pygments_lexer": "ipython3",
   "version": "3.12.7"
  }
 },
 "nbformat": 4,
 "nbformat_minor": 2
}
