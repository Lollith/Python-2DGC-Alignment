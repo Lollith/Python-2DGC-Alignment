{
 "cells": [
  {
   "cell_type": "code",
   "execution_count": null,
   "id": "0",
   "metadata": {},
   "outputs": [],
   "source": [
    "import os\n",
    "import shutil\n",
    "import time\n",
    "import netCDF4 as nc"
   ]
  },
  {
   "cell_type": "markdown",
   "id": "1",
   "metadata": {},
   "source": [
    "# test en local: "
   ]
  },
  {
   "cell_type": "code",
   "execution_count": null,
   "id": "2",
   "metadata": {},
   "outputs": [],
   "source": [
    "#file_path = \"D:/GCxGC_MS/DATA/Centroid/R-L-010-817823-Tedlar.cdf\"\n",
    "#file_path = \"D:/GCxGC_MS/DATA/test_adeline/A-F-028-817822-droite-ReCIVA.cdf\"\n",
    "#file_path = \"/home/camille/Documents/app/data/input/A-F-028-817822-droite-ReCIVA.cdf\"\n",
    "#A-F-028-817822-droite-ReCIVA.cdf\n",
    "#file_path = \"D:/GCxGC_MS/DATA/test_adeline/J-A-034-751325-Tedlar.cdf\"\n",
    "file_path = \"D:/GCxGC_MS/DATA/test_adeline/P-L-007-801838-Tedlar.cdf\"\n"
   ]
  },
  {
   "cell_type": "code",
   "execution_count": null,
   "id": "3",
   "metadata": {},
   "outputs": [],
   "source": [
    "ds = nc.Dataset(file_path)"
   ]
  },
  {
   "cell_type": "code",
   "execution_count": null,
   "id": "4",
   "metadata": {},
   "outputs": [],
   "source": [
    "t0 = time.time()\n",
    "mv = ds[\"mass_values\"][:]\n",
    "iv = ds[\"intensity_values\"][:]\n",
    "print(\"Time to load variables:\", time.time() - t0, \"s\")\n",
    "print(mv)"
   ]
  },
  {
   "cell_type": "markdown",
   "id": "5",
   "metadata": {},
   "source": [
    "# test sur docker"
   ]
  },
  {
   "cell_type": "code",
   "execution_count": null,
   "id": "6",
   "metadata": {},
   "outputs": [],
   "source": [
    "#file_path = \"/app/data/test_adeline/A-F-028-817822-droite-ReCIVA.cdf\"\n",
    "#file_path =\"/app/data/test_adeline/J-A-034-751325-Tedlar.cdf\"\n",
    "file_path =\"/app/data/test_adeline/P-L-007-801838-Tedlar.cdf\"\n",
    "print(file_path)"
   ]
  },
  {
   "cell_type": "code",
   "execution_count": null,
   "id": "7",
   "metadata": {},
   "outputs": [],
   "source": [
    "ds = nc.Dataset(file_path)"
   ]
  },
  {
   "cell_type": "code",
   "execution_count": null,
   "id": "8",
   "metadata": {},
   "outputs": [],
   "source": [
    "t0 = time.time()\n",
    "print(\"start\")\n",
    "mv = ds[\"mass_values\"][:]\n",
    "iv = ds[\"intensity_values\"][:]\n",
    "print(\"Time to load variables:\", time.time() - t0, \"s\")"
   ]
  },
  {
   "cell_type": "markdown",
   "id": "9",
   "metadata": {},
   "source": [
    "# test copie sur docker avant d analyser"
   ]
  },
  {
   "cell_type": "code",
   "execution_count": null,
   "id": "10",
   "metadata": {},
   "outputs": [],
   "source": [
    "source_path = file_path = \"D:/GCxGC_MS/DATA/624848_0017VE_J0.cdf\"\n",
    "tmp_path = \"/app/data/tmp\" \n",
    "if not os.path.exists(tmp_path):\n",
    "            os.makedirs(tmp_path)\n",
    "            print(f\"Created output directory: {tmp_path}\")\n",
    " "
   ]
  },
  {
   "cell_type": "code",
   "execution_count": null,
   "id": "11",
   "metadata": {},
   "outputs": [],
   "source": [
    "if not os.path.exists(tmp_path):\n",
    "    print(f\"Copying to fast access: {tmp_path}\")\n",
    "    t0 = time.time()\n",
    "    shutil.copy(source_path, tmp_path)\n",
    "    print(\"Time to copy:\", time.time() - t0, \"s\")\n",
    "else:\n",
    "    print(f\"Using cached copy: {tmp_path}\")"
   ]
  },
  {
   "cell_type": "code",
   "execution_count": null,
   "id": "12",
   "metadata": {},
   "outputs": [],
   "source": [
    "from netCDF4 import Dataset\n",
    "\n",
    "t0 = time.time()\n",
    "ds = Dataset(tmp_path)\n",
    "mass_values = ds[\"mass_values\"][:]\n",
    "intensity_values = ds[\"intensity_values\"][:]\n",
    "print(\"Time to load variables:\", time.time() - t0, \"s\")"
   ]
  },
  {
   "cell_type": "markdown",
   "id": "13",
   "metadata": {},
   "source": [
    "# test a partir d un .npy\n"
   ]
  },
  {
   "cell_type": "code",
   "execution_count": null,
   "id": "14",
   "metadata": {},
   "outputs": [],
   "source": [
    "import numpy as np\n",
    "import time"
   ]
  },
  {
   "cell_type": "code",
   "execution_count": null,
   "id": "15",
   "metadata": {},
   "outputs": [],
   "source": [
    "# file_path = \"D:/Dossiers Persos/Adeline/Python-2DGC-Alignment/interface_flask/converted_data/624848_0017VE_J0.npy\"\n",
    "#file_path = \"/app/data/P-L-007-801838-Tedlar.npy\"\n",
    "#file_path = \"/app/data/A-F-028-817822-droite-ReCIVA.npy\"\n",
    "file_path = \"/app/data/J-A-034-751325-Tedlar.npy\"\n",
    "print(file_path)"
   ]
  },
  {
   "cell_type": "code",
   "execution_count": null,
   "id": "16",
   "metadata": {},
   "outputs": [],
   "source": [
    "t0 = time.time()\n",
    "print(\"start\")\n",
    "mass_values = np.load(file_path, allow_pickle=True).item()[\"mass_values\"]\n",
    "iv = np.load(file_path, allow_pickle=True).item()[\"intensity_values\"]\n",
    "print(\"Time to load variables:\", time.time() - t0, \"s\")\n",
    "print(mass_values)"
   ]
  },
  {
   "cell_type": "markdown",
   "id": "17",
   "metadata": {},
   "source": [
    "# test a partir dun .h5"
   ]
  },
  {
   "cell_type": "code",
   "execution_count": null,
   "id": "18",
   "metadata": {},
   "outputs": [],
   "source": [
    "# !pip install h5py\n",
    "import h5py\n",
    "import math\n",
    "import time"
   ]
  },
  {
   "cell_type": "code",
   "execution_count": null,
   "id": "19",
   "metadata": {},
   "outputs": [],
   "source": [
    "\n",
    "file_path = \"/home/camille/Documents/app/data/J-A-034-751325-Tedlar.h5\"\n",
    "# file_path = \"/app/data/P-L-007-801838-Tedlar.h5\"\n",
    "#file_path = \"/app/data/A-F-028-817822-droite-ReCIVA.h5\"\n",
    "# file_path = \"/app/data/J-A-034-751325-Tedlar.h5\""
   ]
  },
  {
   "cell_type": "code",
   "execution_count": null,
   "id": "20",
   "metadata": {},
   "outputs": [],
   "source": [
    "t0 = time.time()\n",
    "print(\"start\")\n",
    "with h5py.File(file_path, 'r') as f:\n",
    "    mass_values = f['mass_values'][:]      # Charge tout\n",
    "    iv = f['intensity_values'][:]\n",
    "print(\"Time to load variables:\", time.time() - t0, \"s\")\n",
    "print(mass_values)\n"
   ]
  },
  {
   "cell_type": "code",
   "execution_count": null,
   "id": "21",
   "metadata": {},
   "outputs": [],
   "source": [
    "t0 = time.time()\n",
    "print(\"start\")\n",
    "with h5py.File(file_path, 'r') as f:\n",
    "        tic_chromato = f['total_intensity'][:]\n",
    "        timepara = f[\"scan_acquisition_time\"][np.abs(f[\"point_count\"])\n",
    "                                              < np.iinfo(np.int32).max]\n",
    "        \n",
    "        mv = f[\"mass_values\"][:]\n",
    "        iv = f[\"intensity_values\"][:]\n",
    "        range_min = math.ceil(f[\"mass_range_min\"][:].min())\n",
    "        range_max = math.floor(f[\"mass_range_max\"][:].max())\n",
    "        start_time = f['scan_acquisition_time'][0] / 60\n",
    "        end_time = f['scan_acquisition_time'][-1] / 60\n",
    "print(\"Time to load variables:\", time.time() - t0, \"s\")\n",
    "print(mass_values)\n"
   ]
  },
  {
   "cell_type": "code",
   "execution_count": null,
   "id": "22",
   "metadata": {},
   "outputs": [],
   "source": [
    "import math\n",
    "import h5py\n",
    "import numpy as np\n",
    "import netCDF4 as nc"
   ]
  },
  {
   "cell_type": "code",
   "execution_count": null,
   "id": "23",
   "metadata": {},
   "outputs": [],
   "source": [
    "file_path_h5 = \"/home/camille/Documents/app/data/J-A-034-751325-Tedlar.h5\"\n",
    "file_path_cdf = \"/home/camille/Documents/app/data/J-A-034-751325-Tedlar.cdf\"\n",
    "mod_time = 1.25\n",
    "\n"
   ]
  },
  {
   "cell_type": "code",
   "execution_count": null,
   "id": "24",
   "metadata": {},
   "outputs": [],
   "source": [
    "def read_chroma_h5(filename, mod_time, max_val=None):\n",
    "    if not filename.endswith(\".h5\"):\n",
    "        raise ValueError(\"The file must be a .h5\")\n",
    "    with h5py.File(filename, 'r') as f:\n",
    "        tic_chromato = f['total_intensity'][:]\n",
    "        \n",
    "        # abs_point_count = np.abs(f[\"point_count\"][:])\n",
    "        # print(\"abs_point_count\", abs_point_count)\n",
    "        # abs_point_count = np.abs(f[\"point_count\"])\n",
    "        # print(\"abs_point_count\", abs_point_count)\n",
    "\n",
    "        timepara = f[\"scan_acquisition_time\"][np.abs(f[\"point_count\"]) < np.iinfo(np.int32).max]\n",
    "        # print(\"scan_acquisition_time\", scan_acquisition_time)\n",
    "        print(\"timepara\", timepara)\n",
    "        if (max_val):\n",
    "            mv = f[\"mass_values\"][:max_val]\n",
    "            iv = f[\"intensity_values\"][:max_val]\n",
    "            \n",
    "        else:\n",
    "            mv = f[\"mass_values\"][:]\n",
    "            print(\"mv\", mv)\n",
    "            iv = f[\"intensity_values\"][:]\n",
    "            print(\"iv\", iv)\n",
    "        range_min = math.ceil(f[\"mass_range_min\"][:].min())\n",
    "        print(\"range_min\", range_min)\n",
    "        range_max = math.floor(f[\"mass_range_max\"][:].max())\n",
    "        print(\"range_max\", range_max)\n",
    "        start_time = f['scan_acquisition_time'][0] / 60\n",
    "        print(\"start_time\", start_time)\n",
    "        end_time = f['scan_acquisition_time'][-1] / 60\n",
    "        print(\"end_time\", end_time)\n",
    "\n",
    "    # timepara = scan_acquisition_time[abs_point_count <\n",
    "    #                                  np.iinfo(np.int32).max]\n",
    "    # print(\"timepara\", timepara)\n",
    "    # taux d'échantillonnage : le nombre d'échantillons (points) par unité de temps (par exemple, en Hz).\n",
    "    sam_rate = 1 / np.mean(timepara[1:] - timepara[:-1])\n",
    "    l1 = math.floor(sam_rate * mod_time)\n",
    "    l2 = math.floor(len(tic_chromato) / l1)\n",
    "    tic_chromato = np.reshape(tic_chromato[:l1*l2], (l2, l1))\n",
    "    print(\"l1\", l1)\n",
    "    print(\"l2\", l2)\n",
    "    print(\"tic_chromato shape\", tic_chromato.shape)\n",
    "    print(\"tic_chromato\", tic_chromato)\n",
    "\n",
    "    return (tic_chromato, (start_time, end_time),\n",
    "            (l1, l2, mv, iv, range_min, range_max))"
   ]
  },
  {
   "cell_type": "code",
   "execution_count": null,
   "id": "25",
   "metadata": {},
   "outputs": [],
   "source": [
    "def read_chroma_cdf(filename, mod_time, max_val=None):\n",
    "\n",
    "    if not filename.endswith(\".cdf\"):\n",
    "        raise ValueError(\"The file must be a .cdf\")\n",
    "\n",
    "    ds = nc.Dataset(filename, encoding=\"latin-1\")\n",
    "    tic_chromato = ds['total_intensity']\n",
    "    abs_point_count = np.abs(ds[\"point_count\"])\n",
    "    print(\"abs_point_count\", abs_point_count)\n",
    "    # scan_acquisition_time = ds[\"scan_acquisition_time\"]\n",
    "    Timepara = ds[\"scan_acquisition_time\"][abs_point_count < np.iinfo(np.int32).max]\n",
    "    # print(\"scan_acquisition_time\", scan_acquisition_time)\n",
    "    print(\"Timepara\", Timepara)\n",
    "    \n",
    "    # taux d'échantillonnage : le nombre d'échantillons (points) par unité de temps (par exemple, en Hz).\n",
    "    sam_rate = 1 / np.mean(Timepara[1:] - Timepara[:-1])\n",
    "    l1 = math.floor(sam_rate * mod_time)\n",
    "    l2 = math.floor(len(tic_chromato) / l1)\n",
    "\n",
    "    if (max_val):\n",
    "        mv = ds[\"mass_values\"][:max_val]\n",
    "        iv = ds[\"intensity_values\"][:max_val]\n",
    "    else:\n",
    "        mv = ds[\"mass_values\"][:]\n",
    "        print(\"mv\", mv)\n",
    "        iv = ds[\"intensity_values\"][:]\n",
    "        print(\"iv\", iv)\n",
    "    range_min = math.ceil(ds[\"mass_range_min\"][:].min())\n",
    "    print(\"range_min\", range_min)\n",
    "    range_max = math.floor(ds[\"mass_range_max\"][:].max())\n",
    "    print(\"range_max\", range_max)\n",
    "\n",
    "    tic_chromato = np.reshape(tic_chromato[:l1*l2], (l2, l1))\n",
    "    print(\"tic_chromato\", tic_chromato)\n",
    "\n",
    "    start_time = ds['scan_acquisition_time'][0] / 60\n",
    "    print(\"start_time\", start_time)\n",
    "    end_time = ds['scan_acquisition_time'][-1] / 60\n",
    "    print(\"end_time\", end_time)\n",
    "    print(\"l1\", l1)\n",
    "    print(\"l2\", l2)\n",
    "    print(\"tic_chromato shape\", tic_chromato.shape)\n",
    "\n",
    "    return (tic_chromato, (start_time, end_time),\n",
    "            (l1, l2, mv, iv, range_min, range_max))\n"
   ]
  },
  {
   "cell_type": "code",
   "execution_count": null,
   "id": "26",
   "metadata": {},
   "outputs": [],
   "source": [
    "read_chroma_h5(file_path_h5, mod_time, max_val=1000)\n"
   ]
  },
  {
   "cell_type": "code",
   "execution_count": null,
   "id": "27",
   "metadata": {},
   "outputs": [],
   "source": [
    "read_chroma_cdf(file_path_cdf, mod_time, max_val=1000)"
   ]
  }
 ],
 "metadata": {
  "kernelspec": {
   "display_name": "Python 3",
   "language": "python",
   "name": "python3"
  },
  "language_info": {
   "codemirror_mode": {
    "name": "ipython",
    "version": 3
   },
   "file_extension": ".py",
   "mimetype": "text/x-python",
   "name": "python",
   "nbconvert_exporter": "python",
   "pygments_lexer": "ipython3",
   "version": "3.12.10"
  }
 },
 "nbformat": 4,
 "nbformat_minor": 5
}
