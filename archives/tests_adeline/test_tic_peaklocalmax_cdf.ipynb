{
 "cells": [
  {
   "cell_type": "markdown",
   "id": "0",
   "metadata": {},
   "source": [
    "# test tic + peak local max\n",
    "diles.cdf pour comparer avec les .h5"
   ]
  },
  {
   "cell_type": "code",
   "execution_count": null,
   "id": "1",
   "metadata": {},
   "outputs": [],
   "source": [
    "import numpy as np\n",
    "import baseline_correction\n",
    "import math\n",
    "import h5py\n",
    "import plot\n",
    "from read_chroma import read_chromato_and_chromato_cube\n",
    "import read_chroma\n",
    "import skimage\n",
    "import peak_detection\n",
    "import projection\n",
    "import netCDF4 as nc"
   ]
  },
  {
   "cell_type": "code",
   "execution_count": null,
   "id": "2",
   "metadata": {},
   "outputs": [],
   "source": [
    "#file_path = '/home/camille/Documents/app/data/G0-1-160123.cdf'\n",
    "file_path = '/home/camille/Documents/app/data/P-L-007-801838-Tedlar.cdf'\n",
    "# file_path = '/home/camille/Documents/app/data/A-F-028-817822-droite-ReCIVA.cdf'\n",
    "\n"
   ]
  },
  {
   "cell_type": "code",
   "execution_count": null,
   "id": "3",
   "metadata": {},
   "outputs": [],
   "source": [
    "def get_mod_time(file_path):\n",
    "        \"\"\"Get modulation time based on scan_number from CDF file.\"\"\"\n",
    "        #TODO recup  le .npy\n",
    "        data = nc.Dataset(file_path, 'r')\n",
    "        scan_number = data.dimensions['scan_number'].size\n",
    "        if scan_number == 328125:   \n",
    "            mod_time = 1.25\n",
    "            print(\"type de donnees: G0/plasma\")\n",
    "        elif scan_number == 540035:\n",
    "            mod_time = 1.7\n",
    "            print(\"type de donnnees: air expire\")\n",
    "        else:\n",
    "            print(\"scan_number non reconnu\")\n",
    "        return mod_time\n",
    "\n",
    "mod_time= get_mod_time(file_path)"
   ]
  },
  {
   "cell_type": "code",
   "execution_count": null,
   "id": "4",
   "metadata": {},
   "outputs": [],
   "source": [
    "def read_chroma(filename, mod_time, max_val=None):\n",
    "    if not filename.endswith(\".cdf\"):\n",
    "        raise ValueError(\"The file must be a .cdf\")\n",
    "\n",
    "    ds = nc.Dataset(filename, encoding=\"latin-1\")\n",
    "    tic_chromato = ds['total_intensity']\n",
    "    abs_point_count = np.abs(ds[\"point_count\"])\n",
    "    Timepara = ds[\"scan_acquisition_time\"][abs_point_count <\n",
    "                                           np.iinfo(np.int32).max]\n",
    "    \n",
    "    # taux d'échantillonnage : le nombre d'échantillons (points) par unité de temps (par exemple, en Hz).\n",
    "    sam_rate = 1 / np.mean(Timepara[1:] - Timepara[:-1])\n",
    "    l1 = math.floor(sam_rate * mod_time)\n",
    "    l2 = math.floor(len(tic_chromato) / l1)\n",
    "\n",
    "    if (max_val):\n",
    "        mv = ds[\"mass_values\"][:max_val]\n",
    "        iv = ds[\"intensity_values\"][:max_val]\n",
    "    else:\n",
    "        mv = ds[\"mass_values\"][:]\n",
    "        iv = ds[\"intensity_values\"][:]\n",
    "\n",
    "    range_min = math.ceil(ds[\"mass_range_min\"][:].min())\n",
    "    range_max = math.floor(ds[\"mass_range_max\"][:].max())\n",
    "\n",
    "    tic_chromato = np.reshape(tic_chromato[:l1*l2], (l2, l1))\n",
    "\n",
    "    start_time = ds['scan_acquisition_time'][0] / 60\n",
    "    end_time = ds['scan_acquisition_time'][-1] / 60\n",
    "\n",
    "    return (tic_chromato, (start_time, end_time),\n",
    "            (l1, l2, mv, iv, range_min, range_max))\n",
    "\n",
    "tic_chromato, time_rn, spectra_obj = read_chroma(file_path, mod_time, None)"
   ]
  },
  {
   "cell_type": "code",
   "execution_count": null,
   "id": "5",
   "metadata": {},
   "outputs": [],
   "source": [
    "plot.visualizer((tic_chromato, time_rn), mod_time)"
   ]
  },
  {
   "cell_type": "code",
   "execution_count": null,
   "id": "6",
   "metadata": {},
   "outputs": [],
   "source": [
    "tic_chromato_preprocessed = baseline_correction.chromato_reduced_noise(tic_chromato)"
   ]
  },
  {
   "cell_type": "code",
   "execution_count": null,
   "id": "7",
   "metadata": {},
   "outputs": [],
   "source": [
    "plot.visualizer((tic_chromato_preprocessed, time_rn), mod_time)"
   ]
  },
  {
   "cell_type": "code",
   "execution_count": null,
   "id": "8",
   "metadata": {},
   "outputs": [],
   "source": [
    "sigma = skimage.restoration.estimate_sigma(tic_chromato_preprocessed, channel_axis=None)\n",
    "print(f\"Estimated noise sigma: {sigma}\")"
   ]
  },
  {
   "cell_type": "code",
   "execution_count": null,
   "id": "9",
   "metadata": {},
   "outputs": [],
   "source": [
    "method = 'peak_local_max'\n",
    "mode= \"tic\"\n",
    "abs_threshold = 0\n",
    "rel_threshold = 0.01\n",
    "noise_factor = 1.5\n",
    "min_persistence = 0.02\n",
    "min_distance = 1\n",
    "sigma_ratio = 1.6\n",
    "num_sigma = 10\n",
    "min_sigma = 1\n",
    "max_sigma = 30\n",
    "overlap = 0.5\n",
    "match_factor_min = 650\n",
    "cluster = True\n",
    "min_samples = 4\n",
    "eps = 3"
   ]
  },
  {
   "cell_type": "code",
   "execution_count": null,
   "id": "10",
   "metadata": {},
   "outputs": [],
   "source": [
    "coordinates = peak_detection.peak_detection(\n",
    "    (tic_chromato_preprocessed, time_rn, None),\n",
    "    chromato_cube=None,\n",
    "    sigma=sigma,\n",
    "    noise_factor=noise_factor,\n",
    "    abs_threshold=abs_threshold,\n",
    "    rel_threshold=rel_threshold,\n",
    "    method=method,\n",
    "    mode=mode,\n",
    "    cluster=cluster,\n",
    "    min_distance=min_distance,\n",
    "    min_sigma=min_sigma,\n",
    "    max_sigma=max_sigma,\n",
    "    sigma_ratio=sigma_ratio,\n",
    "    num_sigma=num_sigma,\n",
    "    min_persistence=min_persistence,\n",
    "    overlap=overlap,\n",
    "    eps=eps,\n",
    "    min_samples=min_samples)"
   ]
  },
  {
   "cell_type": "code",
   "execution_count": null,
   "id": "11",
   "metadata": {},
   "outputs": [],
   "source": [
    "len(coordinates)"
   ]
  },
  {
   "cell_type": "code",
   "execution_count": null,
   "id": "12",
   "metadata": {},
   "outputs": [],
   "source": [
    "coordinates_in_chromato=projection.matrix_to_chromato(coordinates, time_rn, mod_time, tic_chromato_preprocessed.shape)\n"
   ]
  },
  {
   "cell_type": "code",
   "execution_count": null,
   "id": "13",
   "metadata": {},
   "outputs": [],
   "source": [
    "plot.visualizer((tic_chromato_preprocessed, time_rn), mod_time, title=\"chromato\", log_chromato=False, points=coordinates_in_chromato)"
   ]
  }
 ],
 "metadata": {
  "kernelspec": {
   "display_name": ".venv",
   "language": "python",
   "name": "python3"
  },
  "language_info": {
   "codemirror_mode": {
    "name": "ipython",
    "version": 3
   },
   "file_extension": ".py",
   "mimetype": "text/x-python",
   "name": "python",
   "nbconvert_exporter": "python",
   "pygments_lexer": "ipython3",
   "version": "3.12.7"
  }
 },
 "nbformat": 4,
 "nbformat_minor": 5
}
