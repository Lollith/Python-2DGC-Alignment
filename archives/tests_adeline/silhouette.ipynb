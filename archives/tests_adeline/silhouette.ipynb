{
 "cells": [
  {
   "cell_type": "markdown",
   "id": "0",
   "metadata": {},
   "source": [
    "# silhouette simplifiee\n"
   ]
  },
  {
   "cell_type": "markdown",
   "id": "1",
   "metadata": {},
   "source": [
    "- a(i) : la distance moyenne du point à tous les autres points de son propre cluster (cohésion) (intracluster)\n",
    "- b(i) : la distance moyenne minimale du point aux points du cluster voisin le plus proche (séparation)(extra cluster)\n",
    "\n",
    "- L'indice de silhouette s(i) = (b(i) - a(i)) / max(a(i), b(i))"
   ]
  },
  {
   "cell_type": "code",
   "execution_count": null,
   "id": "2",
   "metadata": {
    "vscode": {
     "languageId": "plaintext"
    }
   },
   "outputs": [],
   "source": [
    "from sklearn.metrics import silhouette_score, calinski_harabasz_score"
   ]
  },
  {
   "cell_type": "code",
   "execution_count": null,
   "id": "3",
   "metadata": {},
   "outputs": [],
   "source": [
    "#validation du choix d eps: calcul des distances intra_ cluster (evalu la compaciteé des clusters) : on veut des cluster compacts\n",
    "from sklearn.metrics import pairwise_distances\n",
    "labels = clustering.labels_\n",
    "unique_labels = set(labels)\n",
    "unique_labels.discard(-1)  # Ignore noise\n",
    "intra_distances =[]\n",
    "for label in unique_labels:\n",
    "    cluster_points = coordinates_all_mass[labels == label]\n",
    "    if len(cluster_points) > 1:\n",
    "            centroid = np.mean(cluster_points, axis=0)\n",
    "            dists = np.linalg.norm(cluster_points - centroid, axis=1)\n",
    "            intra_distances.append(np.mean(dists))\n",
    "            overall_mean = np.mean(intra_distances) if intra_distances else np.nan\n",
    "\n",
    "            #: Plus la valeur est petite, plus les clusters sont compacts, ce qui est souvent souhaitable dans l'analyse GC×GC-MS car cela signifie que les points d'un même composé sont bien regroupés.\n",
    "            # Dans l'analyse GC×GC-MS, des clusters compacts suggèrent souvent que le regroupement correspond bien à des composés chimiques réels."
   ]
  },
  {
   "cell_type": "code",
   "execution_count": null,
   "id": "4",
   "metadata": {},
   "outputs": [],
   "source": []
  }
 ],
 "metadata": {
  "language_info": {
   "name": "python"
  }
 },
 "nbformat": 4,
 "nbformat_minor": 5
}
